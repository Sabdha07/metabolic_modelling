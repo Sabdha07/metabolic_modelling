{
 "cells": [
  {
   "cell_type": "markdown",
   "metadata": {},
   "source": [
    "# libraries"
   ]
  },
  {
   "cell_type": "code",
   "execution_count": 2,
   "metadata": {},
   "outputs": [],
   "source": [
    "import cometspy as c\n",
    "import os\n",
    "import pandas as pd\n",
    "import matplotlib.pyplot as plt\n",
    "import cobra\n",
    "import time, random"
   ]
  },
  {
   "cell_type": "code",
   "execution_count": 3,
   "metadata": {},
   "outputs": [],
   "source": [
    "import numpy as np"
   ]
  },
  {
   "cell_type": "code",
   "execution_count": 3,
   "metadata": {},
   "outputs": [
    {
     "name": "stdout",
     "output_type": "stream",
     "text": [
      "Pandas version: 2.0.0\n",
      "NumPy version: 1.26.4\n",
      "Cobra version: 0.29.1\n"
     ]
    }
   ],
   "source": [
    "print(\"Pandas version:\", pd.__version__)\n",
    "print(\"NumPy version:\", np.__version__)\n",
    "print(\"Cobra version:\", cobra.__version__)"
   ]
  },
  {
   "cell_type": "markdown",
   "metadata": {},
   "source": [
    "# data - models and diet"
   ]
  },
  {
   "cell_type": "markdown",
   "metadata": {},
   "source": [
    "## diet"
   ]
  },
  {
   "cell_type": "code",
   "execution_count": 4,
   "metadata": {},
   "outputs": [
    {
     "data": {
      "text/html": [
       "<div>\n",
       "<style scoped>\n",
       "    .dataframe tbody tr th:only-of-type {\n",
       "        vertical-align: middle;\n",
       "    }\n",
       "\n",
       "    .dataframe tbody tr th {\n",
       "        vertical-align: top;\n",
       "    }\n",
       "\n",
       "    .dataframe thead th {\n",
       "        text-align: right;\n",
       "    }\n",
       "</style>\n",
       "<table border=\"1\" class=\"dataframe\">\n",
       "  <thead>\n",
       "    <tr style=\"text-align: right;\">\n",
       "      <th></th>\n",
       "      <th>metabolite_ID</th>\n",
       "      <th>Exchange_reaction</th>\n",
       "      <th>metabolite_name</th>\n",
       "      <th>western</th>\n",
       "      <th>high_fiber</th>\n",
       "    </tr>\n",
       "  </thead>\n",
       "  <tbody>\n",
       "    <tr>\n",
       "      <th>0</th>\n",
       "      <td>arab_L</td>\n",
       "      <td>EX_arab_L(e)</td>\n",
       "      <td>L-arabinose</td>\n",
       "      <td>0.178783</td>\n",
       "      <td>0.047368</td>\n",
       "    </tr>\n",
       "    <tr>\n",
       "      <th>1</th>\n",
       "      <td>cellb</td>\n",
       "      <td>EX_cellb(e)</td>\n",
       "      <td>Cellobiose</td>\n",
       "      <td>0.074493</td>\n",
       "      <td>0.019737</td>\n",
       "    </tr>\n",
       "    <tr>\n",
       "      <th>2</th>\n",
       "      <td>drib</td>\n",
       "      <td>EX_drib(e)</td>\n",
       "      <td>2-deoxy-D-ribose</td>\n",
       "      <td>0.178783</td>\n",
       "      <td>0.047368</td>\n",
       "    </tr>\n",
       "    <tr>\n",
       "      <th>3</th>\n",
       "      <td>fru</td>\n",
       "      <td>EX_fru(e)</td>\n",
       "      <td>D-Fructose</td>\n",
       "      <td>0.148986</td>\n",
       "      <td>0.039474</td>\n",
       "    </tr>\n",
       "    <tr>\n",
       "      <th>4</th>\n",
       "      <td>fuc_L</td>\n",
       "      <td>EX_fuc_L(e)</td>\n",
       "      <td>L-fucose</td>\n",
       "      <td>0.148986</td>\n",
       "      <td>0.039474</td>\n",
       "    </tr>\n",
       "  </tbody>\n",
       "</table>\n",
       "</div>"
      ],
      "text/plain": [
       "  metabolite_ID Exchange_reaction   metabolite_name   western  high_fiber\n",
       "0        arab_L      EX_arab_L(e)       L-arabinose  0.178783    0.047368\n",
       "1         cellb       EX_cellb(e)        Cellobiose  0.074493    0.019737\n",
       "2          drib        EX_drib(e)  2-deoxy-D-ribose  0.178783    0.047368\n",
       "3           fru         EX_fru(e)        D-Fructose  0.148986    0.039474\n",
       "4         fuc_L       EX_fuc_L(e)          L-fucose  0.148986    0.039474"
      ]
     },
     "execution_count": 4,
     "metadata": {},
     "output_type": "execute_result"
    }
   ],
   "source": [
    "#diet\n",
    "diet = pd.read_csv('Magnusdottir_2017_TableS12_diets.csv')\n",
    "diet.head()"
   ]
  },
  {
   "cell_type": "code",
   "execution_count": 5,
   "metadata": {},
   "outputs": [],
   "source": [
    "diet_dict = dict(zip(diet['metabolite_ID'], diet['western'])) #initial diet dictionary"
   ]
  },
  {
   "cell_type": "code",
   "execution_count": 20,
   "metadata": {},
   "outputs": [],
   "source": [
    "lis = diet['Exchange_reaction']\n",
    "#print(lis)\n",
    "if any(item.strip() == 'EX_o2(e)' for item in lis):\n",
    "    print('yes')\n"
   ]
  },
  {
   "cell_type": "markdown",
   "metadata": {},
   "source": [
    "## models"
   ]
  },
  {
   "cell_type": "code",
   "execution_count": 6,
   "metadata": {},
   "outputs": [
    {
     "name": "stdout",
     "output_type": "stream",
     "text": [
      "loading model 1 of 20 models...\n",
      "loading model 2 of 20 models...\n",
      "loading model 3 of 20 models...\n",
      "loading model 4 of 20 models...\n",
      "loading model 5 of 20 models...\n",
      "loading model 6 of 20 models...\n",
      "loading model 7 of 20 models...\n",
      "loading model 8 of 20 models...\n",
      "loading model 9 of 20 models...\n",
      "loading model 10 of 20 models...\n",
      "loading model 11 of 20 models...\n",
      "loading model 12 of 20 models...\n",
      "loading model 13 of 20 models...\n",
      "loading model 14 of 20 models...\n",
      "loading model 15 of 20 models...\n",
      "loading model 16 of 20 models...\n",
      "loading model 17 of 20 models...\n",
      "loading model 18 of 20 models...\n",
      "loading model 19 of 20 models...\n",
      "loading model 20 of 20 models...\n",
      "Done loading the models!\n"
     ]
    }
   ],
   "source": [
    "# model dict to store the models\n",
    "\n",
    "models_dir = \"models20\"\n",
    "model_files = sorted(os.listdir(models_dir))\n",
    "\n",
    "models_meta = {} # id: name\n",
    "models = {} # id: model\n",
    "#comets_models = {} # id: comets model\n",
    "\n",
    "for i in range(20): #change range according to the number of models\n",
    "    model_name = model_files[i].split(\".\")[0]\n",
    "    model_path = os.path.join(models_dir, model_files[i])\n",
    "    models_meta[i+1] = model_name #update metadata\n",
    "    print('loading model', i+1,'of 20 models...')\n",
    "\n",
    "    model = cobra.io.read_sbml_model(model_path) \n",
    "    models[i+1] = model #update models dict\n",
    "    #comets_model = c.model(model)\n",
    "\n",
    "print('Done loading the models!')"
   ]
  },
  {
   "cell_type": "markdown",
   "metadata": {},
   "source": [
    "# preprocessing steps for models"
   ]
  },
  {
   "cell_type": "markdown",
   "metadata": {},
   "source": [
    "# monocultures"
   ]
  },
  {
   "cell_type": "code",
   "execution_count": 8,
   "metadata": {},
   "outputs": [
    {
     "data": {
      "text/html": [
       "<div>\n",
       "<style scoped>\n",
       "    .dataframe tbody tr th:only-of-type {\n",
       "        vertical-align: middle;\n",
       "    }\n",
       "\n",
       "    .dataframe tbody tr th {\n",
       "        vertical-align: top;\n",
       "    }\n",
       "\n",
       "    .dataframe thead th {\n",
       "        text-align: right;\n",
       "    }\n",
       "</style>\n",
       "<table border=\"1\" class=\"dataframe\">\n",
       "  <thead>\n",
       "    <tr style=\"text-align: right;\">\n",
       "      <th></th>\n",
       "      <th>VALUE</th>\n",
       "      <th>UNITS</th>\n",
       "    </tr>\n",
       "  </thead>\n",
       "  <tbody>\n",
       "    <tr>\n",
       "      <th>BiomassLogName</th>\n",
       "      <td>biomass</td>\n",
       "      <td></td>\n",
       "    </tr>\n",
       "    <tr>\n",
       "      <th>BiomassLogRate</th>\n",
       "      <td>1</td>\n",
       "      <td>cycles</td>\n",
       "    </tr>\n",
       "    <tr>\n",
       "      <th>FluxLogName</th>\n",
       "      <td>flux_out</td>\n",
       "      <td></td>\n",
       "    </tr>\n",
       "    <tr>\n",
       "      <th>FluxLogRate</th>\n",
       "      <td>1</td>\n",
       "      <td>cycles</td>\n",
       "    </tr>\n",
       "    <tr>\n",
       "      <th>MediaLogName</th>\n",
       "      <td>media_out</td>\n",
       "      <td></td>\n",
       "    </tr>\n",
       "    <tr>\n",
       "      <th>...</th>\n",
       "      <td>...</td>\n",
       "      <td>...</td>\n",
       "    </tr>\n",
       "    <tr>\n",
       "      <th>writeBiomassLog</th>\n",
       "      <td>False</td>\n",
       "      <td>logical</td>\n",
       "    </tr>\n",
       "    <tr>\n",
       "      <th>writeFluxLog</th>\n",
       "      <td>False</td>\n",
       "      <td>logical</td>\n",
       "    </tr>\n",
       "    <tr>\n",
       "      <th>writeMediaLog</th>\n",
       "      <td>False</td>\n",
       "      <td>logical</td>\n",
       "    </tr>\n",
       "    <tr>\n",
       "      <th>writeSpecificMediaLog</th>\n",
       "      <td>False</td>\n",
       "      <td>logical</td>\n",
       "    </tr>\n",
       "    <tr>\n",
       "      <th>writeTotalBiomassLog</th>\n",
       "      <td>True</td>\n",
       "      <td>logical</td>\n",
       "    </tr>\n",
       "  </tbody>\n",
       "</table>\n",
       "<p>62 rows × 2 columns</p>\n",
       "</div>"
      ],
      "text/plain": [
       "                           VALUE    UNITS\n",
       "BiomassLogName           biomass         \n",
       "BiomassLogRate                 1   cycles\n",
       "FluxLogName             flux_out         \n",
       "FluxLogRate                    1   cycles\n",
       "MediaLogName           media_out         \n",
       "...                          ...      ...\n",
       "writeBiomassLog            False  logical\n",
       "writeFluxLog               False  logical\n",
       "writeMediaLog              False  logical\n",
       "writeSpecificMediaLog      False  logical\n",
       "writeTotalBiomassLog        True  logical\n",
       "\n",
       "[62 rows x 2 columns]"
      ]
     },
     "execution_count": 8,
     "metadata": {},
     "output_type": "execute_result"
    }
   ],
   "source": [
    "#parameters - chemostat condition\n",
    "#part1\n",
    "\n",
    "mono_params = c.params()\n",
    "\n",
    "mono_params.set_param(\"spaceWidth\", 0.1)\n",
    "mono_params.set_param(\"defaultVmax\", 20.) #vmax = 20 mmol gDW-1h-1 for all metabolites\n",
    "mono_params.set_param(\"defaultKm\", 0.05) #km = 0.05 mmol\n",
    "\n",
    "mono_params.set_param('timeStep', 0.1) #hours - The amount of time between two consecutive simulation updates\n",
    "mono_params.set_param('maxSpaceBiomass', 10.) #gDW\n",
    "mono_params.set_param('maxCycles', 300) #duration of simulation in timesteps - number of simulation cycles #30 hours\n",
    "\n",
    "#save media and flux data\n",
    "mono_params.set_param('writeFluxLog', False)\n",
    "mono_params.set_param('writeMediaLog', False)\n",
    "mono_params.set_param('FluxLogRate', 1)\n",
    "mono_params.set_param('MediaLogRate', 1)\n",
    "#mono_params.set_param('writeBiomassLog', True) \n",
    "mono_params.set_param('writeTotalBiomassLog', True) #save to output if True\n",
    "mono_params.show_params()\n"
   ]
  },
  {
   "cell_type": "code",
   "execution_count": null,
   "metadata": {},
   "outputs": [],
   "source": [
    "initial_pop = 0.01 #initial population of the model\n",
    "dilution_rate = 0.1 # /hr\n",
    "biomass_dict = {} #initialize biomass dict for storing timeseries biomass data - id:timeseries biomass data\n",
    "#media_dict = {} #initialize media dict for storing timeseries media data - id:timeseries media data\n",
    "biomass_df = pd.DataFrame() #initialize dataframe to store biomass data\n",
    "#media_df = pd.DataFrame() #initialize dataframe to store media data\n",
    "\n",
    "#parameters update part2\n",
    "mono_params.set_param('deathRate', dilution_rate)\n",
    "mono_params.set_param('metaboliteDilutionRate', dilution_rate)\n",
    "\n",
    "#time watch\n",
    "start_time = time.time()\n",
    "\n",
    "# create layout and run monoculture simulations\n",
    "for i in range(20):\n",
    "    model = models[i+1]\n",
    "    #make comets model\n",
    "    comets_model = c.model(model)\n",
    "    #set model id\n",
    "    comets_model.id = 'model' + str(i+1)\n",
    "    #set initial population and open exchanges\n",
    "    comets_model.initial_pop = [0,0,initial_pop] # x, y, gDW\n",
    "    comets_model.open_exchanges()\n",
    "\n",
    "    #create layout\n",
    "    print('Constructing layout for model', i+1, '...')\n",
    "    mono_layout = c.layout(comets_model)\n",
    "    #print(mono_layout.get_model_ids())\n",
    "\n",
    "    ## NOTE: cobrapy media are set using exchange reaction IDs, whereas COMETS media are set using metabolite ids\n",
    "\n",
    "    #set diet\n",
    "    for met in diet_dict:\n",
    "        metabolite = (met+'[e]')\n",
    "        conc = diet_dict[met]\n",
    "        #print(metabolite, conc)\n",
    "        if metabolite in mono_layout.media['metabolite'].values:\n",
    "            mono_layout.set_specific_metabolite(metabolite, conc) #todo: find a way to suppress warnings\n",
    "\n",
    "    #set media refresh rate - chemostat conditions\n",
    "    for met in mono_layout.media['metabolite']:\n",
    "        initconc = mono_layout.media[mono_layout.media['metabolite'] == met]['init_amount'].values[0]\n",
    "        refreshrate = initconc*dilution_rate\n",
    "        mono_layout.set_specific_refresh(met, refreshrate)\n",
    "\n",
    "    simulation = c.comets(mono_layout, mono_params)\n",
    "    simulation.run()\n",
    "\n",
    "    #save biomass data\n",
    "    biomass_dict[i+1] = simulation.total_biomass\n",
    "    #media_dict[i] = simulation.get_metabolite_time_series()\n",
    "    \n",
    "    #save cycle indices to dataframe\n",
    "    if i == 0:\n",
    "        biomass_df['cycle'] = biomass_dict[i+1]['cycle']\n",
    "        #media_df['cycle'] = simulation.get_cycle_indices()\n",
    "\n",
    "    #save biomass data to dataframe\n",
    "    biomass_df['model'+str(i+1)] = biomass_dict[i+1][f'model{i+1}']\n",
    "\n",
    "    print('model', i+1, 'done!')\n",
    "    print('\\n\\n ************************************ \\n\\n')\n",
    "    time.sleep(2) #sleep for 5 seconds to avoid overloading the server\n",
    "\n",
    "end_time = time.time()\n",
    "print('Monoculture simulations done!')\n",
    "print('Time taken:', end_time-start_time, 'seconds')"
   ]
  },
  {
   "cell_type": "code",
   "execution_count": 13,
   "metadata": {},
   "outputs": [
    {
     "data": {
      "text/html": [
       "<div>\n",
       "<style scoped>\n",
       "    .dataframe tbody tr th:only-of-type {\n",
       "        vertical-align: middle;\n",
       "    }\n",
       "\n",
       "    .dataframe tbody tr th {\n",
       "        vertical-align: top;\n",
       "    }\n",
       "\n",
       "    .dataframe thead th {\n",
       "        text-align: right;\n",
       "    }\n",
       "</style>\n",
       "<table border=\"1\" class=\"dataframe\">\n",
       "  <thead>\n",
       "    <tr style=\"text-align: right;\">\n",
       "      <th></th>\n",
       "      <th>cycle</th>\n",
       "      <th>model1</th>\n",
       "      <th>model2</th>\n",
       "      <th>model3</th>\n",
       "      <th>model4</th>\n",
       "      <th>model5</th>\n",
       "      <th>model6</th>\n",
       "      <th>model7</th>\n",
       "      <th>model8</th>\n",
       "      <th>model9</th>\n",
       "      <th>...</th>\n",
       "      <th>model11</th>\n",
       "      <th>model12</th>\n",
       "      <th>model13</th>\n",
       "      <th>model14</th>\n",
       "      <th>model15</th>\n",
       "      <th>model16</th>\n",
       "      <th>model17</th>\n",
       "      <th>model18</th>\n",
       "      <th>model19</th>\n",
       "      <th>model20</th>\n",
       "    </tr>\n",
       "  </thead>\n",
       "  <tbody>\n",
       "    <tr>\n",
       "      <th>0</th>\n",
       "      <td>0</td>\n",
       "      <td>0.010000</td>\n",
       "      <td>0.010000</td>\n",
       "      <td>0.010000</td>\n",
       "      <td>0.010000</td>\n",
       "      <td>0.010000</td>\n",
       "      <td>0.010000</td>\n",
       "      <td>0.010000</td>\n",
       "      <td>0.010000</td>\n",
       "      <td>0.010000</td>\n",
       "      <td>...</td>\n",
       "      <td>0.010000</td>\n",
       "      <td>0.010000</td>\n",
       "      <td>0.010000</td>\n",
       "      <td>0.010000</td>\n",
       "      <td>0.010000</td>\n",
       "      <td>0.010000</td>\n",
       "      <td>0.010000</td>\n",
       "      <td>0.010000</td>\n",
       "      <td>0.010000</td>\n",
       "      <td>0.010000</td>\n",
       "    </tr>\n",
       "    <tr>\n",
       "      <th>1</th>\n",
       "      <td>1</td>\n",
       "      <td>0.020575</td>\n",
       "      <td>0.039824</td>\n",
       "      <td>0.027137</td>\n",
       "      <td>0.009900</td>\n",
       "      <td>0.030972</td>\n",
       "      <td>0.026983</td>\n",
       "      <td>0.046556</td>\n",
       "      <td>0.009900</td>\n",
       "      <td>0.050672</td>\n",
       "      <td>...</td>\n",
       "      <td>0.009900</td>\n",
       "      <td>0.009900</td>\n",
       "      <td>0.050924</td>\n",
       "      <td>0.009900</td>\n",
       "      <td>0.026983</td>\n",
       "      <td>0.016944</td>\n",
       "      <td>0.027137</td>\n",
       "      <td>0.009900</td>\n",
       "      <td>0.041828</td>\n",
       "      <td>0.009900</td>\n",
       "    </tr>\n",
       "    <tr>\n",
       "      <th>2</th>\n",
       "      <td>2</td>\n",
       "      <td>0.042330</td>\n",
       "      <td>0.141260</td>\n",
       "      <td>0.073640</td>\n",
       "      <td>0.009801</td>\n",
       "      <td>0.088784</td>\n",
       "      <td>0.072810</td>\n",
       "      <td>0.197220</td>\n",
       "      <td>0.009801</td>\n",
       "      <td>0.222699</td>\n",
       "      <td>...</td>\n",
       "      <td>0.009801</td>\n",
       "      <td>0.009801</td>\n",
       "      <td>0.214407</td>\n",
       "      <td>0.009801</td>\n",
       "      <td>0.072810</td>\n",
       "      <td>0.028708</td>\n",
       "      <td>0.073640</td>\n",
       "      <td>0.009801</td>\n",
       "      <td>0.163527</td>\n",
       "      <td>0.009801</td>\n",
       "    </tr>\n",
       "    <tr>\n",
       "      <th>3</th>\n",
       "      <td>3</td>\n",
       "      <td>0.071482</td>\n",
       "      <td>0.303650</td>\n",
       "      <td>0.153892</td>\n",
       "      <td>0.009703</td>\n",
       "      <td>0.152350</td>\n",
       "      <td>0.108044</td>\n",
       "      <td>0.434087</td>\n",
       "      <td>0.009703</td>\n",
       "      <td>0.523097</td>\n",
       "      <td>...</td>\n",
       "      <td>0.009703</td>\n",
       "      <td>0.009703</td>\n",
       "      <td>0.427891</td>\n",
       "      <td>0.009703</td>\n",
       "      <td>0.196463</td>\n",
       "      <td>0.042667</td>\n",
       "      <td>0.170708</td>\n",
       "      <td>0.009703</td>\n",
       "      <td>0.365872</td>\n",
       "      <td>0.009703</td>\n",
       "    </tr>\n",
       "    <tr>\n",
       "      <th>4</th>\n",
       "      <td>4</td>\n",
       "      <td>0.094051</td>\n",
       "      <td>0.419813</td>\n",
       "      <td>0.228999</td>\n",
       "      <td>0.009606</td>\n",
       "      <td>0.208726</td>\n",
       "      <td>0.121386</td>\n",
       "      <td>0.692082</td>\n",
       "      <td>0.009606</td>\n",
       "      <td>0.788879</td>\n",
       "      <td>...</td>\n",
       "      <td>0.009606</td>\n",
       "      <td>0.009606</td>\n",
       "      <td>0.628601</td>\n",
       "      <td>0.009606</td>\n",
       "      <td>0.255613</td>\n",
       "      <td>0.054276</td>\n",
       "      <td>0.241245</td>\n",
       "      <td>0.009606</td>\n",
       "      <td>0.467242</td>\n",
       "      <td>0.009606</td>\n",
       "    </tr>\n",
       "  </tbody>\n",
       "</table>\n",
       "<p>5 rows × 21 columns</p>\n",
       "</div>"
      ],
      "text/plain": [
       "   cycle    model1    model2    model3    model4    model5    model6   \n",
       "0      0  0.010000  0.010000  0.010000  0.010000  0.010000  0.010000  \\\n",
       "1      1  0.020575  0.039824  0.027137  0.009900  0.030972  0.026983   \n",
       "2      2  0.042330  0.141260  0.073640  0.009801  0.088784  0.072810   \n",
       "3      3  0.071482  0.303650  0.153892  0.009703  0.152350  0.108044   \n",
       "4      4  0.094051  0.419813  0.228999  0.009606  0.208726  0.121386   \n",
       "\n",
       "     model7    model8    model9  ...   model11   model12   model13   model14   \n",
       "0  0.010000  0.010000  0.010000  ...  0.010000  0.010000  0.010000  0.010000  \\\n",
       "1  0.046556  0.009900  0.050672  ...  0.009900  0.009900  0.050924  0.009900   \n",
       "2  0.197220  0.009801  0.222699  ...  0.009801  0.009801  0.214407  0.009801   \n",
       "3  0.434087  0.009703  0.523097  ...  0.009703  0.009703  0.427891  0.009703   \n",
       "4  0.692082  0.009606  0.788879  ...  0.009606  0.009606  0.628601  0.009606   \n",
       "\n",
       "    model15   model16   model17   model18   model19   model20  \n",
       "0  0.010000  0.010000  0.010000  0.010000  0.010000  0.010000  \n",
       "1  0.026983  0.016944  0.027137  0.009900  0.041828  0.009900  \n",
       "2  0.072810  0.028708  0.073640  0.009801  0.163527  0.009801  \n",
       "3  0.196463  0.042667  0.170708  0.009703  0.365872  0.009703  \n",
       "4  0.255613  0.054276  0.241245  0.009606  0.467242  0.009606  \n",
       "\n",
       "[5 rows x 21 columns]"
      ]
     },
     "execution_count": 13,
     "metadata": {},
     "output_type": "execute_result"
    }
   ],
   "source": [
    "biomass_df.head()"
   ]
  },
  {
   "cell_type": "code",
   "execution_count": 14,
   "metadata": {},
   "outputs": [],
   "source": [
    "biomass_df.to_csv('biomass_data_20spmonoculture_30hrs.csv', index=False)"
   ]
  },
  {
   "cell_type": "markdown",
   "metadata": {},
   "source": [
    "# plotting - monoculture rates"
   ]
  },
  {
   "cell_type": "code",
   "execution_count": 16,
   "metadata": {},
   "outputs": [
    {
     "data": {
      "text/html": [
       "<div>\n",
       "<style scoped>\n",
       "    .dataframe tbody tr th:only-of-type {\n",
       "        vertical-align: middle;\n",
       "    }\n",
       "\n",
       "    .dataframe tbody tr th {\n",
       "        vertical-align: top;\n",
       "    }\n",
       "\n",
       "    .dataframe thead th {\n",
       "        text-align: right;\n",
       "    }\n",
       "</style>\n",
       "<table border=\"1\" class=\"dataframe\">\n",
       "  <thead>\n",
       "    <tr style=\"text-align: right;\">\n",
       "      <th></th>\n",
       "      <th>cycle</th>\n",
       "      <th>model0</th>\n",
       "      <th>model1</th>\n",
       "      <th>model2</th>\n",
       "      <th>model3</th>\n",
       "    </tr>\n",
       "  </thead>\n",
       "  <tbody>\n",
       "    <tr>\n",
       "      <th>0</th>\n",
       "      <td>0</td>\n",
       "      <td>0.010000</td>\n",
       "      <td>0.010000</td>\n",
       "      <td>0.010000</td>\n",
       "      <td>0.010000</td>\n",
       "    </tr>\n",
       "    <tr>\n",
       "      <th>1</th>\n",
       "      <td>1</td>\n",
       "      <td>0.020575</td>\n",
       "      <td>0.039824</td>\n",
       "      <td>0.027137</td>\n",
       "      <td>0.009900</td>\n",
       "    </tr>\n",
       "    <tr>\n",
       "      <th>2</th>\n",
       "      <td>2</td>\n",
       "      <td>0.042330</td>\n",
       "      <td>0.141260</td>\n",
       "      <td>0.073640</td>\n",
       "      <td>0.009801</td>\n",
       "    </tr>\n",
       "    <tr>\n",
       "      <th>3</th>\n",
       "      <td>3</td>\n",
       "      <td>0.071482</td>\n",
       "      <td>0.303650</td>\n",
       "      <td>0.153892</td>\n",
       "      <td>0.009703</td>\n",
       "    </tr>\n",
       "    <tr>\n",
       "      <th>4</th>\n",
       "      <td>4</td>\n",
       "      <td>0.094051</td>\n",
       "      <td>0.419813</td>\n",
       "      <td>0.228999</td>\n",
       "      <td>0.009606</td>\n",
       "    </tr>\n",
       "    <tr>\n",
       "      <th>...</th>\n",
       "      <td>...</td>\n",
       "      <td>...</td>\n",
       "      <td>...</td>\n",
       "      <td>...</td>\n",
       "      <td>...</td>\n",
       "    </tr>\n",
       "    <tr>\n",
       "      <th>296</th>\n",
       "      <td>296</td>\n",
       "      <td>0.196617</td>\n",
       "      <td>0.418229</td>\n",
       "      <td>0.382563</td>\n",
       "      <td>0.000511</td>\n",
       "    </tr>\n",
       "    <tr>\n",
       "      <th>297</th>\n",
       "      <td>297</td>\n",
       "      <td>0.196633</td>\n",
       "      <td>0.418226</td>\n",
       "      <td>0.382584</td>\n",
       "      <td>0.000505</td>\n",
       "    </tr>\n",
       "    <tr>\n",
       "      <th>298</th>\n",
       "      <td>298</td>\n",
       "      <td>0.196649</td>\n",
       "      <td>0.418224</td>\n",
       "      <td>0.382606</td>\n",
       "      <td>0.000500</td>\n",
       "    </tr>\n",
       "    <tr>\n",
       "      <th>299</th>\n",
       "      <td>299</td>\n",
       "      <td>0.196664</td>\n",
       "      <td>0.418221</td>\n",
       "      <td>0.382627</td>\n",
       "      <td>0.000495</td>\n",
       "    </tr>\n",
       "    <tr>\n",
       "      <th>300</th>\n",
       "      <td>300</td>\n",
       "      <td>0.196680</td>\n",
       "      <td>0.418219</td>\n",
       "      <td>0.382647</td>\n",
       "      <td>0.000490</td>\n",
       "    </tr>\n",
       "  </tbody>\n",
       "</table>\n",
       "<p>301 rows × 5 columns</p>\n",
       "</div>"
      ],
      "text/plain": [
       "     cycle    model0    model1    model2    model3\n",
       "0        0  0.010000  0.010000  0.010000  0.010000\n",
       "1        1  0.020575  0.039824  0.027137  0.009900\n",
       "2        2  0.042330  0.141260  0.073640  0.009801\n",
       "3        3  0.071482  0.303650  0.153892  0.009703\n",
       "4        4  0.094051  0.419813  0.228999  0.009606\n",
       "..     ...       ...       ...       ...       ...\n",
       "296    296  0.196617  0.418229  0.382563  0.000511\n",
       "297    297  0.196633  0.418226  0.382584  0.000505\n",
       "298    298  0.196649  0.418224  0.382606  0.000500\n",
       "299    299  0.196664  0.418221  0.382627  0.000495\n",
       "300    300  0.196680  0.418219  0.382647  0.000490\n",
       "\n",
       "[301 rows x 5 columns]"
      ]
     },
     "execution_count": 16,
     "metadata": {},
     "output_type": "execute_result"
    }
   ],
   "source": [
    "biomass_df = pd.DataFrame(biomass_dict[0]['cycle'])\n",
    "for i in biomass_dict:\n",
    "    biomass_df[f'model{i}'] = biomass_dict[i][f'model{i}']\n",
    "biomass_df"
   ]
  },
  {
   "cell_type": "code",
   "execution_count": 68,
   "metadata": {},
   "outputs": [
    {
     "data": {
      "image/png": "[encoded data removed]",
      "text/plain": [
       "<Figure size 1500x1500 with 20 Axes>"
      ]
     },
     "metadata": {},
     "output_type": "display_data"
    }
   ],
   "source": [
    "import matplotlib.pyplot as plt\n",
    "\n",
    "# Create a figure and axes for subplots\n",
    "fig, axs = plt.subplots(5, 4, figsize=(15, 15))#, hspace=0.5)\n",
    "\n",
    "# Flatten the axes array for easy indexing\n",
    "axs = axs.flatten()\n",
    "\n",
    "# Iterate over the models and plot the dataframes\n",
    "for i in range(20):\n",
    "    # Get the dataframe for the current model\n",
    "    df = biomass_dict[i]\n",
    "    \n",
    "    # Plot the dataframe on the corresponding subplot\n",
    "    axs[i].plot(df['cycle'], df[f\"model{i}\"])\n",
    "    axs[i].set_title(f\"Model {i}\")\n",
    "    if i >= 16:\n",
    "        axs[i].set_xlabel(\"cycle\")\n",
    "\n",
    "    if i % 4 == 0:\n",
    "        axs[i].set_ylabel(\"biomass\")\n",
    "\n",
    "# Adjust the spacing between subplots\n",
    "plt.tight_layout()\n",
    "\n",
    "# Show the plot\n",
    "plt.show()\n"
   ]
  },
  {
   "cell_type": "markdown",
   "metadata": {},
   "source": [
    "# pairwise"
   ]
  },
  {
   "cell_type": "code",
   "execution_count": 24,
   "metadata": {},
   "outputs": [
    {
     "data": {
      "text/plain": [
       "190"
      ]
     },
     "execution_count": 24,
     "metadata": {},
     "output_type": "execute_result"
    }
   ],
   "source": [
    "from itertools import combinations\n",
    "pairwise_numbers = list(combinations(range(1, 21), 2))\n",
    "len(pairwise_numbers)"
   ]
  },
  {
   "cell_type": "code",
   "execution_count": 25,
   "metadata": {},
   "outputs": [
    {
     "data": {
      "text/plain": [
       "{1: <Model M_Actinomyces_odontolyticus_ATCC_17982__44____32__AGORA__32__version__32__1__46__03 at 0x1a08dbac950>,\n",
       " 2: <Model M_Bacteroides_eggerthii_DSM_20697__44____32__AGORA__32__version__32__1__46__03 at 0x1a0b78b8200>,\n",
       " 3: <Model M_Bacteroides_ovatus_ATCC_8483__44____32__AGORA__32__version__32__1__46__03 at 0x1a0b8170320>,\n",
       " 4: <Model M_Bacteroides_thetaiotaomicron_VPI_5482__44____32__AGORA__32__version__32__1__46__03 at 0x1a0bacfc650>,\n",
       " 5: <Model M_Bifidobacterium_longum_infantis_ATCC_15697__44____32__AGORA__32__version__32__1__46__03 at 0x1a0bb61c950>,\n",
       " 6: <Model M_Butyrivibrio_fibrisolvens_16_4__44____32__AGORA__32__version__32__1__46__03 at 0x1a0bbf94650>,\n",
       " 7: <Model M_Citrobacter_freundii_UCI_31__44____32__AGORA__32__version__32__1__46__03 at 0x1a0bc9f4590>,\n",
       " 8: <Model M_Clostridium_butyricum_DSM_10702__44____32__AGORA__32__version__32__1__46__03 at 0x1a0bbfc7980>,\n",
       " 9: <Model M_Escherichia_coli_O157_H7_str_Sakai__44____32__AGORA__32__version__32__1__46__03 at 0x1a0c0ccc170>,\n",
       " 10: <Model M_Escherichia_coli_str_K_12_substr_MG1655__44____32__AGORA__32__version__32__1__46__03 at 0x1a0c15c41a0>,\n",
       " 11: <Model M_Eubacterium_eligens_ATCC_27750__44____32__AGORA__32__version__32__1__46__03 at 0x1a0bc2b5c10>,\n",
       " 12: <Model M_Faecalibacterium_prausnitzii_M21_2__44____32__AGORA__32__version__32__1__46__03 at 0x1a0c30c81a0>,\n",
       " 13: <Model M_Klebsiella_pneumoniae_pneumoniae_MGH78578__44____32__AGORA__32__version__32__1__46__03 at 0x1a0bf980ec0>,\n",
       " 14: <Model M_Lactococcus_lactis_subsp_lactis_Il1403__44____32__AGORA__32__version__32__1__46__03 at 0x1a0c4ecc4a0>,\n",
       " 15: <Model M_Listeria_grayi_DSM_20601__44____32__AGORA__32__version__32__1__46__03 at 0x1a0c4ac0110>,\n",
       " 16: <Model M_Micrococcus_luteus_NCTC_2665__44____32__AGORA__32__version__32__1__46__03 at 0x1a0c65bc1d0>,\n",
       " 17: <Model M_Parabacteroides_merdae_ATCC_43184__44____32__AGORA__32__version__32__1__46__03 at 0x1a0c6ea4530>,\n",
       " 18: <Model M_Ruminococcus_albus_7__44____32__AGORA__32__version__32__1__46__03 at 0x1a0c76f4350>,\n",
       " 19: <Model M_Serratia_liquefaciens_ATCC_27592__44____32__AGORA__32__version__32__1__46__03 at 0x1a0c80005f0>,\n",
       " 20: <Model M_Staphylococcus_epidermidis_ATCC_12228__44____32__AGORA__32__version__32__1__46__03 at 0x1a0c97ec710>}"
      ]
     },
     "execution_count": 25,
     "metadata": {},
     "output_type": "execute_result"
    }
   ],
   "source": [
    "models"
   ]
  },
  {
   "cell_type": "code",
   "execution_count": 29,
   "metadata": {},
   "outputs": [],
   "source": [
    "#params\n",
    "\n",
    "pairwise_params = c.params()\n",
    "pairwise_params = c.params()\n",
    "pairwise_params.set_param('deathRate', dilution_rate)\n",
    "pairwise_params.set_param('metaboliteDilutionRate', dilution_rate)\n",
    "\n",
    "pairwise_params.set_param(\"spaceWidth\", 0.1)\n",
    "pairwise_params.set_param(\"defaultVmax\", 20.) #vmax = 20 mmol gDW-1h-1 for all metabolites\n",
    "pairwise_params.set_param(\"defaultKm\", 0.05) #km = 0.05 mmol\n",
    "\n",
    "pairwise_params.set_param('timeStep', 0.1) #hours - The amount of time between two consecutive simulation updates\n",
    "pairwise_params.set_param('maxSpaceBiomass', 10.) #gDW\n",
    "pairwise_params.set_param('maxCycles', 300) #duration of simulation in timesteps - number of simulation cycles\n",
    "\n",
    "#save media and flux data\n",
    "pairwise_params.set_param('writeFluxLog', False)\n",
    "pairwise_params.set_param('writeMediaLog', False)\n",
    "#pairwise_params.set_param('FluxLogRate', 1)\n",
    "#pairwise_params.set_param('MediaLogRate', 1)\n"
   ]
  },
  {
   "cell_type": "code",
   "execution_count": 43,
   "metadata": {},
   "outputs": [],
   "source": [
    "import warnings\n",
    "# Suppress the specific warning\n",
    "warnings.filterwarnings(\"ignore\", category=FutureWarning)\n",
    "\n",
    "\n",
    "# Reset the warning filter\n",
    "#warnings.resetwarnings()"
   ]
  },
  {
   "cell_type": "code",
   "execution_count": 47,
   "metadata": {},
   "outputs": [
    {
     "name": "stdout",
     "output_type": "stream",
     "text": [
      "1 of 190: Constructing layout for model 1 and model 2 ...\n",
      "\n",
      "Running COMETS simulation ...\n",
      "\n",
      "Debug Here ...\n",
      "Done!\n",
      "pairwise 1 2 done!\n",
      "2 of 190: Constructing layout for model 1 and model 3 ...\n",
      "\n",
      "Running COMETS simulation ...\n",
      "\n",
      "Debug Here ...\n",
      "Done!\n",
      "pairwise 1 3 done!\n",
      "3 of 190: Constructing layout for model 1 and model 4 ...\n",
      "\n",
      "Running COMETS simulation ...\n",
      "\n",
      "Debug Here ...\n",
      "Done!\n",
      "pairwise 1 4 done!\n",
      "4 of 190: Constructing layout for model 1 and model 5 ...\n",
      "\n",
      "Running COMETS simulation ...\n",
      "\n",
      "Debug Here ...\n",
      "Done!\n",
      "pairwise 1 5 done!\n",
      "5 of 190: Constructing layout for model 1 and model 6 ...\n",
      "\n",
      "Running COMETS simulation ...\n",
      "\n",
      "Debug Here ...\n",
      "Done!\n",
      "pairwise 1 6 done!\n",
      "6 of 190: Constructing layout for model 1 and model 7 ...\n",
      "\n",
      "Running COMETS simulation ...\n",
      "\n",
      "Debug Here ...\n",
      "Done!\n",
      "pairwise 1 7 done!\n",
      "7 of 190: Constructing layout for model 1 and model 8 ...\n",
      "\n",
      "Running COMETS simulation ...\n",
      "\n",
      "Debug Here ...\n",
      "Done!\n",
      "pairwise 1 8 done!\n",
      "8 of 190: Constructing layout for model 1 and model 9 ...\n",
      "\n",
      "Running COMETS simulation ...\n",
      "\n",
      "Debug Here ...\n",
      "Done!\n",
      "pairwise 1 9 done!\n",
      "9 of 190: Constructing layout for model 1 and model 10 ...\n",
      "\n",
      "Running COMETS simulation ...\n",
      "\n",
      "Debug Here ...\n",
      "Done!\n",
      "pairwise 1 10 done!\n",
      "10 of 190: Constructing layout for model 1 and model 11 ...\n",
      "\n",
      "Running COMETS simulation ...\n",
      "\n",
      "Debug Here ...\n",
      "Done!\n",
      "pairwise 1 11 done!\n",
      "11 of 190: Constructing layout for model 1 and model 12 ...\n",
      "\n",
      "Running COMETS simulation ...\n",
      "\n",
      "Debug Here ...\n",
      "Done!\n",
      "pairwise 1 12 done!\n",
      "12 of 190: Constructing layout for model 1 and model 13 ...\n",
      "\n",
      "Running COMETS simulation ...\n",
      "\n",
      "Debug Here ...\n",
      "Done!\n",
      "pairwise 1 13 done!\n",
      "13 of 190: Constructing layout for model 1 and model 14 ...\n",
      "\n",
      "Running COMETS simulation ...\n",
      "\n",
      "Debug Here ...\n",
      "Done!\n",
      "pairwise 1 14 done!\n",
      "14 of 190: Constructing layout for model 1 and model 15 ...\n",
      "\n",
      "Running COMETS simulation ...\n",
      "\n",
      "Debug Here ...\n",
      "Done!\n",
      "pairwise 1 15 done!\n",
      "15 of 190: Constructing layout for model 1 and model 16 ...\n",
      "\n",
      "Running COMETS simulation ...\n",
      "\n",
      "Debug Here ...\n",
      "Done!\n",
      "pairwise 1 16 done!\n",
      "16 of 190: Constructing layout for model 1 and model 17 ...\n",
      "\n",
      "Running COMETS simulation ...\n",
      "\n",
      "Debug Here ...\n",
      "Done!\n",
      "pairwise 1 17 done!\n",
      "17 of 190: Constructing layout for model 1 and model 18 ...\n",
      "\n",
      "Running COMETS simulation ...\n",
      "\n",
      "Debug Here ...\n",
      "Done!\n",
      "pairwise 1 18 done!\n",
      "18 of 190: Constructing layout for model 1 and model 19 ...\n",
      "\n",
      "Running COMETS simulation ...\n",
      "\n",
      "Debug Here ...\n",
      "Done!\n",
      "pairwise 1 19 done!\n",
      "19 of 190: Constructing layout for model 1 and model 20 ...\n",
      "\n",
      "Running COMETS simulation ...\n",
      "\n",
      "Debug Here ...\n",
      "Done!\n",
      "pairwise 1 20 done!\n",
      "20 of 190: Constructing layout for model 2 and model 3 ...\n",
      "\n",
      "Running COMETS simulation ...\n",
      "\n",
      "Debug Here ...\n",
      "Done!\n",
      "pairwise 2 3 done!\n",
      "21 of 190: Constructing layout for model 2 and model 4 ...\n",
      "\n",
      "Running COMETS simulation ...\n",
      "\n",
      "Debug Here ...\n",
      "Done!\n",
      "pairwise 2 4 done!\n",
      "22 of 190: Constructing layout for model 2 and model 5 ...\n",
      "\n",
      "Running COMETS simulation ...\n",
      "\n",
      "Debug Here ...\n",
      "Done!\n",
      "pairwise 2 5 done!\n",
      "23 of 190: Constructing layout for model 2 and model 6 ...\n",
      "\n",
      "Running COMETS simulation ...\n",
      "\n",
      "Debug Here ...\n",
      "Done!\n",
      "pairwise 2 6 done!\n",
      "24 of 190: Constructing layout for model 2 and model 7 ...\n",
      "\n",
      "Running COMETS simulation ...\n",
      "\n",
      "Debug Here ...\n",
      "Done!\n",
      "pairwise 2 7 done!\n",
      "25 of 190: Constructing layout for model 2 and model 8 ...\n",
      "\n",
      "Running COMETS simulation ...\n",
      "\n",
      "Debug Here ...\n",
      "Done!\n",
      "pairwise 2 8 done!\n",
      "26 of 190: Constructing layout for model 2 and model 9 ...\n",
      "\n",
      "Running COMETS simulation ...\n",
      "\n",
      "Debug Here ...\n",
      "Done!\n",
      "pairwise 2 9 done!\n",
      "27 of 190: Constructing layout for model 2 and model 10 ...\n",
      "\n",
      "Running COMETS simulation ...\n",
      "\n",
      "Debug Here ...\n",
      "Done!\n",
      "pairwise 2 10 done!\n",
      "28 of 190: Constructing layout for model 2 and model 11 ...\n",
      "\n",
      "Running COMETS simulation ...\n",
      "\n",
      "Debug Here ...\n",
      "Done!\n",
      "pairwise 2 11 done!\n",
      "29 of 190: Constructing layout for model 2 and model 12 ...\n",
      "\n",
      "Running COMETS simulation ...\n",
      "\n",
      "Debug Here ...\n",
      "Done!\n",
      "pairwise 2 12 done!\n",
      "30 of 190: Constructing layout for model 2 and model 13 ...\n",
      "\n",
      "Running COMETS simulation ...\n",
      "\n",
      "Debug Here ...\n",
      "Done!\n",
      "pairwise 2 13 done!\n",
      "31 of 190: Constructing layout for model 2 and model 14 ...\n",
      "\n",
      "Running COMETS simulation ...\n",
      "\n",
      "Debug Here ...\n",
      "Done!\n",
      "pairwise 2 14 done!\n",
      "32 of 190: Constructing layout for model 2 and model 15 ...\n",
      "\n",
      "Running COMETS simulation ...\n",
      "\n",
      "Debug Here ...\n",
      "Done!\n",
      "pairwise 2 15 done!\n",
      "33 of 190: Constructing layout for model 2 and model 16 ...\n",
      "\n",
      "Running COMETS simulation ...\n",
      "\n",
      "Debug Here ...\n",
      "Done!\n",
      "pairwise 2 16 done!\n",
      "34 of 190: Constructing layout for model 2 and model 17 ...\n",
      "\n",
      "Running COMETS simulation ...\n",
      "\n",
      "Debug Here ...\n",
      "Done!\n",
      "pairwise 2 17 done!\n",
      "35 of 190: Constructing layout for model 2 and model 18 ...\n",
      "\n",
      "Running COMETS simulation ...\n",
      "\n",
      "Debug Here ...\n",
      "Done!\n",
      "pairwise 2 18 done!\n",
      "36 of 190: Constructing layout for model 2 and model 19 ...\n",
      "\n",
      "Running COMETS simulation ...\n",
      "\n",
      "Debug Here ...\n",
      "Done!\n",
      "pairwise 2 19 done!\n",
      "37 of 190: Constructing layout for model 2 and model 20 ...\n",
      "\n",
      "Running COMETS simulation ...\n",
      "\n",
      "Debug Here ...\n",
      "Done!\n",
      "pairwise 2 20 done!\n",
      "38 of 190: Constructing layout for model 3 and model 4 ...\n",
      "\n",
      "Running COMETS simulation ...\n",
      "\n",
      "Debug Here ...\n",
      "Done!\n",
      "pairwise 3 4 done!\n",
      "39 of 190: Constructing layout for model 3 and model 5 ...\n",
      "\n",
      "Running COMETS simulation ...\n",
      "\n",
      "Debug Here ...\n",
      "Done!\n",
      "pairwise 3 5 done!\n",
      "40 of 190: Constructing layout for model 3 and model 6 ...\n",
      "\n",
      "Running COMETS simulation ...\n",
      "\n",
      "Debug Here ...\n",
      "Done!\n",
      "pairwise 3 6 done!\n",
      "41 of 190: Constructing layout for model 3 and model 7 ...\n",
      "\n",
      "Running COMETS simulation ...\n",
      "\n",
      "Debug Here ...\n",
      "Done!\n",
      "pairwise 3 7 done!\n",
      "42 of 190: Constructing layout for model 3 and model 8 ...\n",
      "\n",
      "Running COMETS simulation ...\n",
      "\n",
      "Debug Here ...\n",
      "Done!\n",
      "pairwise 3 8 done!\n",
      "43 of 190: Constructing layout for model 3 and model 9 ...\n",
      "\n",
      "Running COMETS simulation ...\n",
      "\n",
      "Debug Here ...\n",
      "Done!\n",
      "pairwise 3 9 done!\n",
      "44 of 190: Constructing layout for model 3 and model 10 ...\n",
      "\n",
      "Running COMETS simulation ...\n",
      "\n",
      "Debug Here ...\n",
      "Done!\n",
      "pairwise 3 10 done!\n",
      "45 of 190: Constructing layout for model 3 and model 11 ...\n",
      "\n",
      "Running COMETS simulation ...\n",
      "\n",
      "Debug Here ...\n",
      "Done!\n",
      "pairwise 3 11 done!\n",
      "46 of 190: Constructing layout for model 3 and model 12 ...\n",
      "\n",
      "Running COMETS simulation ...\n",
      "\n",
      "Debug Here ...\n",
      "Done!\n",
      "pairwise 3 12 done!\n",
      "47 of 190: Constructing layout for model 3 and model 13 ...\n",
      "\n",
      "Running COMETS simulation ...\n",
      "\n",
      "Debug Here ...\n",
      "Done!\n",
      "pairwise 3 13 done!\n",
      "48 of 190: Constructing layout for model 3 and model 14 ...\n",
      "\n",
      "Running COMETS simulation ...\n",
      "\n",
      "Debug Here ...\n",
      "Done!\n",
      "pairwise 3 14 done!\n",
      "49 of 190: Constructing layout for model 3 and model 15 ...\n",
      "\n",
      "Running COMETS simulation ...\n",
      "\n",
      "Debug Here ...\n",
      "Done!\n",
      "pairwise 3 15 done!\n",
      "50 of 190: Constructing layout for model 3 and model 16 ...\n",
      "\n",
      "Running COMETS simulation ...\n",
      "\n",
      "Debug Here ...\n",
      "Done!\n",
      "pairwise 3 16 done!\n"
     ]
    },
    {
     "name": "stderr",
     "output_type": "stream",
     "text": [
      "C:\\Users\\sabh\\AppData\\Local\\Temp\\ipykernel_3396\\1463650966.py:55: PerformanceWarning: DataFrame is highly fragmented.  This is usually the result of calling `frame.insert` many times, which has poor performance.  Consider joining all columns at once using pd.concat(axis=1) instead. To get a de-fragmented frame, use `newframe = frame.copy()`\n",
      "  totbiomass_df[f'{counter}_model_{b}'] = pairwise_simulation.total_biomass[f'model{b}']\n"
     ]
    },
    {
     "name": "stdout",
     "output_type": "stream",
     "text": [
      "51 of 190: Constructing layout for model 3 and model 17 ...\n",
      "\n",
      "Running COMETS simulation ...\n",
      "\n",
      "Debug Here ...\n",
      "Done!\n",
      "pairwise 3 17 done!\n"
     ]
    },
    {
     "name": "stderr",
     "output_type": "stream",
     "text": [
      "C:\\Users\\sabh\\AppData\\Local\\Temp\\ipykernel_3396\\1463650966.py:54: PerformanceWarning: DataFrame is highly fragmented.  This is usually the result of calling `frame.insert` many times, which has poor performance.  Consider joining all columns at once using pd.concat(axis=1) instead. To get a de-fragmented frame, use `newframe = frame.copy()`\n",
      "  totbiomass_df[f'{counter}_model_{a}'] = pairwise_simulation.total_biomass[f'model{a}']\n",
      "C:\\Users\\sabh\\AppData\\Local\\Temp\\ipykernel_3396\\1463650966.py:55: PerformanceWarning: DataFrame is highly fragmented.  This is usually the result of calling `frame.insert` many times, which has poor performance.  Consider joining all columns at once using pd.concat(axis=1) instead. To get a de-fragmented frame, use `newframe = frame.copy()`\n",
      "  totbiomass_df[f'{counter}_model_{b}'] = pairwise_simulation.total_biomass[f'model{b}']\n"
     ]
    },
    {
     "name": "stdout",
     "output_type": "stream",
     "text": [
      "52 of 190: Constructing layout for model 3 and model 18 ...\n",
      "\n",
      "Running COMETS simulation ...\n",
      "\n",
      "Debug Here ...\n",
      "Done!\n",
      "pairwise 3 18 done!\n"
     ]
    },
    {
     "name": "stderr",
     "output_type": "stream",
     "text": [
      "C:\\Users\\sabh\\AppData\\Local\\Temp\\ipykernel_3396\\1463650966.py:54: PerformanceWarning: DataFrame is highly fragmented.  This is usually the result of calling `frame.insert` many times, which has poor performance.  Consider joining all columns at once using pd.concat(axis=1) instead. To get a de-fragmented frame, use `newframe = frame.copy()`\n",
      "  totbiomass_df[f'{counter}_model_{a}'] = pairwise_simulation.total_biomass[f'model{a}']\n",
      "C:\\Users\\sabh\\AppData\\Local\\Temp\\ipykernel_3396\\1463650966.py:55: PerformanceWarning: DataFrame is highly fragmented.  This is usually the result of calling `frame.insert` many times, which has poor performance.  Consider joining all columns at once using pd.concat(axis=1) instead. To get a de-fragmented frame, use `newframe = frame.copy()`\n",
      "  totbiomass_df[f'{counter}_model_{b}'] = pairwise_simulation.total_biomass[f'model{b}']\n"
     ]
    },
    {
     "name": "stdout",
     "output_type": "stream",
     "text": [
      "53 of 190: Constructing layout for model 3 and model 19 ...\n",
      "\n",
      "Running COMETS simulation ...\n",
      "\n",
      "Debug Here ...\n",
      "Done!\n",
      "pairwise 3 19 done!\n"
     ]
    },
    {
     "name": "stderr",
     "output_type": "stream",
     "text": [
      "C:\\Users\\sabh\\AppData\\Local\\Temp\\ipykernel_3396\\1463650966.py:54: PerformanceWarning: DataFrame is highly fragmented.  This is usually the result of calling `frame.insert` many times, which has poor performance.  Consider joining all columns at once using pd.concat(axis=1) instead. To get a de-fragmented frame, use `newframe = frame.copy()`\n",
      "  totbiomass_df[f'{counter}_model_{a}'] = pairwise_simulation.total_biomass[f'model{a}']\n",
      "C:\\Users\\sabh\\AppData\\Local\\Temp\\ipykernel_3396\\1463650966.py:55: PerformanceWarning: DataFrame is highly fragmented.  This is usually the result of calling `frame.insert` many times, which has poor performance.  Consider joining all columns at once using pd.concat(axis=1) instead. To get a de-fragmented frame, use `newframe = frame.copy()`\n",
      "  totbiomass_df[f'{counter}_model_{b}'] = pairwise_simulation.total_biomass[f'model{b}']\n"
     ]
    },
    {
     "name": "stdout",
     "output_type": "stream",
     "text": [
      "54 of 190: Constructing layout for model 3 and model 20 ...\n",
      "\n",
      "Running COMETS simulation ...\n",
      "\n",
      "Debug Here ...\n",
      "Done!\n",
      "pairwise 3 20 done!\n"
     ]
    },
    {
     "name": "stderr",
     "output_type": "stream",
     "text": [
      "C:\\Users\\sabh\\AppData\\Local\\Temp\\ipykernel_3396\\1463650966.py:54: PerformanceWarning: DataFrame is highly fragmented.  This is usually the result of calling `frame.insert` many times, which has poor performance.  Consider joining all columns at once using pd.concat(axis=1) instead. To get a de-fragmented frame, use `newframe = frame.copy()`\n",
      "  totbiomass_df[f'{counter}_model_{a}'] = pairwise_simulation.total_biomass[f'model{a}']\n",
      "C:\\Users\\sabh\\AppData\\Local\\Temp\\ipykernel_3396\\1463650966.py:55: PerformanceWarning: DataFrame is highly fragmented.  This is usually the result of calling `frame.insert` many times, which has poor performance.  Consider joining all columns at once using pd.concat(axis=1) instead. To get a de-fragmented frame, use `newframe = frame.copy()`\n",
      "  totbiomass_df[f'{counter}_model_{b}'] = pairwise_simulation.total_biomass[f'model{b}']\n"
     ]
    },
    {
     "name": "stdout",
     "output_type": "stream",
     "text": [
      "55 of 190: Constructing layout for model 4 and model 5 ...\n",
      "\n",
      "Running COMETS simulation ...\n",
      "\n",
      "Debug Here ...\n",
      "Done!\n",
      "pairwise 4 5 done!\n"
     ]
    },
    {
     "name": "stderr",
     "output_type": "stream",
     "text": [
      "C:\\Users\\sabh\\AppData\\Local\\Temp\\ipykernel_3396\\1463650966.py:54: PerformanceWarning: DataFrame is highly fragmented.  This is usually the result of calling `frame.insert` many times, which has poor performance.  Consider joining all columns at once using pd.concat(axis=1) instead. To get a de-fragmented frame, use `newframe = frame.copy()`\n",
      "  totbiomass_df[f'{counter}_model_{a}'] = pairwise_simulation.total_biomass[f'model{a}']\n",
      "C:\\Users\\sabh\\AppData\\Local\\Temp\\ipykernel_3396\\1463650966.py:55: PerformanceWarning: DataFrame is highly fragmented.  This is usually the result of calling `frame.insert` many times, which has poor performance.  Consider joining all columns at once using pd.concat(axis=1) instead. To get a de-fragmented frame, use `newframe = frame.copy()`\n",
      "  totbiomass_df[f'{counter}_model_{b}'] = pairwise_simulation.total_biomass[f'model{b}']\n"
     ]
    },
    {
     "name": "stdout",
     "output_type": "stream",
     "text": [
      "56 of 190: Constructing layout for model 4 and model 6 ...\n",
      "\n",
      "Running COMETS simulation ...\n",
      "\n",
      "Debug Here ...\n",
      "Done!\n",
      "pairwise 4 6 done!\n"
     ]
    },
    {
     "name": "stderr",
     "output_type": "stream",
     "text": [
      "C:\\Users\\sabh\\AppData\\Local\\Temp\\ipykernel_3396\\1463650966.py:54: PerformanceWarning: DataFrame is highly fragmented.  This is usually the result of calling `frame.insert` many times, which has poor performance.  Consider joining all columns at once using pd.concat(axis=1) instead. To get a de-fragmented frame, use `newframe = frame.copy()`\n",
      "  totbiomass_df[f'{counter}_model_{a}'] = pairwise_simulation.total_biomass[f'model{a}']\n",
      "C:\\Users\\sabh\\AppData\\Local\\Temp\\ipykernel_3396\\1463650966.py:55: PerformanceWarning: DataFrame is highly fragmented.  This is usually the result of calling `frame.insert` many times, which has poor performance.  Consider joining all columns at once using pd.concat(axis=1) instead. To get a de-fragmented frame, use `newframe = frame.copy()`\n",
      "  totbiomass_df[f'{counter}_model_{b}'] = pairwise_simulation.total_biomass[f'model{b}']\n"
     ]
    },
    {
     "name": "stdout",
     "output_type": "stream",
     "text": [
      "57 of 190: Constructing layout for model 4 and model 7 ...\n",
      "\n",
      "Running COMETS simulation ...\n",
      "\n",
      "Debug Here ...\n",
      "Done!\n",
      "pairwise 4 7 done!\n"
     ]
    },
    {
     "name": "stderr",
     "output_type": "stream",
     "text": [
      "C:\\Users\\sabh\\AppData\\Local\\Temp\\ipykernel_3396\\1463650966.py:54: PerformanceWarning: DataFrame is highly fragmented.  This is usually the result of calling `frame.insert` many times, which has poor performance.  Consider joining all columns at once using pd.concat(axis=1) instead. To get a de-fragmented frame, use `newframe = frame.copy()`\n",
      "  totbiomass_df[f'{counter}_model_{a}'] = pairwise_simulation.total_biomass[f'model{a}']\n",
      "C:\\Users\\sabh\\AppData\\Local\\Temp\\ipykernel_3396\\1463650966.py:55: PerformanceWarning: DataFrame is highly fragmented.  This is usually the result of calling `frame.insert` many times, which has poor performance.  Consider joining all columns at once using pd.concat(axis=1) instead. To get a de-fragmented frame, use `newframe = frame.copy()`\n",
      "  totbiomass_df[f'{counter}_model_{b}'] = pairwise_simulation.total_biomass[f'model{b}']\n"
     ]
    },
    {
     "name": "stdout",
     "output_type": "stream",
     "text": [
      "58 of 190: Constructing layout for model 4 and model 8 ...\n",
      "\n",
      "Running COMETS simulation ...\n",
      "\n",
      "Debug Here ...\n",
      "Done!\n",
      "pairwise 4 8 done!\n"
     ]
    },
    {
     "name": "stderr",
     "output_type": "stream",
     "text": [
      "C:\\Users\\sabh\\AppData\\Local\\Temp\\ipykernel_3396\\1463650966.py:54: PerformanceWarning: DataFrame is highly fragmented.  This is usually the result of calling `frame.insert` many times, which has poor performance.  Consider joining all columns at once using pd.concat(axis=1) instead. To get a de-fragmented frame, use `newframe = frame.copy()`\n",
      "  totbiomass_df[f'{counter}_model_{a}'] = pairwise_simulation.total_biomass[f'model{a}']\n",
      "C:\\Users\\sabh\\AppData\\Local\\Temp\\ipykernel_3396\\1463650966.py:55: PerformanceWarning: DataFrame is highly fragmented.  This is usually the result of calling `frame.insert` many times, which has poor performance.  Consider joining all columns at once using pd.concat(axis=1) instead. To get a de-fragmented frame, use `newframe = frame.copy()`\n",
      "  totbiomass_df[f'{counter}_model_{b}'] = pairwise_simulation.total_biomass[f'model{b}']\n"
     ]
    },
    {
     "name": "stdout",
     "output_type": "stream",
     "text": [
      "59 of 190: Constructing layout for model 4 and model 9 ...\n",
      "\n",
      "Running COMETS simulation ...\n",
      "\n",
      "Debug Here ...\n",
      "Done!\n",
      "pairwise 4 9 done!\n"
     ]
    },
    {
     "name": "stderr",
     "output_type": "stream",
     "text": [
      "C:\\Users\\sabh\\AppData\\Local\\Temp\\ipykernel_3396\\1463650966.py:54: PerformanceWarning: DataFrame is highly fragmented.  This is usually the result of calling `frame.insert` many times, which has poor performance.  Consider joining all columns at once using pd.concat(axis=1) instead. To get a de-fragmented frame, use `newframe = frame.copy()`\n",
      "  totbiomass_df[f'{counter}_model_{a}'] = pairwise_simulation.total_biomass[f'model{a}']\n",
      "C:\\Users\\sabh\\AppData\\Local\\Temp\\ipykernel_3396\\1463650966.py:55: PerformanceWarning: DataFrame is highly fragmented.  This is usually the result of calling `frame.insert` many times, which has poor performance.  Consider joining all columns at once using pd.concat(axis=1) instead. To get a de-fragmented frame, use `newframe = frame.copy()`\n",
      "  totbiomass_df[f'{counter}_model_{b}'] = pairwise_simulation.total_biomass[f'model{b}']\n"
     ]
    },
    {
     "name": "stdout",
     "output_type": "stream",
     "text": [
      "60 of 190: Constructing layout for model 4 and model 10 ...\n",
      "\n",
      "Running COMETS simulation ...\n",
      "\n",
      "Debug Here ...\n",
      "Done!\n",
      "pairwise 4 10 done!\n"
     ]
    },
    {
     "name": "stderr",
     "output_type": "stream",
     "text": [
      "C:\\Users\\sabh\\AppData\\Local\\Temp\\ipykernel_3396\\1463650966.py:54: PerformanceWarning: DataFrame is highly fragmented.  This is usually the result of calling `frame.insert` many times, which has poor performance.  Consider joining all columns at once using pd.concat(axis=1) instead. To get a de-fragmented frame, use `newframe = frame.copy()`\n",
      "  totbiomass_df[f'{counter}_model_{a}'] = pairwise_simulation.total_biomass[f'model{a}']\n",
      "C:\\Users\\sabh\\AppData\\Local\\Temp\\ipykernel_3396\\1463650966.py:55: PerformanceWarning: DataFrame is highly fragmented.  This is usually the result of calling `frame.insert` many times, which has poor performance.  Consider joining all columns at once using pd.concat(axis=1) instead. To get a de-fragmented frame, use `newframe = frame.copy()`\n",
      "  totbiomass_df[f'{counter}_model_{b}'] = pairwise_simulation.total_biomass[f'model{b}']\n"
     ]
    },
    {
     "name": "stdout",
     "output_type": "stream",
     "text": [
      "61 of 190: Constructing layout for model 4 and model 11 ...\n",
      "\n",
      "Running COMETS simulation ...\n",
      "\n",
      "Debug Here ...\n",
      "Done!\n",
      "pairwise 4 11 done!\n"
     ]
    },
    {
     "name": "stderr",
     "output_type": "stream",
     "text": [
      "C:\\Users\\sabh\\AppData\\Local\\Temp\\ipykernel_3396\\1463650966.py:54: PerformanceWarning: DataFrame is highly fragmented.  This is usually the result of calling `frame.insert` many times, which has poor performance.  Consider joining all columns at once using pd.concat(axis=1) instead. To get a de-fragmented frame, use `newframe = frame.copy()`\n",
      "  totbiomass_df[f'{counter}_model_{a}'] = pairwise_simulation.total_biomass[f'model{a}']\n",
      "C:\\Users\\sabh\\AppData\\Local\\Temp\\ipykernel_3396\\1463650966.py:55: PerformanceWarning: DataFrame is highly fragmented.  This is usually the result of calling `frame.insert` many times, which has poor performance.  Consider joining all columns at once using pd.concat(axis=1) instead. To get a de-fragmented frame, use `newframe = frame.copy()`\n",
      "  totbiomass_df[f'{counter}_model_{b}'] = pairwise_simulation.total_biomass[f'model{b}']\n"
     ]
    },
    {
     "name": "stdout",
     "output_type": "stream",
     "text": [
      "62 of 190: Constructing layout for model 4 and model 12 ...\n",
      "\n",
      "Running COMETS simulation ...\n",
      "\n",
      "Debug Here ...\n",
      "Done!\n",
      "pairwise 4 12 done!\n"
     ]
    },
    {
     "name": "stderr",
     "output_type": "stream",
     "text": [
      "C:\\Users\\sabh\\AppData\\Local\\Temp\\ipykernel_3396\\1463650966.py:54: PerformanceWarning: DataFrame is highly fragmented.  This is usually the result of calling `frame.insert` many times, which has poor performance.  Consider joining all columns at once using pd.concat(axis=1) instead. To get a de-fragmented frame, use `newframe = frame.copy()`\n",
      "  totbiomass_df[f'{counter}_model_{a}'] = pairwise_simulation.total_biomass[f'model{a}']\n",
      "C:\\Users\\sabh\\AppData\\Local\\Temp\\ipykernel_3396\\1463650966.py:55: PerformanceWarning: DataFrame is highly fragmented.  This is usually the result of calling `frame.insert` many times, which has poor performance.  Consider joining all columns at once using pd.concat(axis=1) instead. To get a de-fragmented frame, use `newframe = frame.copy()`\n",
      "  totbiomass_df[f'{counter}_model_{b}'] = pairwise_simulation.total_biomass[f'model{b}']\n"
     ]
    },
    {
     "name": "stdout",
     "output_type": "stream",
     "text": [
      "63 of 190: Constructing layout for model 4 and model 13 ...\n",
      "\n",
      "Running COMETS simulation ...\n",
      "\n",
      "Debug Here ...\n",
      "Done!\n",
      "pairwise 4 13 done!\n"
     ]
    },
    {
     "name": "stderr",
     "output_type": "stream",
     "text": [
      "C:\\Users\\sabh\\AppData\\Local\\Temp\\ipykernel_3396\\1463650966.py:54: PerformanceWarning: DataFrame is highly fragmented.  This is usually the result of calling `frame.insert` many times, which has poor performance.  Consider joining all columns at once using pd.concat(axis=1) instead. To get a de-fragmented frame, use `newframe = frame.copy()`\n",
      "  totbiomass_df[f'{counter}_model_{a}'] = pairwise_simulation.total_biomass[f'model{a}']\n",
      "C:\\Users\\sabh\\AppData\\Local\\Temp\\ipykernel_3396\\1463650966.py:55: PerformanceWarning: DataFrame is highly fragmented.  This is usually the result of calling `frame.insert` many times, which has poor performance.  Consider joining all columns at once using pd.concat(axis=1) instead. To get a de-fragmented frame, use `newframe = frame.copy()`\n",
      "  totbiomass_df[f'{counter}_model_{b}'] = pairwise_simulation.total_biomass[f'model{b}']\n"
     ]
    },
    {
     "name": "stdout",
     "output_type": "stream",
     "text": [
      "64 of 190: Constructing layout for model 4 and model 14 ...\n",
      "\n",
      "Running COMETS simulation ...\n",
      "\n",
      "Debug Here ...\n",
      "Done!\n",
      "pairwise 4 14 done!\n"
     ]
    },
    {
     "name": "stderr",
     "output_type": "stream",
     "text": [
      "C:\\Users\\sabh\\AppData\\Local\\Temp\\ipykernel_3396\\1463650966.py:54: PerformanceWarning: DataFrame is highly fragmented.  This is usually the result of calling `frame.insert` many times, which has poor performance.  Consider joining all columns at once using pd.concat(axis=1) instead. To get a de-fragmented frame, use `newframe = frame.copy()`\n",
      "  totbiomass_df[f'{counter}_model_{a}'] = pairwise_simulation.total_biomass[f'model{a}']\n",
      "C:\\Users\\sabh\\AppData\\Local\\Temp\\ipykernel_3396\\1463650966.py:55: PerformanceWarning: DataFrame is highly fragmented.  This is usually the result of calling `frame.insert` many times, which has poor performance.  Consider joining all columns at once using pd.concat(axis=1) instead. To get a de-fragmented frame, use `newframe = frame.copy()`\n",
      "  totbiomass_df[f'{counter}_model_{b}'] = pairwise_simulation.total_biomass[f'model{b}']\n"
     ]
    },
    {
     "name": "stdout",
     "output_type": "stream",
     "text": [
      "65 of 190: Constructing layout for model 4 and model 15 ...\n",
      "\n",
      "Running COMETS simulation ...\n",
      "\n",
      "Debug Here ...\n",
      "Done!\n",
      "pairwise 4 15 done!\n"
     ]
    },
    {
     "name": "stderr",
     "output_type": "stream",
     "text": [
      "C:\\Users\\sabh\\AppData\\Local\\Temp\\ipykernel_3396\\1463650966.py:54: PerformanceWarning: DataFrame is highly fragmented.  This is usually the result of calling `frame.insert` many times, which has poor performance.  Consider joining all columns at once using pd.concat(axis=1) instead. To get a de-fragmented frame, use `newframe = frame.copy()`\n",
      "  totbiomass_df[f'{counter}_model_{a}'] = pairwise_simulation.total_biomass[f'model{a}']\n",
      "C:\\Users\\sabh\\AppData\\Local\\Temp\\ipykernel_3396\\1463650966.py:55: PerformanceWarning: DataFrame is highly fragmented.  This is usually the result of calling `frame.insert` many times, which has poor performance.  Consider joining all columns at once using pd.concat(axis=1) instead. To get a de-fragmented frame, use `newframe = frame.copy()`\n",
      "  totbiomass_df[f'{counter}_model_{b}'] = pairwise_simulation.total_biomass[f'model{b}']\n"
     ]
    },
    {
     "name": "stdout",
     "output_type": "stream",
     "text": [
      "66 of 190: Constructing layout for model 4 and model 16 ...\n",
      "\n",
      "Running COMETS simulation ...\n",
      "\n",
      "Debug Here ...\n",
      "Done!\n",
      "pairwise 4 16 done!\n"
     ]
    },
    {
     "name": "stderr",
     "output_type": "stream",
     "text": [
      "C:\\Users\\sabh\\AppData\\Local\\Temp\\ipykernel_3396\\1463650966.py:54: PerformanceWarning: DataFrame is highly fragmented.  This is usually the result of calling `frame.insert` many times, which has poor performance.  Consider joining all columns at once using pd.concat(axis=1) instead. To get a de-fragmented frame, use `newframe = frame.copy()`\n",
      "  totbiomass_df[f'{counter}_model_{a}'] = pairwise_simulation.total_biomass[f'model{a}']\n",
      "C:\\Users\\sabh\\AppData\\Local\\Temp\\ipykernel_3396\\1463650966.py:55: PerformanceWarning: DataFrame is highly fragmented.  This is usually the result of calling `frame.insert` many times, which has poor performance.  Consider joining all columns at once using pd.concat(axis=1) instead. To get a de-fragmented frame, use `newframe = frame.copy()`\n",
      "  totbiomass_df[f'{counter}_model_{b}'] = pairwise_simulation.total_biomass[f'model{b}']\n"
     ]
    },
    {
     "name": "stdout",
     "output_type": "stream",
     "text": [
      "67 of 190: Constructing layout for model 4 and model 17 ...\n",
      "\n",
      "Running COMETS simulation ...\n",
      "\n",
      "Debug Here ...\n",
      "Done!\n",
      "pairwise 4 17 done!\n"
     ]
    },
    {
     "name": "stderr",
     "output_type": "stream",
     "text": [
      "C:\\Users\\sabh\\AppData\\Local\\Temp\\ipykernel_3396\\1463650966.py:54: PerformanceWarning: DataFrame is highly fragmented.  This is usually the result of calling `frame.insert` many times, which has poor performance.  Consider joining all columns at once using pd.concat(axis=1) instead. To get a de-fragmented frame, use `newframe = frame.copy()`\n",
      "  totbiomass_df[f'{counter}_model_{a}'] = pairwise_simulation.total_biomass[f'model{a}']\n",
      "C:\\Users\\sabh\\AppData\\Local\\Temp\\ipykernel_3396\\1463650966.py:55: PerformanceWarning: DataFrame is highly fragmented.  This is usually the result of calling `frame.insert` many times, which has poor performance.  Consider joining all columns at once using pd.concat(axis=1) instead. To get a de-fragmented frame, use `newframe = frame.copy()`\n",
      "  totbiomass_df[f'{counter}_model_{b}'] = pairwise_simulation.total_biomass[f'model{b}']\n"
     ]
    },
    {
     "name": "stdout",
     "output_type": "stream",
     "text": [
      "68 of 190: Constructing layout for model 4 and model 18 ...\n",
      "\n",
      "Running COMETS simulation ...\n",
      "\n",
      "Debug Here ...\n",
      "Done!\n",
      "pairwise 4 18 done!\n"
     ]
    },
    {
     "name": "stderr",
     "output_type": "stream",
     "text": [
      "C:\\Users\\sabh\\AppData\\Local\\Temp\\ipykernel_3396\\1463650966.py:54: PerformanceWarning: DataFrame is highly fragmented.  This is usually the result of calling `frame.insert` many times, which has poor performance.  Consider joining all columns at once using pd.concat(axis=1) instead. To get a de-fragmented frame, use `newframe = frame.copy()`\n",
      "  totbiomass_df[f'{counter}_model_{a}'] = pairwise_simulation.total_biomass[f'model{a}']\n",
      "C:\\Users\\sabh\\AppData\\Local\\Temp\\ipykernel_3396\\1463650966.py:55: PerformanceWarning: DataFrame is highly fragmented.  This is usually the result of calling `frame.insert` many times, which has poor performance.  Consider joining all columns at once using pd.concat(axis=1) instead. To get a de-fragmented frame, use `newframe = frame.copy()`\n",
      "  totbiomass_df[f'{counter}_model_{b}'] = pairwise_simulation.total_biomass[f'model{b}']\n"
     ]
    },
    {
     "name": "stdout",
     "output_type": "stream",
     "text": [
      "69 of 190: Constructing layout for model 4 and model 19 ...\n",
      "\n",
      "Running COMETS simulation ...\n",
      "\n",
      "Debug Here ...\n",
      "Done!\n",
      "pairwise 4 19 done!\n"
     ]
    },
    {
     "name": "stderr",
     "output_type": "stream",
     "text": [
      "C:\\Users\\sabh\\AppData\\Local\\Temp\\ipykernel_3396\\1463650966.py:54: PerformanceWarning: DataFrame is highly fragmented.  This is usually the result of calling `frame.insert` many times, which has poor performance.  Consider joining all columns at once using pd.concat(axis=1) instead. To get a de-fragmented frame, use `newframe = frame.copy()`\n",
      "  totbiomass_df[f'{counter}_model_{a}'] = pairwise_simulation.total_biomass[f'model{a}']\n",
      "C:\\Users\\sabh\\AppData\\Local\\Temp\\ipykernel_3396\\1463650966.py:55: PerformanceWarning: DataFrame is highly fragmented.  This is usually the result of calling `frame.insert` many times, which has poor performance.  Consider joining all columns at once using pd.concat(axis=1) instead. To get a de-fragmented frame, use `newframe = frame.copy()`\n",
      "  totbiomass_df[f'{counter}_model_{b}'] = pairwise_simulation.total_biomass[f'model{b}']\n"
     ]
    },
    {
     "name": "stdout",
     "output_type": "stream",
     "text": [
      "70 of 190: Constructing layout for model 4 and model 20 ...\n",
      "\n",
      "Running COMETS simulation ...\n",
      "\n",
      "Debug Here ...\n",
      "Done!\n",
      "pairwise 4 20 done!\n"
     ]
    },
    {
     "name": "stderr",
     "output_type": "stream",
     "text": [
      "C:\\Users\\sabh\\AppData\\Local\\Temp\\ipykernel_3396\\1463650966.py:54: PerformanceWarning: DataFrame is highly fragmented.  This is usually the result of calling `frame.insert` many times, which has poor performance.  Consider joining all columns at once using pd.concat(axis=1) instead. To get a de-fragmented frame, use `newframe = frame.copy()`\n",
      "  totbiomass_df[f'{counter}_model_{a}'] = pairwise_simulation.total_biomass[f'model{a}']\n",
      "C:\\Users\\sabh\\AppData\\Local\\Temp\\ipykernel_3396\\1463650966.py:55: PerformanceWarning: DataFrame is highly fragmented.  This is usually the result of calling `frame.insert` many times, which has poor performance.  Consider joining all columns at once using pd.concat(axis=1) instead. To get a de-fragmented frame, use `newframe = frame.copy()`\n",
      "  totbiomass_df[f'{counter}_model_{b}'] = pairwise_simulation.total_biomass[f'model{b}']\n"
     ]
    },
    {
     "name": "stdout",
     "output_type": "stream",
     "text": [
      "71 of 190: Constructing layout for model 5 and model 6 ...\n",
      "\n",
      "Running COMETS simulation ...\n",
      "\n",
      "Debug Here ...\n",
      "Done!\n",
      "pairwise 5 6 done!\n"
     ]
    },
    {
     "name": "stderr",
     "output_type": "stream",
     "text": [
      "C:\\Users\\sabh\\AppData\\Local\\Temp\\ipykernel_3396\\1463650966.py:54: PerformanceWarning: DataFrame is highly fragmented.  This is usually the result of calling `frame.insert` many times, which has poor performance.  Consider joining all columns at once using pd.concat(axis=1) instead. To get a de-fragmented frame, use `newframe = frame.copy()`\n",
      "  totbiomass_df[f'{counter}_model_{a}'] = pairwise_simulation.total_biomass[f'model{a}']\n",
      "C:\\Users\\sabh\\AppData\\Local\\Temp\\ipykernel_3396\\1463650966.py:55: PerformanceWarning: DataFrame is highly fragmented.  This is usually the result of calling `frame.insert` many times, which has poor performance.  Consider joining all columns at once using pd.concat(axis=1) instead. To get a de-fragmented frame, use `newframe = frame.copy()`\n",
      "  totbiomass_df[f'{counter}_model_{b}'] = pairwise_simulation.total_biomass[f'model{b}']\n"
     ]
    },
    {
     "name": "stdout",
     "output_type": "stream",
     "text": [
      "72 of 190: Constructing layout for model 5 and model 7 ...\n",
      "\n",
      "Running COMETS simulation ...\n",
      "\n",
      "Debug Here ...\n",
      "Done!\n",
      "pairwise 5 7 done!\n"
     ]
    },
    {
     "name": "stderr",
     "output_type": "stream",
     "text": [
      "C:\\Users\\sabh\\AppData\\Local\\Temp\\ipykernel_3396\\1463650966.py:54: PerformanceWarning: DataFrame is highly fragmented.  This is usually the result of calling `frame.insert` many times, which has poor performance.  Consider joining all columns at once using pd.concat(axis=1) instead. To get a de-fragmented frame, use `newframe = frame.copy()`\n",
      "  totbiomass_df[f'{counter}_model_{a}'] = pairwise_simulation.total_biomass[f'model{a}']\n",
      "C:\\Users\\sabh\\AppData\\Local\\Temp\\ipykernel_3396\\1463650966.py:55: PerformanceWarning: DataFrame is highly fragmented.  This is usually the result of calling `frame.insert` many times, which has poor performance.  Consider joining all columns at once using pd.concat(axis=1) instead. To get a de-fragmented frame, use `newframe = frame.copy()`\n",
      "  totbiomass_df[f'{counter}_model_{b}'] = pairwise_simulation.total_biomass[f'model{b}']\n"
     ]
    },
    {
     "name": "stdout",
     "output_type": "stream",
     "text": [
      "73 of 190: Constructing layout for model 5 and model 8 ...\n",
      "\n",
      "Running COMETS simulation ...\n",
      "\n",
      "Debug Here ...\n",
      "Done!\n",
      "pairwise 5 8 done!\n"
     ]
    },
    {
     "name": "stderr",
     "output_type": "stream",
     "text": [
      "C:\\Users\\sabh\\AppData\\Local\\Temp\\ipykernel_3396\\1463650966.py:54: PerformanceWarning: DataFrame is highly fragmented.  This is usually the result of calling `frame.insert` many times, which has poor performance.  Consider joining all columns at once using pd.concat(axis=1) instead. To get a de-fragmented frame, use `newframe = frame.copy()`\n",
      "  totbiomass_df[f'{counter}_model_{a}'] = pairwise_simulation.total_biomass[f'model{a}']\n",
      "C:\\Users\\sabh\\AppData\\Local\\Temp\\ipykernel_3396\\1463650966.py:55: PerformanceWarning: DataFrame is highly fragmented.  This is usually the result of calling `frame.insert` many times, which has poor performance.  Consider joining all columns at once using pd.concat(axis=1) instead. To get a de-fragmented frame, use `newframe = frame.copy()`\n",
      "  totbiomass_df[f'{counter}_model_{b}'] = pairwise_simulation.total_biomass[f'model{b}']\n"
     ]
    },
    {
     "name": "stdout",
     "output_type": "stream",
     "text": [
      "74 of 190: Constructing layout for model 5 and model 9 ...\n",
      "\n",
      "Running COMETS simulation ...\n",
      "\n",
      "Debug Here ...\n",
      "Done!\n",
      "pairwise 5 9 done!\n"
     ]
    },
    {
     "name": "stderr",
     "output_type": "stream",
     "text": [
      "C:\\Users\\sabh\\AppData\\Local\\Temp\\ipykernel_3396\\1463650966.py:54: PerformanceWarning: DataFrame is highly fragmented.  This is usually the result of calling `frame.insert` many times, which has poor performance.  Consider joining all columns at once using pd.concat(axis=1) instead. To get a de-fragmented frame, use `newframe = frame.copy()`\n",
      "  totbiomass_df[f'{counter}_model_{a}'] = pairwise_simulation.total_biomass[f'model{a}']\n",
      "C:\\Users\\sabh\\AppData\\Local\\Temp\\ipykernel_3396\\1463650966.py:55: PerformanceWarning: DataFrame is highly fragmented.  This is usually the result of calling `frame.insert` many times, which has poor performance.  Consider joining all columns at once using pd.concat(axis=1) instead. To get a de-fragmented frame, use `newframe = frame.copy()`\n",
      "  totbiomass_df[f'{counter}_model_{b}'] = pairwise_simulation.total_biomass[f'model{b}']\n"
     ]
    },
    {
     "name": "stdout",
     "output_type": "stream",
     "text": [
      "75 of 190: Constructing layout for model 5 and model 10 ...\n",
      "\n",
      "Running COMETS simulation ...\n",
      "\n",
      "Debug Here ...\n",
      "Done!\n",
      "pairwise 5 10 done!\n"
     ]
    },
    {
     "name": "stderr",
     "output_type": "stream",
     "text": [
      "C:\\Users\\sabh\\AppData\\Local\\Temp\\ipykernel_3396\\1463650966.py:54: PerformanceWarning: DataFrame is highly fragmented.  This is usually the result of calling `frame.insert` many times, which has poor performance.  Consider joining all columns at once using pd.concat(axis=1) instead. To get a de-fragmented frame, use `newframe = frame.copy()`\n",
      "  totbiomass_df[f'{counter}_model_{a}'] = pairwise_simulation.total_biomass[f'model{a}']\n",
      "C:\\Users\\sabh\\AppData\\Local\\Temp\\ipykernel_3396\\1463650966.py:55: PerformanceWarning: DataFrame is highly fragmented.  This is usually the result of calling `frame.insert` many times, which has poor performance.  Consider joining all columns at once using pd.concat(axis=1) instead. To get a de-fragmented frame, use `newframe = frame.copy()`\n",
      "  totbiomass_df[f'{counter}_model_{b}'] = pairwise_simulation.total_biomass[f'model{b}']\n"
     ]
    },
    {
     "name": "stdout",
     "output_type": "stream",
     "text": [
      "76 of 190: Constructing layout for model 5 and model 11 ...\n",
      "\n",
      "Running COMETS simulation ...\n",
      "\n",
      "Debug Here ...\n",
      "Done!\n",
      "pairwise 5 11 done!\n"
     ]
    },
    {
     "name": "stderr",
     "output_type": "stream",
     "text": [
      "C:\\Users\\sabh\\AppData\\Local\\Temp\\ipykernel_3396\\1463650966.py:54: PerformanceWarning: DataFrame is highly fragmented.  This is usually the result of calling `frame.insert` many times, which has poor performance.  Consider joining all columns at once using pd.concat(axis=1) instead. To get a de-fragmented frame, use `newframe = frame.copy()`\n",
      "  totbiomass_df[f'{counter}_model_{a}'] = pairwise_simulation.total_biomass[f'model{a}']\n",
      "C:\\Users\\sabh\\AppData\\Local\\Temp\\ipykernel_3396\\1463650966.py:55: PerformanceWarning: DataFrame is highly fragmented.  This is usually the result of calling `frame.insert` many times, which has poor performance.  Consider joining all columns at once using pd.concat(axis=1) instead. To get a de-fragmented frame, use `newframe = frame.copy()`\n",
      "  totbiomass_df[f'{counter}_model_{b}'] = pairwise_simulation.total_biomass[f'model{b}']\n"
     ]
    },
    {
     "name": "stdout",
     "output_type": "stream",
     "text": [
      "77 of 190: Constructing layout for model 5 and model 12 ...\n",
      "\n",
      "Running COMETS simulation ...\n",
      "\n",
      "Debug Here ...\n",
      "Done!\n",
      "pairwise 5 12 done!\n"
     ]
    },
    {
     "name": "stderr",
     "output_type": "stream",
     "text": [
      "C:\\Users\\sabh\\AppData\\Local\\Temp\\ipykernel_3396\\1463650966.py:54: PerformanceWarning: DataFrame is highly fragmented.  This is usually the result of calling `frame.insert` many times, which has poor performance.  Consider joining all columns at once using pd.concat(axis=1) instead. To get a de-fragmented frame, use `newframe = frame.copy()`\n",
      "  totbiomass_df[f'{counter}_model_{a}'] = pairwise_simulation.total_biomass[f'model{a}']\n",
      "C:\\Users\\sabh\\AppData\\Local\\Temp\\ipykernel_3396\\1463650966.py:55: PerformanceWarning: DataFrame is highly fragmented.  This is usually the result of calling `frame.insert` many times, which has poor performance.  Consider joining all columns at once using pd.concat(axis=1) instead. To get a de-fragmented frame, use `newframe = frame.copy()`\n",
      "  totbiomass_df[f'{counter}_model_{b}'] = pairwise_simulation.total_biomass[f'model{b}']\n"
     ]
    },
    {
     "name": "stdout",
     "output_type": "stream",
     "text": [
      "78 of 190: Constructing layout for model 5 and model 13 ...\n",
      "\n",
      "Running COMETS simulation ...\n",
      "\n",
      "Debug Here ...\n",
      "Done!\n",
      "pairwise 5 13 done!\n"
     ]
    },
    {
     "name": "stderr",
     "output_type": "stream",
     "text": [
      "C:\\Users\\sabh\\AppData\\Local\\Temp\\ipykernel_3396\\1463650966.py:54: PerformanceWarning: DataFrame is highly fragmented.  This is usually the result of calling `frame.insert` many times, which has poor performance.  Consider joining all columns at once using pd.concat(axis=1) instead. To get a de-fragmented frame, use `newframe = frame.copy()`\n",
      "  totbiomass_df[f'{counter}_model_{a}'] = pairwise_simulation.total_biomass[f'model{a}']\n",
      "C:\\Users\\sabh\\AppData\\Local\\Temp\\ipykernel_3396\\1463650966.py:55: PerformanceWarning: DataFrame is highly fragmented.  This is usually the result of calling `frame.insert` many times, which has poor performance.  Consider joining all columns at once using pd.concat(axis=1) instead. To get a de-fragmented frame, use `newframe = frame.copy()`\n",
      "  totbiomass_df[f'{counter}_model_{b}'] = pairwise_simulation.total_biomass[f'model{b}']\n"
     ]
    },
    {
     "name": "stdout",
     "output_type": "stream",
     "text": [
      "79 of 190: Constructing layout for model 5 and model 14 ...\n",
      "\n",
      "Running COMETS simulation ...\n",
      "\n",
      "Debug Here ...\n",
      "Done!\n",
      "pairwise 5 14 done!\n"
     ]
    },
    {
     "name": "stderr",
     "output_type": "stream",
     "text": [
      "C:\\Users\\sabh\\AppData\\Local\\Temp\\ipykernel_3396\\1463650966.py:54: PerformanceWarning: DataFrame is highly fragmented.  This is usually the result of calling `frame.insert` many times, which has poor performance.  Consider joining all columns at once using pd.concat(axis=1) instead. To get a de-fragmented frame, use `newframe = frame.copy()`\n",
      "  totbiomass_df[f'{counter}_model_{a}'] = pairwise_simulation.total_biomass[f'model{a}']\n",
      "C:\\Users\\sabh\\AppData\\Local\\Temp\\ipykernel_3396\\1463650966.py:55: PerformanceWarning: DataFrame is highly fragmented.  This is usually the result of calling `frame.insert` many times, which has poor performance.  Consider joining all columns at once using pd.concat(axis=1) instead. To get a de-fragmented frame, use `newframe = frame.copy()`\n",
      "  totbiomass_df[f'{counter}_model_{b}'] = pairwise_simulation.total_biomass[f'model{b}']\n"
     ]
    },
    {
     "name": "stdout",
     "output_type": "stream",
     "text": [
      "80 of 190: Constructing layout for model 5 and model 15 ...\n",
      "\n",
      "Running COMETS simulation ...\n",
      "\n",
      "Debug Here ...\n",
      "Done!\n",
      "pairwise 5 15 done!\n"
     ]
    },
    {
     "name": "stderr",
     "output_type": "stream",
     "text": [
      "C:\\Users\\sabh\\AppData\\Local\\Temp\\ipykernel_3396\\1463650966.py:54: PerformanceWarning: DataFrame is highly fragmented.  This is usually the result of calling `frame.insert` many times, which has poor performance.  Consider joining all columns at once using pd.concat(axis=1) instead. To get a de-fragmented frame, use `newframe = frame.copy()`\n",
      "  totbiomass_df[f'{counter}_model_{a}'] = pairwise_simulation.total_biomass[f'model{a}']\n",
      "C:\\Users\\sabh\\AppData\\Local\\Temp\\ipykernel_3396\\1463650966.py:55: PerformanceWarning: DataFrame is highly fragmented.  This is usually the result of calling `frame.insert` many times, which has poor performance.  Consider joining all columns at once using pd.concat(axis=1) instead. To get a de-fragmented frame, use `newframe = frame.copy()`\n",
      "  totbiomass_df[f'{counter}_model_{b}'] = pairwise_simulation.total_biomass[f'model{b}']\n"
     ]
    },
    {
     "name": "stdout",
     "output_type": "stream",
     "text": [
      "81 of 190: Constructing layout for model 5 and model 16 ...\n",
      "\n",
      "Running COMETS simulation ...\n",
      "\n",
      "Debug Here ...\n",
      "Done!\n",
      "pairwise 5 16 done!\n"
     ]
    },
    {
     "name": "stderr",
     "output_type": "stream",
     "text": [
      "C:\\Users\\sabh\\AppData\\Local\\Temp\\ipykernel_3396\\1463650966.py:54: PerformanceWarning: DataFrame is highly fragmented.  This is usually the result of calling `frame.insert` many times, which has poor performance.  Consider joining all columns at once using pd.concat(axis=1) instead. To get a de-fragmented frame, use `newframe = frame.copy()`\n",
      "  totbiomass_df[f'{counter}_model_{a}'] = pairwise_simulation.total_biomass[f'model{a}']\n",
      "C:\\Users\\sabh\\AppData\\Local\\Temp\\ipykernel_3396\\1463650966.py:55: PerformanceWarning: DataFrame is highly fragmented.  This is usually the result of calling `frame.insert` many times, which has poor performance.  Consider joining all columns at once using pd.concat(axis=1) instead. To get a de-fragmented frame, use `newframe = frame.copy()`\n",
      "  totbiomass_df[f'{counter}_model_{b}'] = pairwise_simulation.total_biomass[f'model{b}']\n"
     ]
    },
    {
     "name": "stdout",
     "output_type": "stream",
     "text": [
      "82 of 190: Constructing layout for model 5 and model 17 ...\n",
      "\n",
      "Running COMETS simulation ...\n",
      "\n",
      "Debug Here ...\n",
      "Done!\n",
      "pairwise 5 17 done!\n"
     ]
    },
    {
     "name": "stderr",
     "output_type": "stream",
     "text": [
      "C:\\Users\\sabh\\AppData\\Local\\Temp\\ipykernel_3396\\1463650966.py:54: PerformanceWarning: DataFrame is highly fragmented.  This is usually the result of calling `frame.insert` many times, which has poor performance.  Consider joining all columns at once using pd.concat(axis=1) instead. To get a de-fragmented frame, use `newframe = frame.copy()`\n",
      "  totbiomass_df[f'{counter}_model_{a}'] = pairwise_simulation.total_biomass[f'model{a}']\n",
      "C:\\Users\\sabh\\AppData\\Local\\Temp\\ipykernel_3396\\1463650966.py:55: PerformanceWarning: DataFrame is highly fragmented.  This is usually the result of calling `frame.insert` many times, which has poor performance.  Consider joining all columns at once using pd.concat(axis=1) instead. To get a de-fragmented frame, use `newframe = frame.copy()`\n",
      "  totbiomass_df[f'{counter}_model_{b}'] = pairwise_simulation.total_biomass[f'model{b}']\n"
     ]
    },
    {
     "name": "stdout",
     "output_type": "stream",
     "text": [
      "83 of 190: Constructing layout for model 5 and model 18 ...\n",
      "\n",
      "Running COMETS simulation ...\n",
      "\n",
      "Debug Here ...\n",
      "Done!\n",
      "pairwise 5 18 done!\n"
     ]
    },
    {
     "name": "stderr",
     "output_type": "stream",
     "text": [
      "C:\\Users\\sabh\\AppData\\Local\\Temp\\ipykernel_3396\\1463650966.py:54: PerformanceWarning: DataFrame is highly fragmented.  This is usually the result of calling `frame.insert` many times, which has poor performance.  Consider joining all columns at once using pd.concat(axis=1) instead. To get a de-fragmented frame, use `newframe = frame.copy()`\n",
      "  totbiomass_df[f'{counter}_model_{a}'] = pairwise_simulation.total_biomass[f'model{a}']\n",
      "C:\\Users\\sabh\\AppData\\Local\\Temp\\ipykernel_3396\\1463650966.py:55: PerformanceWarning: DataFrame is highly fragmented.  This is usually the result of calling `frame.insert` many times, which has poor performance.  Consider joining all columns at once using pd.concat(axis=1) instead. To get a de-fragmented frame, use `newframe = frame.copy()`\n",
      "  totbiomass_df[f'{counter}_model_{b}'] = pairwise_simulation.total_biomass[f'model{b}']\n"
     ]
    },
    {
     "name": "stdout",
     "output_type": "stream",
     "text": [
      "84 of 190: Constructing layout for model 5 and model 19 ...\n",
      "\n",
      "Running COMETS simulation ...\n",
      "\n",
      "Debug Here ...\n",
      "Done!\n",
      "pairwise 5 19 done!\n"
     ]
    },
    {
     "name": "stderr",
     "output_type": "stream",
     "text": [
      "C:\\Users\\sabh\\AppData\\Local\\Temp\\ipykernel_3396\\1463650966.py:54: PerformanceWarning: DataFrame is highly fragmented.  This is usually the result of calling `frame.insert` many times, which has poor performance.  Consider joining all columns at once using pd.concat(axis=1) instead. To get a de-fragmented frame, use `newframe = frame.copy()`\n",
      "  totbiomass_df[f'{counter}_model_{a}'] = pairwise_simulation.total_biomass[f'model{a}']\n",
      "C:\\Users\\sabh\\AppData\\Local\\Temp\\ipykernel_3396\\1463650966.py:55: PerformanceWarning: DataFrame is highly fragmented.  This is usually the result of calling `frame.insert` many times, which has poor performance.  Consider joining all columns at once using pd.concat(axis=1) instead. To get a de-fragmented frame, use `newframe = frame.copy()`\n",
      "  totbiomass_df[f'{counter}_model_{b}'] = pairwise_simulation.total_biomass[f'model{b}']\n"
     ]
    },
    {
     "name": "stdout",
     "output_type": "stream",
     "text": [
      "85 of 190: Constructing layout for model 5 and model 20 ...\n",
      "\n",
      "Running COMETS simulation ...\n",
      "\n",
      "Debug Here ...\n",
      "Done!\n",
      "pairwise 5 20 done!\n"
     ]
    },
    {
     "name": "stderr",
     "output_type": "stream",
     "text": [
      "C:\\Users\\sabh\\AppData\\Local\\Temp\\ipykernel_3396\\1463650966.py:54: PerformanceWarning: DataFrame is highly fragmented.  This is usually the result of calling `frame.insert` many times, which has poor performance.  Consider joining all columns at once using pd.concat(axis=1) instead. To get a de-fragmented frame, use `newframe = frame.copy()`\n",
      "  totbiomass_df[f'{counter}_model_{a}'] = pairwise_simulation.total_biomass[f'model{a}']\n",
      "C:\\Users\\sabh\\AppData\\Local\\Temp\\ipykernel_3396\\1463650966.py:55: PerformanceWarning: DataFrame is highly fragmented.  This is usually the result of calling `frame.insert` many times, which has poor performance.  Consider joining all columns at once using pd.concat(axis=1) instead. To get a de-fragmented frame, use `newframe = frame.copy()`\n",
      "  totbiomass_df[f'{counter}_model_{b}'] = pairwise_simulation.total_biomass[f'model{b}']\n"
     ]
    },
    {
     "name": "stdout",
     "output_type": "stream",
     "text": [
      "86 of 190: Constructing layout for model 6 and model 7 ...\n",
      "\n",
      "Running COMETS simulation ...\n",
      "\n",
      "Debug Here ...\n",
      "Done!\n",
      "pairwise 6 7 done!\n"
     ]
    },
    {
     "name": "stderr",
     "output_type": "stream",
     "text": [
      "C:\\Users\\sabh\\AppData\\Local\\Temp\\ipykernel_3396\\1463650966.py:54: PerformanceWarning: DataFrame is highly fragmented.  This is usually the result of calling `frame.insert` many times, which has poor performance.  Consider joining all columns at once using pd.concat(axis=1) instead. To get a de-fragmented frame, use `newframe = frame.copy()`\n",
      "  totbiomass_df[f'{counter}_model_{a}'] = pairwise_simulation.total_biomass[f'model{a}']\n",
      "C:\\Users\\sabh\\AppData\\Local\\Temp\\ipykernel_3396\\1463650966.py:55: PerformanceWarning: DataFrame is highly fragmented.  This is usually the result of calling `frame.insert` many times, which has poor performance.  Consider joining all columns at once using pd.concat(axis=1) instead. To get a de-fragmented frame, use `newframe = frame.copy()`\n",
      "  totbiomass_df[f'{counter}_model_{b}'] = pairwise_simulation.total_biomass[f'model{b}']\n"
     ]
    },
    {
     "name": "stdout",
     "output_type": "stream",
     "text": [
      "87 of 190: Constructing layout for model 6 and model 8 ...\n",
      "\n",
      "Running COMETS simulation ...\n",
      "\n",
      "Debug Here ...\n",
      "Done!\n",
      "pairwise 6 8 done!\n"
     ]
    },
    {
     "name": "stderr",
     "output_type": "stream",
     "text": [
      "C:\\Users\\sabh\\AppData\\Local\\Temp\\ipykernel_3396\\1463650966.py:54: PerformanceWarning: DataFrame is highly fragmented.  This is usually the result of calling `frame.insert` many times, which has poor performance.  Consider joining all columns at once using pd.concat(axis=1) instead. To get a de-fragmented frame, use `newframe = frame.copy()`\n",
      "  totbiomass_df[f'{counter}_model_{a}'] = pairwise_simulation.total_biomass[f'model{a}']\n",
      "C:\\Users\\sabh\\AppData\\Local\\Temp\\ipykernel_3396\\1463650966.py:55: PerformanceWarning: DataFrame is highly fragmented.  This is usually the result of calling `frame.insert` many times, which has poor performance.  Consider joining all columns at once using pd.concat(axis=1) instead. To get a de-fragmented frame, use `newframe = frame.copy()`\n",
      "  totbiomass_df[f'{counter}_model_{b}'] = pairwise_simulation.total_biomass[f'model{b}']\n"
     ]
    },
    {
     "name": "stdout",
     "output_type": "stream",
     "text": [
      "88 of 190: Constructing layout for model 6 and model 9 ...\n",
      "\n",
      "Running COMETS simulation ...\n",
      "\n",
      "Debug Here ...\n",
      "Done!\n",
      "pairwise 6 9 done!\n"
     ]
    },
    {
     "name": "stderr",
     "output_type": "stream",
     "text": [
      "C:\\Users\\sabh\\AppData\\Local\\Temp\\ipykernel_3396\\1463650966.py:54: PerformanceWarning: DataFrame is highly fragmented.  This is usually the result of calling `frame.insert` many times, which has poor performance.  Consider joining all columns at once using pd.concat(axis=1) instead. To get a de-fragmented frame, use `newframe = frame.copy()`\n",
      "  totbiomass_df[f'{counter}_model_{a}'] = pairwise_simulation.total_biomass[f'model{a}']\n",
      "C:\\Users\\sabh\\AppData\\Local\\Temp\\ipykernel_3396\\1463650966.py:55: PerformanceWarning: DataFrame is highly fragmented.  This is usually the result of calling `frame.insert` many times, which has poor performance.  Consider joining all columns at once using pd.concat(axis=1) instead. To get a de-fragmented frame, use `newframe = frame.copy()`\n",
      "  totbiomass_df[f'{counter}_model_{b}'] = pairwise_simulation.total_biomass[f'model{b}']\n"
     ]
    },
    {
     "name": "stdout",
     "output_type": "stream",
     "text": [
      "89 of 190: Constructing layout for model 6 and model 10 ...\n",
      "\n",
      "Running COMETS simulation ...\n",
      "\n",
      "Debug Here ...\n",
      "Done!\n",
      "pairwise 6 10 done!\n"
     ]
    },
    {
     "name": "stderr",
     "output_type": "stream",
     "text": [
      "C:\\Users\\sabh\\AppData\\Local\\Temp\\ipykernel_3396\\1463650966.py:54: PerformanceWarning: DataFrame is highly fragmented.  This is usually the result of calling `frame.insert` many times, which has poor performance.  Consider joining all columns at once using pd.concat(axis=1) instead. To get a de-fragmented frame, use `newframe = frame.copy()`\n",
      "  totbiomass_df[f'{counter}_model_{a}'] = pairwise_simulation.total_biomass[f'model{a}']\n",
      "C:\\Users\\sabh\\AppData\\Local\\Temp\\ipykernel_3396\\1463650966.py:55: PerformanceWarning: DataFrame is highly fragmented.  This is usually the result of calling `frame.insert` many times, which has poor performance.  Consider joining all columns at once using pd.concat(axis=1) instead. To get a de-fragmented frame, use `newframe = frame.copy()`\n",
      "  totbiomass_df[f'{counter}_model_{b}'] = pairwise_simulation.total_biomass[f'model{b}']\n"
     ]
    },
    {
     "name": "stdout",
     "output_type": "stream",
     "text": [
      "90 of 190: Constructing layout for model 6 and model 11 ...\n",
      "\n",
      "Running COMETS simulation ...\n",
      "\n",
      "Debug Here ...\n",
      "Done!\n",
      "pairwise 6 11 done!\n"
     ]
    },
    {
     "name": "stderr",
     "output_type": "stream",
     "text": [
      "C:\\Users\\sabh\\AppData\\Local\\Temp\\ipykernel_3396\\1463650966.py:54: PerformanceWarning: DataFrame is highly fragmented.  This is usually the result of calling `frame.insert` many times, which has poor performance.  Consider joining all columns at once using pd.concat(axis=1) instead. To get a de-fragmented frame, use `newframe = frame.copy()`\n",
      "  totbiomass_df[f'{counter}_model_{a}'] = pairwise_simulation.total_biomass[f'model{a}']\n",
      "C:\\Users\\sabh\\AppData\\Local\\Temp\\ipykernel_3396\\1463650966.py:55: PerformanceWarning: DataFrame is highly fragmented.  This is usually the result of calling `frame.insert` many times, which has poor performance.  Consider joining all columns at once using pd.concat(axis=1) instead. To get a de-fragmented frame, use `newframe = frame.copy()`\n",
      "  totbiomass_df[f'{counter}_model_{b}'] = pairwise_simulation.total_biomass[f'model{b}']\n"
     ]
    },
    {
     "name": "stdout",
     "output_type": "stream",
     "text": [
      "91 of 190: Constructing layout for model 6 and model 12 ...\n",
      "\n",
      "Running COMETS simulation ...\n",
      "\n",
      "Debug Here ...\n",
      "Done!\n",
      "pairwise 6 12 done!\n"
     ]
    },
    {
     "name": "stderr",
     "output_type": "stream",
     "text": [
      "C:\\Users\\sabh\\AppData\\Local\\Temp\\ipykernel_3396\\1463650966.py:54: PerformanceWarning: DataFrame is highly fragmented.  This is usually the result of calling `frame.insert` many times, which has poor performance.  Consider joining all columns at once using pd.concat(axis=1) instead. To get a de-fragmented frame, use `newframe = frame.copy()`\n",
      "  totbiomass_df[f'{counter}_model_{a}'] = pairwise_simulation.total_biomass[f'model{a}']\n",
      "C:\\Users\\sabh\\AppData\\Local\\Temp\\ipykernel_3396\\1463650966.py:55: PerformanceWarning: DataFrame is highly fragmented.  This is usually the result of calling `frame.insert` many times, which has poor performance.  Consider joining all columns at once using pd.concat(axis=1) instead. To get a de-fragmented frame, use `newframe = frame.copy()`\n",
      "  totbiomass_df[f'{counter}_model_{b}'] = pairwise_simulation.total_biomass[f'model{b}']\n"
     ]
    },
    {
     "name": "stdout",
     "output_type": "stream",
     "text": [
      "92 of 190: Constructing layout for model 6 and model 13 ...\n",
      "\n",
      "Running COMETS simulation ...\n",
      "\n",
      "Debug Here ...\n",
      "Done!\n",
      "pairwise 6 13 done!\n"
     ]
    },
    {
     "name": "stderr",
     "output_type": "stream",
     "text": [
      "C:\\Users\\sabh\\AppData\\Local\\Temp\\ipykernel_3396\\1463650966.py:54: PerformanceWarning: DataFrame is highly fragmented.  This is usually the result of calling `frame.insert` many times, which has poor performance.  Consider joining all columns at once using pd.concat(axis=1) instead. To get a de-fragmented frame, use `newframe = frame.copy()`\n",
      "  totbiomass_df[f'{counter}_model_{a}'] = pairwise_simulation.total_biomass[f'model{a}']\n",
      "C:\\Users\\sabh\\AppData\\Local\\Temp\\ipykernel_3396\\1463650966.py:55: PerformanceWarning: DataFrame is highly fragmented.  This is usually the result of calling `frame.insert` many times, which has poor performance.  Consider joining all columns at once using pd.concat(axis=1) instead. To get a de-fragmented frame, use `newframe = frame.copy()`\n",
      "  totbiomass_df[f'{counter}_model_{b}'] = pairwise_simulation.total_biomass[f'model{b}']\n"
     ]
    },
    {
     "name": "stdout",
     "output_type": "stream",
     "text": [
      "93 of 190: Constructing layout for model 6 and model 14 ...\n",
      "\n",
      "Running COMETS simulation ...\n",
      "\n",
      "Debug Here ...\n",
      "Done!\n",
      "pairwise 6 14 done!\n"
     ]
    },
    {
     "name": "stderr",
     "output_type": "stream",
     "text": [
      "C:\\Users\\sabh\\AppData\\Local\\Temp\\ipykernel_3396\\1463650966.py:54: PerformanceWarning: DataFrame is highly fragmented.  This is usually the result of calling `frame.insert` many times, which has poor performance.  Consider joining all columns at once using pd.concat(axis=1) instead. To get a de-fragmented frame, use `newframe = frame.copy()`\n",
      "  totbiomass_df[f'{counter}_model_{a}'] = pairwise_simulation.total_biomass[f'model{a}']\n",
      "C:\\Users\\sabh\\AppData\\Local\\Temp\\ipykernel_3396\\1463650966.py:55: PerformanceWarning: DataFrame is highly fragmented.  This is usually the result of calling `frame.insert` many times, which has poor performance.  Consider joining all columns at once using pd.concat(axis=1) instead. To get a de-fragmented frame, use `newframe = frame.copy()`\n",
      "  totbiomass_df[f'{counter}_model_{b}'] = pairwise_simulation.total_biomass[f'model{b}']\n"
     ]
    },
    {
     "name": "stdout",
     "output_type": "stream",
     "text": [
      "94 of 190: Constructing layout for model 6 and model 15 ...\n",
      "\n",
      "Running COMETS simulation ...\n",
      "\n",
      "Debug Here ...\n",
      "Done!\n",
      "pairwise 6 15 done!\n"
     ]
    },
    {
     "name": "stderr",
     "output_type": "stream",
     "text": [
      "C:\\Users\\sabh\\AppData\\Local\\Temp\\ipykernel_3396\\1463650966.py:54: PerformanceWarning: DataFrame is highly fragmented.  This is usually the result of calling `frame.insert` many times, which has poor performance.  Consider joining all columns at once using pd.concat(axis=1) instead. To get a de-fragmented frame, use `newframe = frame.copy()`\n",
      "  totbiomass_df[f'{counter}_model_{a}'] = pairwise_simulation.total_biomass[f'model{a}']\n",
      "C:\\Users\\sabh\\AppData\\Local\\Temp\\ipykernel_3396\\1463650966.py:55: PerformanceWarning: DataFrame is highly fragmented.  This is usually the result of calling `frame.insert` many times, which has poor performance.  Consider joining all columns at once using pd.concat(axis=1) instead. To get a de-fragmented frame, use `newframe = frame.copy()`\n",
      "  totbiomass_df[f'{counter}_model_{b}'] = pairwise_simulation.total_biomass[f'model{b}']\n"
     ]
    },
    {
     "name": "stdout",
     "output_type": "stream",
     "text": [
      "95 of 190: Constructing layout for model 6 and model 16 ...\n",
      "\n",
      "Running COMETS simulation ...\n",
      "\n",
      "Debug Here ...\n",
      "Done!\n",
      "pairwise 6 16 done!\n"
     ]
    },
    {
     "name": "stderr",
     "output_type": "stream",
     "text": [
      "C:\\Users\\sabh\\AppData\\Local\\Temp\\ipykernel_3396\\1463650966.py:54: PerformanceWarning: DataFrame is highly fragmented.  This is usually the result of calling `frame.insert` many times, which has poor performance.  Consider joining all columns at once using pd.concat(axis=1) instead. To get a de-fragmented frame, use `newframe = frame.copy()`\n",
      "  totbiomass_df[f'{counter}_model_{a}'] = pairwise_simulation.total_biomass[f'model{a}']\n",
      "C:\\Users\\sabh\\AppData\\Local\\Temp\\ipykernel_3396\\1463650966.py:55: PerformanceWarning: DataFrame is highly fragmented.  This is usually the result of calling `frame.insert` many times, which has poor performance.  Consider joining all columns at once using pd.concat(axis=1) instead. To get a de-fragmented frame, use `newframe = frame.copy()`\n",
      "  totbiomass_df[f'{counter}_model_{b}'] = pairwise_simulation.total_biomass[f'model{b}']\n"
     ]
    },
    {
     "name": "stdout",
     "output_type": "stream",
     "text": [
      "96 of 190: Constructing layout for model 6 and model 17 ...\n",
      "\n",
      "Running COMETS simulation ...\n",
      "\n",
      "Debug Here ...\n",
      "Done!\n",
      "pairwise 6 17 done!\n"
     ]
    },
    {
     "name": "stderr",
     "output_type": "stream",
     "text": [
      "C:\\Users\\sabh\\AppData\\Local\\Temp\\ipykernel_3396\\1463650966.py:54: PerformanceWarning: DataFrame is highly fragmented.  This is usually the result of calling `frame.insert` many times, which has poor performance.  Consider joining all columns at once using pd.concat(axis=1) instead. To get a de-fragmented frame, use `newframe = frame.copy()`\n",
      "  totbiomass_df[f'{counter}_model_{a}'] = pairwise_simulation.total_biomass[f'model{a}']\n",
      "C:\\Users\\sabh\\AppData\\Local\\Temp\\ipykernel_3396\\1463650966.py:55: PerformanceWarning: DataFrame is highly fragmented.  This is usually the result of calling `frame.insert` many times, which has poor performance.  Consider joining all columns at once using pd.concat(axis=1) instead. To get a de-fragmented frame, use `newframe = frame.copy()`\n",
      "  totbiomass_df[f'{counter}_model_{b}'] = pairwise_simulation.total_biomass[f'model{b}']\n"
     ]
    },
    {
     "name": "stdout",
     "output_type": "stream",
     "text": [
      "97 of 190: Constructing layout for model 6 and model 18 ...\n",
      "\n",
      "Running COMETS simulation ...\n",
      "\n",
      "Debug Here ...\n",
      "Done!\n",
      "pairwise 6 18 done!\n"
     ]
    },
    {
     "name": "stderr",
     "output_type": "stream",
     "text": [
      "C:\\Users\\sabh\\AppData\\Local\\Temp\\ipykernel_3396\\1463650966.py:54: PerformanceWarning: DataFrame is highly fragmented.  This is usually the result of calling `frame.insert` many times, which has poor performance.  Consider joining all columns at once using pd.concat(axis=1) instead. To get a de-fragmented frame, use `newframe = frame.copy()`\n",
      "  totbiomass_df[f'{counter}_model_{a}'] = pairwise_simulation.total_biomass[f'model{a}']\n",
      "C:\\Users\\sabh\\AppData\\Local\\Temp\\ipykernel_3396\\1463650966.py:55: PerformanceWarning: DataFrame is highly fragmented.  This is usually the result of calling `frame.insert` many times, which has poor performance.  Consider joining all columns at once using pd.concat(axis=1) instead. To get a de-fragmented frame, use `newframe = frame.copy()`\n",
      "  totbiomass_df[f'{counter}_model_{b}'] = pairwise_simulation.total_biomass[f'model{b}']\n"
     ]
    },
    {
     "name": "stdout",
     "output_type": "stream",
     "text": [
      "98 of 190: Constructing layout for model 6 and model 19 ...\n",
      "\n",
      "Running COMETS simulation ...\n",
      "\n",
      "Debug Here ...\n",
      "Done!\n",
      "pairwise 6 19 done!\n"
     ]
    },
    {
     "name": "stderr",
     "output_type": "stream",
     "text": [
      "C:\\Users\\sabh\\AppData\\Local\\Temp\\ipykernel_3396\\1463650966.py:54: PerformanceWarning: DataFrame is highly fragmented.  This is usually the result of calling `frame.insert` many times, which has poor performance.  Consider joining all columns at once using pd.concat(axis=1) instead. To get a de-fragmented frame, use `newframe = frame.copy()`\n",
      "  totbiomass_df[f'{counter}_model_{a}'] = pairwise_simulation.total_biomass[f'model{a}']\n",
      "C:\\Users\\sabh\\AppData\\Local\\Temp\\ipykernel_3396\\1463650966.py:55: PerformanceWarning: DataFrame is highly fragmented.  This is usually the result of calling `frame.insert` many times, which has poor performance.  Consider joining all columns at once using pd.concat(axis=1) instead. To get a de-fragmented frame, use `newframe = frame.copy()`\n",
      "  totbiomass_df[f'{counter}_model_{b}'] = pairwise_simulation.total_biomass[f'model{b}']\n"
     ]
    },
    {
     "name": "stdout",
     "output_type": "stream",
     "text": [
      "99 of 190: Constructing layout for model 6 and model 20 ...\n",
      "\n",
      "Running COMETS simulation ...\n",
      "\n",
      "Debug Here ...\n",
      "Done!\n",
      "pairwise 6 20 done!\n"
     ]
    },
    {
     "name": "stderr",
     "output_type": "stream",
     "text": [
      "C:\\Users\\sabh\\AppData\\Local\\Temp\\ipykernel_3396\\1463650966.py:54: PerformanceWarning: DataFrame is highly fragmented.  This is usually the result of calling `frame.insert` many times, which has poor performance.  Consider joining all columns at once using pd.concat(axis=1) instead. To get a de-fragmented frame, use `newframe = frame.copy()`\n",
      "  totbiomass_df[f'{counter}_model_{a}'] = pairwise_simulation.total_biomass[f'model{a}']\n",
      "C:\\Users\\sabh\\AppData\\Local\\Temp\\ipykernel_3396\\1463650966.py:55: PerformanceWarning: DataFrame is highly fragmented.  This is usually the result of calling `frame.insert` many times, which has poor performance.  Consider joining all columns at once using pd.concat(axis=1) instead. To get a de-fragmented frame, use `newframe = frame.copy()`\n",
      "  totbiomass_df[f'{counter}_model_{b}'] = pairwise_simulation.total_biomass[f'model{b}']\n"
     ]
    },
    {
     "name": "stdout",
     "output_type": "stream",
     "text": [
      "100 of 190: Constructing layout for model 7 and model 8 ...\n",
      "\n",
      "Running COMETS simulation ...\n",
      "\n",
      "Debug Here ...\n",
      "Done!\n",
      "pairwise 7 8 done!\n"
     ]
    },
    {
     "name": "stderr",
     "output_type": "stream",
     "text": [
      "C:\\Users\\sabh\\AppData\\Local\\Temp\\ipykernel_3396\\1463650966.py:54: PerformanceWarning: DataFrame is highly fragmented.  This is usually the result of calling `frame.insert` many times, which has poor performance.  Consider joining all columns at once using pd.concat(axis=1) instead. To get a de-fragmented frame, use `newframe = frame.copy()`\n",
      "  totbiomass_df[f'{counter}_model_{a}'] = pairwise_simulation.total_biomass[f'model{a}']\n",
      "C:\\Users\\sabh\\AppData\\Local\\Temp\\ipykernel_3396\\1463650966.py:55: PerformanceWarning: DataFrame is highly fragmented.  This is usually the result of calling `frame.insert` many times, which has poor performance.  Consider joining all columns at once using pd.concat(axis=1) instead. To get a de-fragmented frame, use `newframe = frame.copy()`\n",
      "  totbiomass_df[f'{counter}_model_{b}'] = pairwise_simulation.total_biomass[f'model{b}']\n"
     ]
    },
    {
     "name": "stdout",
     "output_type": "stream",
     "text": [
      "101 of 190: Constructing layout for model 7 and model 9 ...\n",
      "\n",
      "Running COMETS simulation ...\n",
      "\n",
      "Debug Here ...\n",
      "Done!\n",
      "pairwise 7 9 done!\n"
     ]
    },
    {
     "name": "stderr",
     "output_type": "stream",
     "text": [
      "C:\\Users\\sabh\\AppData\\Local\\Temp\\ipykernel_3396\\1463650966.py:54: PerformanceWarning: DataFrame is highly fragmented.  This is usually the result of calling `frame.insert` many times, which has poor performance.  Consider joining all columns at once using pd.concat(axis=1) instead. To get a de-fragmented frame, use `newframe = frame.copy()`\n",
      "  totbiomass_df[f'{counter}_model_{a}'] = pairwise_simulation.total_biomass[f'model{a}']\n",
      "C:\\Users\\sabh\\AppData\\Local\\Temp\\ipykernel_3396\\1463650966.py:55: PerformanceWarning: DataFrame is highly fragmented.  This is usually the result of calling `frame.insert` many times, which has poor performance.  Consider joining all columns at once using pd.concat(axis=1) instead. To get a de-fragmented frame, use `newframe = frame.copy()`\n",
      "  totbiomass_df[f'{counter}_model_{b}'] = pairwise_simulation.total_biomass[f'model{b}']\n"
     ]
    },
    {
     "name": "stdout",
     "output_type": "stream",
     "text": [
      "102 of 190: Constructing layout for model 7 and model 10 ...\n",
      "\n",
      "Running COMETS simulation ...\n",
      "\n",
      "Debug Here ...\n",
      "Done!\n",
      "pairwise 7 10 done!\n"
     ]
    },
    {
     "name": "stderr",
     "output_type": "stream",
     "text": [
      "C:\\Users\\sabh\\AppData\\Local\\Temp\\ipykernel_3396\\1463650966.py:54: PerformanceWarning: DataFrame is highly fragmented.  This is usually the result of calling `frame.insert` many times, which has poor performance.  Consider joining all columns at once using pd.concat(axis=1) instead. To get a de-fragmented frame, use `newframe = frame.copy()`\n",
      "  totbiomass_df[f'{counter}_model_{a}'] = pairwise_simulation.total_biomass[f'model{a}']\n",
      "C:\\Users\\sabh\\AppData\\Local\\Temp\\ipykernel_3396\\1463650966.py:55: PerformanceWarning: DataFrame is highly fragmented.  This is usually the result of calling `frame.insert` many times, which has poor performance.  Consider joining all columns at once using pd.concat(axis=1) instead. To get a de-fragmented frame, use `newframe = frame.copy()`\n",
      "  totbiomass_df[f'{counter}_model_{b}'] = pairwise_simulation.total_biomass[f'model{b}']\n"
     ]
    },
    {
     "name": "stdout",
     "output_type": "stream",
     "text": [
      "103 of 190: Constructing layout for model 7 and model 11 ...\n",
      "\n",
      "Running COMETS simulation ...\n",
      "\n",
      "Debug Here ...\n",
      "Done!\n",
      "pairwise 7 11 done!\n"
     ]
    },
    {
     "name": "stderr",
     "output_type": "stream",
     "text": [
      "C:\\Users\\sabh\\AppData\\Local\\Temp\\ipykernel_3396\\1463650966.py:54: PerformanceWarning: DataFrame is highly fragmented.  This is usually the result of calling `frame.insert` many times, which has poor performance.  Consider joining all columns at once using pd.concat(axis=1) instead. To get a de-fragmented frame, use `newframe = frame.copy()`\n",
      "  totbiomass_df[f'{counter}_model_{a}'] = pairwise_simulation.total_biomass[f'model{a}']\n",
      "C:\\Users\\sabh\\AppData\\Local\\Temp\\ipykernel_3396\\1463650966.py:55: PerformanceWarning: DataFrame is highly fragmented.  This is usually the result of calling `frame.insert` many times, which has poor performance.  Consider joining all columns at once using pd.concat(axis=1) instead. To get a de-fragmented frame, use `newframe = frame.copy()`\n",
      "  totbiomass_df[f'{counter}_model_{b}'] = pairwise_simulation.total_biomass[f'model{b}']\n"
     ]
    },
    {
     "name": "stdout",
     "output_type": "stream",
     "text": [
      "104 of 190: Constructing layout for model 7 and model 12 ...\n",
      "\n",
      "Running COMETS simulation ...\n",
      "\n",
      "Debug Here ...\n",
      "Done!\n",
      "pairwise 7 12 done!\n"
     ]
    },
    {
     "name": "stderr",
     "output_type": "stream",
     "text": [
      "C:\\Users\\sabh\\AppData\\Local\\Temp\\ipykernel_3396\\1463650966.py:54: PerformanceWarning: DataFrame is highly fragmented.  This is usually the result of calling `frame.insert` many times, which has poor performance.  Consider joining all columns at once using pd.concat(axis=1) instead. To get a de-fragmented frame, use `newframe = frame.copy()`\n",
      "  totbiomass_df[f'{counter}_model_{a}'] = pairwise_simulation.total_biomass[f'model{a}']\n",
      "C:\\Users\\sabh\\AppData\\Local\\Temp\\ipykernel_3396\\1463650966.py:55: PerformanceWarning: DataFrame is highly fragmented.  This is usually the result of calling `frame.insert` many times, which has poor performance.  Consider joining all columns at once using pd.concat(axis=1) instead. To get a de-fragmented frame, use `newframe = frame.copy()`\n",
      "  totbiomass_df[f'{counter}_model_{b}'] = pairwise_simulation.total_biomass[f'model{b}']\n"
     ]
    },
    {
     "name": "stdout",
     "output_type": "stream",
     "text": [
      "105 of 190: Constructing layout for model 7 and model 13 ...\n",
      "\n",
      "Running COMETS simulation ...\n",
      "\n",
      "Debug Here ...\n",
      "Done!\n",
      "pairwise 7 13 done!\n"
     ]
    },
    {
     "name": "stderr",
     "output_type": "stream",
     "text": [
      "C:\\Users\\sabh\\AppData\\Local\\Temp\\ipykernel_3396\\1463650966.py:54: PerformanceWarning: DataFrame is highly fragmented.  This is usually the result of calling `frame.insert` many times, which has poor performance.  Consider joining all columns at once using pd.concat(axis=1) instead. To get a de-fragmented frame, use `newframe = frame.copy()`\n",
      "  totbiomass_df[f'{counter}_model_{a}'] = pairwise_simulation.total_biomass[f'model{a}']\n",
      "C:\\Users\\sabh\\AppData\\Local\\Temp\\ipykernel_3396\\1463650966.py:55: PerformanceWarning: DataFrame is highly fragmented.  This is usually the result of calling `frame.insert` many times, which has poor performance.  Consider joining all columns at once using pd.concat(axis=1) instead. To get a de-fragmented frame, use `newframe = frame.copy()`\n",
      "  totbiomass_df[f'{counter}_model_{b}'] = pairwise_simulation.total_biomass[f'model{b}']\n"
     ]
    },
    {
     "name": "stdout",
     "output_type": "stream",
     "text": [
      "106 of 190: Constructing layout for model 7 and model 14 ...\n",
      "\n",
      "Running COMETS simulation ...\n",
      "\n",
      "Debug Here ...\n",
      "Done!\n",
      "pairwise 7 14 done!\n"
     ]
    },
    {
     "name": "stderr",
     "output_type": "stream",
     "text": [
      "C:\\Users\\sabh\\AppData\\Local\\Temp\\ipykernel_3396\\1463650966.py:54: PerformanceWarning: DataFrame is highly fragmented.  This is usually the result of calling `frame.insert` many times, which has poor performance.  Consider joining all columns at once using pd.concat(axis=1) instead. To get a de-fragmented frame, use `newframe = frame.copy()`\n",
      "  totbiomass_df[f'{counter}_model_{a}'] = pairwise_simulation.total_biomass[f'model{a}']\n",
      "C:\\Users\\sabh\\AppData\\Local\\Temp\\ipykernel_3396\\1463650966.py:55: PerformanceWarning: DataFrame is highly fragmented.  This is usually the result of calling `frame.insert` many times, which has poor performance.  Consider joining all columns at once using pd.concat(axis=1) instead. To get a de-fragmented frame, use `newframe = frame.copy()`\n",
      "  totbiomass_df[f'{counter}_model_{b}'] = pairwise_simulation.total_biomass[f'model{b}']\n"
     ]
    },
    {
     "name": "stdout",
     "output_type": "stream",
     "text": [
      "107 of 190: Constructing layout for model 7 and model 15 ...\n",
      "\n",
      "Running COMETS simulation ...\n",
      "\n",
      "Debug Here ...\n",
      "Done!\n",
      "pairwise 7 15 done!\n"
     ]
    },
    {
     "name": "stderr",
     "output_type": "stream",
     "text": [
      "C:\\Users\\sabh\\AppData\\Local\\Temp\\ipykernel_3396\\1463650966.py:54: PerformanceWarning: DataFrame is highly fragmented.  This is usually the result of calling `frame.insert` many times, which has poor performance.  Consider joining all columns at once using pd.concat(axis=1) instead. To get a de-fragmented frame, use `newframe = frame.copy()`\n",
      "  totbiomass_df[f'{counter}_model_{a}'] = pairwise_simulation.total_biomass[f'model{a}']\n",
      "C:\\Users\\sabh\\AppData\\Local\\Temp\\ipykernel_3396\\1463650966.py:55: PerformanceWarning: DataFrame is highly fragmented.  This is usually the result of calling `frame.insert` many times, which has poor performance.  Consider joining all columns at once using pd.concat(axis=1) instead. To get a de-fragmented frame, use `newframe = frame.copy()`\n",
      "  totbiomass_df[f'{counter}_model_{b}'] = pairwise_simulation.total_biomass[f'model{b}']\n"
     ]
    },
    {
     "name": "stdout",
     "output_type": "stream",
     "text": [
      "108 of 190: Constructing layout for model 7 and model 16 ...\n",
      "\n",
      "Running COMETS simulation ...\n",
      "\n",
      "Debug Here ...\n",
      "Done!\n",
      "pairwise 7 16 done!\n"
     ]
    },
    {
     "name": "stderr",
     "output_type": "stream",
     "text": [
      "C:\\Users\\sabh\\AppData\\Local\\Temp\\ipykernel_3396\\1463650966.py:54: PerformanceWarning: DataFrame is highly fragmented.  This is usually the result of calling `frame.insert` many times, which has poor performance.  Consider joining all columns at once using pd.concat(axis=1) instead. To get a de-fragmented frame, use `newframe = frame.copy()`\n",
      "  totbiomass_df[f'{counter}_model_{a}'] = pairwise_simulation.total_biomass[f'model{a}']\n",
      "C:\\Users\\sabh\\AppData\\Local\\Temp\\ipykernel_3396\\1463650966.py:55: PerformanceWarning: DataFrame is highly fragmented.  This is usually the result of calling `frame.insert` many times, which has poor performance.  Consider joining all columns at once using pd.concat(axis=1) instead. To get a de-fragmented frame, use `newframe = frame.copy()`\n",
      "  totbiomass_df[f'{counter}_model_{b}'] = pairwise_simulation.total_biomass[f'model{b}']\n"
     ]
    },
    {
     "name": "stdout",
     "output_type": "stream",
     "text": [
      "109 of 190: Constructing layout for model 7 and model 17 ...\n",
      "\n",
      "Running COMETS simulation ...\n",
      "\n",
      "Debug Here ...\n",
      "Done!\n",
      "pairwise 7 17 done!\n"
     ]
    },
    {
     "name": "stderr",
     "output_type": "stream",
     "text": [
      "C:\\Users\\sabh\\AppData\\Local\\Temp\\ipykernel_3396\\1463650966.py:54: PerformanceWarning: DataFrame is highly fragmented.  This is usually the result of calling `frame.insert` many times, which has poor performance.  Consider joining all columns at once using pd.concat(axis=1) instead. To get a de-fragmented frame, use `newframe = frame.copy()`\n",
      "  totbiomass_df[f'{counter}_model_{a}'] = pairwise_simulation.total_biomass[f'model{a}']\n",
      "C:\\Users\\sabh\\AppData\\Local\\Temp\\ipykernel_3396\\1463650966.py:55: PerformanceWarning: DataFrame is highly fragmented.  This is usually the result of calling `frame.insert` many times, which has poor performance.  Consider joining all columns at once using pd.concat(axis=1) instead. To get a de-fragmented frame, use `newframe = frame.copy()`\n",
      "  totbiomass_df[f'{counter}_model_{b}'] = pairwise_simulation.total_biomass[f'model{b}']\n"
     ]
    },
    {
     "name": "stdout",
     "output_type": "stream",
     "text": [
      "110 of 190: Constructing layout for model 7 and model 18 ...\n",
      "\n",
      "Running COMETS simulation ...\n",
      "\n",
      "Debug Here ...\n",
      "Done!\n",
      "pairwise 7 18 done!\n"
     ]
    },
    {
     "name": "stderr",
     "output_type": "stream",
     "text": [
      "C:\\Users\\sabh\\AppData\\Local\\Temp\\ipykernel_3396\\1463650966.py:54: PerformanceWarning: DataFrame is highly fragmented.  This is usually the result of calling `frame.insert` many times, which has poor performance.  Consider joining all columns at once using pd.concat(axis=1) instead. To get a de-fragmented frame, use `newframe = frame.copy()`\n",
      "  totbiomass_df[f'{counter}_model_{a}'] = pairwise_simulation.total_biomass[f'model{a}']\n",
      "C:\\Users\\sabh\\AppData\\Local\\Temp\\ipykernel_3396\\1463650966.py:55: PerformanceWarning: DataFrame is highly fragmented.  This is usually the result of calling `frame.insert` many times, which has poor performance.  Consider joining all columns at once using pd.concat(axis=1) instead. To get a de-fragmented frame, use `newframe = frame.copy()`\n",
      "  totbiomass_df[f'{counter}_model_{b}'] = pairwise_simulation.total_biomass[f'model{b}']\n"
     ]
    },
    {
     "name": "stdout",
     "output_type": "stream",
     "text": [
      "111 of 190: Constructing layout for model 7 and model 19 ...\n",
      "\n",
      "Running COMETS simulation ...\n",
      "\n",
      "Debug Here ...\n",
      "Done!\n",
      "pairwise 7 19 done!\n"
     ]
    },
    {
     "name": "stderr",
     "output_type": "stream",
     "text": [
      "C:\\Users\\sabh\\AppData\\Local\\Temp\\ipykernel_3396\\1463650966.py:54: PerformanceWarning: DataFrame is highly fragmented.  This is usually the result of calling `frame.insert` many times, which has poor performance.  Consider joining all columns at once using pd.concat(axis=1) instead. To get a de-fragmented frame, use `newframe = frame.copy()`\n",
      "  totbiomass_df[f'{counter}_model_{a}'] = pairwise_simulation.total_biomass[f'model{a}']\n",
      "C:\\Users\\sabh\\AppData\\Local\\Temp\\ipykernel_3396\\1463650966.py:55: PerformanceWarning: DataFrame is highly fragmented.  This is usually the result of calling `frame.insert` many times, which has poor performance.  Consider joining all columns at once using pd.concat(axis=1) instead. To get a de-fragmented frame, use `newframe = frame.copy()`\n",
      "  totbiomass_df[f'{counter}_model_{b}'] = pairwise_simulation.total_biomass[f'model{b}']\n"
     ]
    },
    {
     "name": "stdout",
     "output_type": "stream",
     "text": [
      "112 of 190: Constructing layout for model 7 and model 20 ...\n",
      "\n",
      "Running COMETS simulation ...\n",
      "\n",
      "Debug Here ...\n",
      "Done!\n",
      "pairwise 7 20 done!\n"
     ]
    },
    {
     "name": "stderr",
     "output_type": "stream",
     "text": [
      "C:\\Users\\sabh\\AppData\\Local\\Temp\\ipykernel_3396\\1463650966.py:54: PerformanceWarning: DataFrame is highly fragmented.  This is usually the result of calling `frame.insert` many times, which has poor performance.  Consider joining all columns at once using pd.concat(axis=1) instead. To get a de-fragmented frame, use `newframe = frame.copy()`\n",
      "  totbiomass_df[f'{counter}_model_{a}'] = pairwise_simulation.total_biomass[f'model{a}']\n",
      "C:\\Users\\sabh\\AppData\\Local\\Temp\\ipykernel_3396\\1463650966.py:55: PerformanceWarning: DataFrame is highly fragmented.  This is usually the result of calling `frame.insert` many times, which has poor performance.  Consider joining all columns at once using pd.concat(axis=1) instead. To get a de-fragmented frame, use `newframe = frame.copy()`\n",
      "  totbiomass_df[f'{counter}_model_{b}'] = pairwise_simulation.total_biomass[f'model{b}']\n"
     ]
    },
    {
     "name": "stdout",
     "output_type": "stream",
     "text": [
      "113 of 190: Constructing layout for model 8 and model 9 ...\n",
      "\n",
      "Running COMETS simulation ...\n",
      "\n",
      "Debug Here ...\n",
      "Done!\n",
      "pairwise 8 9 done!\n"
     ]
    },
    {
     "name": "stderr",
     "output_type": "stream",
     "text": [
      "C:\\Users\\sabh\\AppData\\Local\\Temp\\ipykernel_3396\\1463650966.py:54: PerformanceWarning: DataFrame is highly fragmented.  This is usually the result of calling `frame.insert` many times, which has poor performance.  Consider joining all columns at once using pd.concat(axis=1) instead. To get a de-fragmented frame, use `newframe = frame.copy()`\n",
      "  totbiomass_df[f'{counter}_model_{a}'] = pairwise_simulation.total_biomass[f'model{a}']\n",
      "C:\\Users\\sabh\\AppData\\Local\\Temp\\ipykernel_3396\\1463650966.py:55: PerformanceWarning: DataFrame is highly fragmented.  This is usually the result of calling `frame.insert` many times, which has poor performance.  Consider joining all columns at once using pd.concat(axis=1) instead. To get a de-fragmented frame, use `newframe = frame.copy()`\n",
      "  totbiomass_df[f'{counter}_model_{b}'] = pairwise_simulation.total_biomass[f'model{b}']\n"
     ]
    },
    {
     "name": "stdout",
     "output_type": "stream",
     "text": [
      "114 of 190: Constructing layout for model 8 and model 10 ...\n",
      "\n",
      "Running COMETS simulation ...\n",
      "\n",
      "Debug Here ...\n",
      "Done!\n",
      "pairwise 8 10 done!\n"
     ]
    },
    {
     "name": "stderr",
     "output_type": "stream",
     "text": [
      "C:\\Users\\sabh\\AppData\\Local\\Temp\\ipykernel_3396\\1463650966.py:54: PerformanceWarning: DataFrame is highly fragmented.  This is usually the result of calling `frame.insert` many times, which has poor performance.  Consider joining all columns at once using pd.concat(axis=1) instead. To get a de-fragmented frame, use `newframe = frame.copy()`\n",
      "  totbiomass_df[f'{counter}_model_{a}'] = pairwise_simulation.total_biomass[f'model{a}']\n",
      "C:\\Users\\sabh\\AppData\\Local\\Temp\\ipykernel_3396\\1463650966.py:55: PerformanceWarning: DataFrame is highly fragmented.  This is usually the result of calling `frame.insert` many times, which has poor performance.  Consider joining all columns at once using pd.concat(axis=1) instead. To get a de-fragmented frame, use `newframe = frame.copy()`\n",
      "  totbiomass_df[f'{counter}_model_{b}'] = pairwise_simulation.total_biomass[f'model{b}']\n"
     ]
    },
    {
     "name": "stdout",
     "output_type": "stream",
     "text": [
      "115 of 190: Constructing layout for model 8 and model 11 ...\n",
      "\n",
      "Running COMETS simulation ...\n",
      "\n",
      "Debug Here ...\n",
      "Done!\n",
      "pairwise 8 11 done!\n"
     ]
    },
    {
     "name": "stderr",
     "output_type": "stream",
     "text": [
      "C:\\Users\\sabh\\AppData\\Local\\Temp\\ipykernel_3396\\1463650966.py:54: PerformanceWarning: DataFrame is highly fragmented.  This is usually the result of calling `frame.insert` many times, which has poor performance.  Consider joining all columns at once using pd.concat(axis=1) instead. To get a de-fragmented frame, use `newframe = frame.copy()`\n",
      "  totbiomass_df[f'{counter}_model_{a}'] = pairwise_simulation.total_biomass[f'model{a}']\n",
      "C:\\Users\\sabh\\AppData\\Local\\Temp\\ipykernel_3396\\1463650966.py:55: PerformanceWarning: DataFrame is highly fragmented.  This is usually the result of calling `frame.insert` many times, which has poor performance.  Consider joining all columns at once using pd.concat(axis=1) instead. To get a de-fragmented frame, use `newframe = frame.copy()`\n",
      "  totbiomass_df[f'{counter}_model_{b}'] = pairwise_simulation.total_biomass[f'model{b}']\n"
     ]
    },
    {
     "name": "stdout",
     "output_type": "stream",
     "text": [
      "116 of 190: Constructing layout for model 8 and model 12 ...\n",
      "\n",
      "Running COMETS simulation ...\n",
      "\n",
      "Debug Here ...\n",
      "Done!\n",
      "pairwise 8 12 done!\n"
     ]
    },
    {
     "name": "stderr",
     "output_type": "stream",
     "text": [
      "C:\\Users\\sabh\\AppData\\Local\\Temp\\ipykernel_3396\\1463650966.py:54: PerformanceWarning: DataFrame is highly fragmented.  This is usually the result of calling `frame.insert` many times, which has poor performance.  Consider joining all columns at once using pd.concat(axis=1) instead. To get a de-fragmented frame, use `newframe = frame.copy()`\n",
      "  totbiomass_df[f'{counter}_model_{a}'] = pairwise_simulation.total_biomass[f'model{a}']\n",
      "C:\\Users\\sabh\\AppData\\Local\\Temp\\ipykernel_3396\\1463650966.py:55: PerformanceWarning: DataFrame is highly fragmented.  This is usually the result of calling `frame.insert` many times, which has poor performance.  Consider joining all columns at once using pd.concat(axis=1) instead. To get a de-fragmented frame, use `newframe = frame.copy()`\n",
      "  totbiomass_df[f'{counter}_model_{b}'] = pairwise_simulation.total_biomass[f'model{b}']\n"
     ]
    },
    {
     "name": "stdout",
     "output_type": "stream",
     "text": [
      "117 of 190: Constructing layout for model 8 and model 13 ...\n",
      "\n",
      "Running COMETS simulation ...\n",
      "\n",
      "Debug Here ...\n",
      "Done!\n",
      "pairwise 8 13 done!\n"
     ]
    },
    {
     "name": "stderr",
     "output_type": "stream",
     "text": [
      "C:\\Users\\sabh\\AppData\\Local\\Temp\\ipykernel_3396\\1463650966.py:54: PerformanceWarning: DataFrame is highly fragmented.  This is usually the result of calling `frame.insert` many times, which has poor performance.  Consider joining all columns at once using pd.concat(axis=1) instead. To get a de-fragmented frame, use `newframe = frame.copy()`\n",
      "  totbiomass_df[f'{counter}_model_{a}'] = pairwise_simulation.total_biomass[f'model{a}']\n",
      "C:\\Users\\sabh\\AppData\\Local\\Temp\\ipykernel_3396\\1463650966.py:55: PerformanceWarning: DataFrame is highly fragmented.  This is usually the result of calling `frame.insert` many times, which has poor performance.  Consider joining all columns at once using pd.concat(axis=1) instead. To get a de-fragmented frame, use `newframe = frame.copy()`\n",
      "  totbiomass_df[f'{counter}_model_{b}'] = pairwise_simulation.total_biomass[f'model{b}']\n"
     ]
    },
    {
     "name": "stdout",
     "output_type": "stream",
     "text": [
      "118 of 190: Constructing layout for model 8 and model 14 ...\n",
      "\n",
      "Running COMETS simulation ...\n",
      "\n",
      "Debug Here ...\n",
      "Done!\n",
      "pairwise 8 14 done!\n"
     ]
    },
    {
     "name": "stderr",
     "output_type": "stream",
     "text": [
      "C:\\Users\\sabh\\AppData\\Local\\Temp\\ipykernel_3396\\1463650966.py:54: PerformanceWarning: DataFrame is highly fragmented.  This is usually the result of calling `frame.insert` many times, which has poor performance.  Consider joining all columns at once using pd.concat(axis=1) instead. To get a de-fragmented frame, use `newframe = frame.copy()`\n",
      "  totbiomass_df[f'{counter}_model_{a}'] = pairwise_simulation.total_biomass[f'model{a}']\n",
      "C:\\Users\\sabh\\AppData\\Local\\Temp\\ipykernel_3396\\1463650966.py:55: PerformanceWarning: DataFrame is highly fragmented.  This is usually the result of calling `frame.insert` many times, which has poor performance.  Consider joining all columns at once using pd.concat(axis=1) instead. To get a de-fragmented frame, use `newframe = frame.copy()`\n",
      "  totbiomass_df[f'{counter}_model_{b}'] = pairwise_simulation.total_biomass[f'model{b}']\n"
     ]
    },
    {
     "name": "stdout",
     "output_type": "stream",
     "text": [
      "119 of 190: Constructing layout for model 8 and model 15 ...\n",
      "\n",
      "Running COMETS simulation ...\n",
      "\n",
      "Debug Here ...\n",
      "Done!\n",
      "pairwise 8 15 done!\n"
     ]
    },
    {
     "name": "stderr",
     "output_type": "stream",
     "text": [
      "C:\\Users\\sabh\\AppData\\Local\\Temp\\ipykernel_3396\\1463650966.py:54: PerformanceWarning: DataFrame is highly fragmented.  This is usually the result of calling `frame.insert` many times, which has poor performance.  Consider joining all columns at once using pd.concat(axis=1) instead. To get a de-fragmented frame, use `newframe = frame.copy()`\n",
      "  totbiomass_df[f'{counter}_model_{a}'] = pairwise_simulation.total_biomass[f'model{a}']\n",
      "C:\\Users\\sabh\\AppData\\Local\\Temp\\ipykernel_3396\\1463650966.py:55: PerformanceWarning: DataFrame is highly fragmented.  This is usually the result of calling `frame.insert` many times, which has poor performance.  Consider joining all columns at once using pd.concat(axis=1) instead. To get a de-fragmented frame, use `newframe = frame.copy()`\n",
      "  totbiomass_df[f'{counter}_model_{b}'] = pairwise_simulation.total_biomass[f'model{b}']\n"
     ]
    },
    {
     "name": "stdout",
     "output_type": "stream",
     "text": [
      "120 of 190: Constructing layout for model 8 and model 16 ...\n",
      "\n",
      "Running COMETS simulation ...\n",
      "\n",
      "Debug Here ...\n",
      "Done!\n",
      "pairwise 8 16 done!\n"
     ]
    },
    {
     "name": "stderr",
     "output_type": "stream",
     "text": [
      "C:\\Users\\sabh\\AppData\\Local\\Temp\\ipykernel_3396\\1463650966.py:54: PerformanceWarning: DataFrame is highly fragmented.  This is usually the result of calling `frame.insert` many times, which has poor performance.  Consider joining all columns at once using pd.concat(axis=1) instead. To get a de-fragmented frame, use `newframe = frame.copy()`\n",
      "  totbiomass_df[f'{counter}_model_{a}'] = pairwise_simulation.total_biomass[f'model{a}']\n",
      "C:\\Users\\sabh\\AppData\\Local\\Temp\\ipykernel_3396\\1463650966.py:55: PerformanceWarning: DataFrame is highly fragmented.  This is usually the result of calling `frame.insert` many times, which has poor performance.  Consider joining all columns at once using pd.concat(axis=1) instead. To get a de-fragmented frame, use `newframe = frame.copy()`\n",
      "  totbiomass_df[f'{counter}_model_{b}'] = pairwise_simulation.total_biomass[f'model{b}']\n"
     ]
    },
    {
     "name": "stdout",
     "output_type": "stream",
     "text": [
      "121 of 190: Constructing layout for model 8 and model 17 ...\n",
      "\n",
      "Running COMETS simulation ...\n",
      "\n",
      "Debug Here ...\n",
      "Done!\n",
      "pairwise 8 17 done!\n"
     ]
    },
    {
     "name": "stderr",
     "output_type": "stream",
     "text": [
      "C:\\Users\\sabh\\AppData\\Local\\Temp\\ipykernel_3396\\1463650966.py:54: PerformanceWarning: DataFrame is highly fragmented.  This is usually the result of calling `frame.insert` many times, which has poor performance.  Consider joining all columns at once using pd.concat(axis=1) instead. To get a de-fragmented frame, use `newframe = frame.copy()`\n",
      "  totbiomass_df[f'{counter}_model_{a}'] = pairwise_simulation.total_biomass[f'model{a}']\n",
      "C:\\Users\\sabh\\AppData\\Local\\Temp\\ipykernel_3396\\1463650966.py:55: PerformanceWarning: DataFrame is highly fragmented.  This is usually the result of calling `frame.insert` many times, which has poor performance.  Consider joining all columns at once using pd.concat(axis=1) instead. To get a de-fragmented frame, use `newframe = frame.copy()`\n",
      "  totbiomass_df[f'{counter}_model_{b}'] = pairwise_simulation.total_biomass[f'model{b}']\n"
     ]
    },
    {
     "name": "stdout",
     "output_type": "stream",
     "text": [
      "122 of 190: Constructing layout for model 8 and model 18 ...\n",
      "\n",
      "Running COMETS simulation ...\n",
      "\n",
      "Debug Here ...\n",
      "Done!\n",
      "pairwise 8 18 done!\n"
     ]
    },
    {
     "name": "stderr",
     "output_type": "stream",
     "text": [
      "C:\\Users\\sabh\\AppData\\Local\\Temp\\ipykernel_3396\\1463650966.py:54: PerformanceWarning: DataFrame is highly fragmented.  This is usually the result of calling `frame.insert` many times, which has poor performance.  Consider joining all columns at once using pd.concat(axis=1) instead. To get a de-fragmented frame, use `newframe = frame.copy()`\n",
      "  totbiomass_df[f'{counter}_model_{a}'] = pairwise_simulation.total_biomass[f'model{a}']\n",
      "C:\\Users\\sabh\\AppData\\Local\\Temp\\ipykernel_3396\\1463650966.py:55: PerformanceWarning: DataFrame is highly fragmented.  This is usually the result of calling `frame.insert` many times, which has poor performance.  Consider joining all columns at once using pd.concat(axis=1) instead. To get a de-fragmented frame, use `newframe = frame.copy()`\n",
      "  totbiomass_df[f'{counter}_model_{b}'] = pairwise_simulation.total_biomass[f'model{b}']\n"
     ]
    },
    {
     "name": "stdout",
     "output_type": "stream",
     "text": [
      "123 of 190: Constructing layout for model 8 and model 19 ...\n",
      "\n",
      "Running COMETS simulation ...\n",
      "\n",
      "Debug Here ...\n",
      "Done!\n",
      "pairwise 8 19 done!\n"
     ]
    },
    {
     "name": "stderr",
     "output_type": "stream",
     "text": [
      "C:\\Users\\sabh\\AppData\\Local\\Temp\\ipykernel_3396\\1463650966.py:54: PerformanceWarning: DataFrame is highly fragmented.  This is usually the result of calling `frame.insert` many times, which has poor performance.  Consider joining all columns at once using pd.concat(axis=1) instead. To get a de-fragmented frame, use `newframe = frame.copy()`\n",
      "  totbiomass_df[f'{counter}_model_{a}'] = pairwise_simulation.total_biomass[f'model{a}']\n",
      "C:\\Users\\sabh\\AppData\\Local\\Temp\\ipykernel_3396\\1463650966.py:55: PerformanceWarning: DataFrame is highly fragmented.  This is usually the result of calling `frame.insert` many times, which has poor performance.  Consider joining all columns at once using pd.concat(axis=1) instead. To get a de-fragmented frame, use `newframe = frame.copy()`\n",
      "  totbiomass_df[f'{counter}_model_{b}'] = pairwise_simulation.total_biomass[f'model{b}']\n"
     ]
    },
    {
     "name": "stdout",
     "output_type": "stream",
     "text": [
      "124 of 190: Constructing layout for model 8 and model 20 ...\n",
      "\n",
      "Running COMETS simulation ...\n",
      "\n",
      "Debug Here ...\n",
      "Done!\n",
      "pairwise 8 20 done!\n"
     ]
    },
    {
     "name": "stderr",
     "output_type": "stream",
     "text": [
      "C:\\Users\\sabh\\AppData\\Local\\Temp\\ipykernel_3396\\1463650966.py:54: PerformanceWarning: DataFrame is highly fragmented.  This is usually the result of calling `frame.insert` many times, which has poor performance.  Consider joining all columns at once using pd.concat(axis=1) instead. To get a de-fragmented frame, use `newframe = frame.copy()`\n",
      "  totbiomass_df[f'{counter}_model_{a}'] = pairwise_simulation.total_biomass[f'model{a}']\n",
      "C:\\Users\\sabh\\AppData\\Local\\Temp\\ipykernel_3396\\1463650966.py:55: PerformanceWarning: DataFrame is highly fragmented.  This is usually the result of calling `frame.insert` many times, which has poor performance.  Consider joining all columns at once using pd.concat(axis=1) instead. To get a de-fragmented frame, use `newframe = frame.copy()`\n",
      "  totbiomass_df[f'{counter}_model_{b}'] = pairwise_simulation.total_biomass[f'model{b}']\n"
     ]
    },
    {
     "name": "stdout",
     "output_type": "stream",
     "text": [
      "125 of 190: Constructing layout for model 9 and model 10 ...\n",
      "\n",
      "Running COMETS simulation ...\n",
      "\n",
      "Debug Here ...\n",
      "Done!\n",
      "pairwise 9 10 done!\n"
     ]
    },
    {
     "name": "stderr",
     "output_type": "stream",
     "text": [
      "C:\\Users\\sabh\\AppData\\Local\\Temp\\ipykernel_3396\\1463650966.py:54: PerformanceWarning: DataFrame is highly fragmented.  This is usually the result of calling `frame.insert` many times, which has poor performance.  Consider joining all columns at once using pd.concat(axis=1) instead. To get a de-fragmented frame, use `newframe = frame.copy()`\n",
      "  totbiomass_df[f'{counter}_model_{a}'] = pairwise_simulation.total_biomass[f'model{a}']\n",
      "C:\\Users\\sabh\\AppData\\Local\\Temp\\ipykernel_3396\\1463650966.py:55: PerformanceWarning: DataFrame is highly fragmented.  This is usually the result of calling `frame.insert` many times, which has poor performance.  Consider joining all columns at once using pd.concat(axis=1) instead. To get a de-fragmented frame, use `newframe = frame.copy()`\n",
      "  totbiomass_df[f'{counter}_model_{b}'] = pairwise_simulation.total_biomass[f'model{b}']\n"
     ]
    },
    {
     "name": "stdout",
     "output_type": "stream",
     "text": [
      "126 of 190: Constructing layout for model 9 and model 11 ...\n",
      "\n",
      "Running COMETS simulation ...\n",
      "\n",
      "Debug Here ...\n",
      "Done!\n",
      "pairwise 9 11 done!\n"
     ]
    },
    {
     "name": "stderr",
     "output_type": "stream",
     "text": [
      "C:\\Users\\sabh\\AppData\\Local\\Temp\\ipykernel_3396\\1463650966.py:54: PerformanceWarning: DataFrame is highly fragmented.  This is usually the result of calling `frame.insert` many times, which has poor performance.  Consider joining all columns at once using pd.concat(axis=1) instead. To get a de-fragmented frame, use `newframe = frame.copy()`\n",
      "  totbiomass_df[f'{counter}_model_{a}'] = pairwise_simulation.total_biomass[f'model{a}']\n",
      "C:\\Users\\sabh\\AppData\\Local\\Temp\\ipykernel_3396\\1463650966.py:55: PerformanceWarning: DataFrame is highly fragmented.  This is usually the result of calling `frame.insert` many times, which has poor performance.  Consider joining all columns at once using pd.concat(axis=1) instead. To get a de-fragmented frame, use `newframe = frame.copy()`\n",
      "  totbiomass_df[f'{counter}_model_{b}'] = pairwise_simulation.total_biomass[f'model{b}']\n"
     ]
    },
    {
     "name": "stdout",
     "output_type": "stream",
     "text": [
      "127 of 190: Constructing layout for model 9 and model 12 ...\n",
      "\n",
      "Running COMETS simulation ...\n",
      "\n",
      "Debug Here ...\n",
      "Done!\n",
      "pairwise 9 12 done!\n"
     ]
    },
    {
     "name": "stderr",
     "output_type": "stream",
     "text": [
      "C:\\Users\\sabh\\AppData\\Local\\Temp\\ipykernel_3396\\1463650966.py:54: PerformanceWarning: DataFrame is highly fragmented.  This is usually the result of calling `frame.insert` many times, which has poor performance.  Consider joining all columns at once using pd.concat(axis=1) instead. To get a de-fragmented frame, use `newframe = frame.copy()`\n",
      "  totbiomass_df[f'{counter}_model_{a}'] = pairwise_simulation.total_biomass[f'model{a}']\n",
      "C:\\Users\\sabh\\AppData\\Local\\Temp\\ipykernel_3396\\1463650966.py:55: PerformanceWarning: DataFrame is highly fragmented.  This is usually the result of calling `frame.insert` many times, which has poor performance.  Consider joining all columns at once using pd.concat(axis=1) instead. To get a de-fragmented frame, use `newframe = frame.copy()`\n",
      "  totbiomass_df[f'{counter}_model_{b}'] = pairwise_simulation.total_biomass[f'model{b}']\n"
     ]
    },
    {
     "name": "stdout",
     "output_type": "stream",
     "text": [
      "128 of 190: Constructing layout for model 9 and model 13 ...\n",
      "\n",
      "Running COMETS simulation ...\n",
      "\n",
      "Debug Here ...\n",
      "Done!\n",
      "pairwise 9 13 done!\n"
     ]
    },
    {
     "name": "stderr",
     "output_type": "stream",
     "text": [
      "C:\\Users\\sabh\\AppData\\Local\\Temp\\ipykernel_3396\\1463650966.py:54: PerformanceWarning: DataFrame is highly fragmented.  This is usually the result of calling `frame.insert` many times, which has poor performance.  Consider joining all columns at once using pd.concat(axis=1) instead. To get a de-fragmented frame, use `newframe = frame.copy()`\n",
      "  totbiomass_df[f'{counter}_model_{a}'] = pairwise_simulation.total_biomass[f'model{a}']\n",
      "C:\\Users\\sabh\\AppData\\Local\\Temp\\ipykernel_3396\\1463650966.py:55: PerformanceWarning: DataFrame is highly fragmented.  This is usually the result of calling `frame.insert` many times, which has poor performance.  Consider joining all columns at once using pd.concat(axis=1) instead. To get a de-fragmented frame, use `newframe = frame.copy()`\n",
      "  totbiomass_df[f'{counter}_model_{b}'] = pairwise_simulation.total_biomass[f'model{b}']\n"
     ]
    },
    {
     "name": "stdout",
     "output_type": "stream",
     "text": [
      "129 of 190: Constructing layout for model 9 and model 14 ...\n",
      "\n",
      "Running COMETS simulation ...\n",
      "\n",
      "Debug Here ...\n",
      "Done!\n",
      "pairwise 9 14 done!\n"
     ]
    },
    {
     "name": "stderr",
     "output_type": "stream",
     "text": [
      "C:\\Users\\sabh\\AppData\\Local\\Temp\\ipykernel_3396\\1463650966.py:54: PerformanceWarning: DataFrame is highly fragmented.  This is usually the result of calling `frame.insert` many times, which has poor performance.  Consider joining all columns at once using pd.concat(axis=1) instead. To get a de-fragmented frame, use `newframe = frame.copy()`\n",
      "  totbiomass_df[f'{counter}_model_{a}'] = pairwise_simulation.total_biomass[f'model{a}']\n",
      "C:\\Users\\sabh\\AppData\\Local\\Temp\\ipykernel_3396\\1463650966.py:55: PerformanceWarning: DataFrame is highly fragmented.  This is usually the result of calling `frame.insert` many times, which has poor performance.  Consider joining all columns at once using pd.concat(axis=1) instead. To get a de-fragmented frame, use `newframe = frame.copy()`\n",
      "  totbiomass_df[f'{counter}_model_{b}'] = pairwise_simulation.total_biomass[f'model{b}']\n"
     ]
    },
    {
     "name": "stdout",
     "output_type": "stream",
     "text": [
      "130 of 190: Constructing layout for model 9 and model 15 ...\n",
      "\n",
      "Running COMETS simulation ...\n",
      "\n",
      "Debug Here ...\n",
      "Done!\n",
      "pairwise 9 15 done!\n"
     ]
    },
    {
     "name": "stderr",
     "output_type": "stream",
     "text": [
      "C:\\Users\\sabh\\AppData\\Local\\Temp\\ipykernel_3396\\1463650966.py:54: PerformanceWarning: DataFrame is highly fragmented.  This is usually the result of calling `frame.insert` many times, which has poor performance.  Consider joining all columns at once using pd.concat(axis=1) instead. To get a de-fragmented frame, use `newframe = frame.copy()`\n",
      "  totbiomass_df[f'{counter}_model_{a}'] = pairwise_simulation.total_biomass[f'model{a}']\n",
      "C:\\Users\\sabh\\AppData\\Local\\Temp\\ipykernel_3396\\1463650966.py:55: PerformanceWarning: DataFrame is highly fragmented.  This is usually the result of calling `frame.insert` many times, which has poor performance.  Consider joining all columns at once using pd.concat(axis=1) instead. To get a de-fragmented frame, use `newframe = frame.copy()`\n",
      "  totbiomass_df[f'{counter}_model_{b}'] = pairwise_simulation.total_biomass[f'model{b}']\n"
     ]
    },
    {
     "name": "stdout",
     "output_type": "stream",
     "text": [
      "131 of 190: Constructing layout for model 9 and model 16 ...\n",
      "\n",
      "Running COMETS simulation ...\n",
      "\n",
      "Debug Here ...\n",
      "Done!\n",
      "pairwise 9 16 done!\n"
     ]
    },
    {
     "name": "stderr",
     "output_type": "stream",
     "text": [
      "C:\\Users\\sabh\\AppData\\Local\\Temp\\ipykernel_3396\\1463650966.py:54: PerformanceWarning: DataFrame is highly fragmented.  This is usually the result of calling `frame.insert` many times, which has poor performance.  Consider joining all columns at once using pd.concat(axis=1) instead. To get a de-fragmented frame, use `newframe = frame.copy()`\n",
      "  totbiomass_df[f'{counter}_model_{a}'] = pairwise_simulation.total_biomass[f'model{a}']\n",
      "C:\\Users\\sabh\\AppData\\Local\\Temp\\ipykernel_3396\\1463650966.py:55: PerformanceWarning: DataFrame is highly fragmented.  This is usually the result of calling `frame.insert` many times, which has poor performance.  Consider joining all columns at once using pd.concat(axis=1) instead. To get a de-fragmented frame, use `newframe = frame.copy()`\n",
      "  totbiomass_df[f'{counter}_model_{b}'] = pairwise_simulation.total_biomass[f'model{b}']\n"
     ]
    },
    {
     "name": "stdout",
     "output_type": "stream",
     "text": [
      "132 of 190: Constructing layout for model 9 and model 17 ...\n",
      "\n",
      "Running COMETS simulation ...\n",
      "\n",
      "Debug Here ...\n",
      "Done!\n",
      "pairwise 9 17 done!\n"
     ]
    },
    {
     "name": "stderr",
     "output_type": "stream",
     "text": [
      "C:\\Users\\sabh\\AppData\\Local\\Temp\\ipykernel_3396\\1463650966.py:54: PerformanceWarning: DataFrame is highly fragmented.  This is usually the result of calling `frame.insert` many times, which has poor performance.  Consider joining all columns at once using pd.concat(axis=1) instead. To get a de-fragmented frame, use `newframe = frame.copy()`\n",
      "  totbiomass_df[f'{counter}_model_{a}'] = pairwise_simulation.total_biomass[f'model{a}']\n",
      "C:\\Users\\sabh\\AppData\\Local\\Temp\\ipykernel_3396\\1463650966.py:55: PerformanceWarning: DataFrame is highly fragmented.  This is usually the result of calling `frame.insert` many times, which has poor performance.  Consider joining all columns at once using pd.concat(axis=1) instead. To get a de-fragmented frame, use `newframe = frame.copy()`\n",
      "  totbiomass_df[f'{counter}_model_{b}'] = pairwise_simulation.total_biomass[f'model{b}']\n"
     ]
    },
    {
     "name": "stdout",
     "output_type": "stream",
     "text": [
      "133 of 190: Constructing layout for model 9 and model 18 ...\n",
      "\n",
      "Running COMETS simulation ...\n",
      "\n",
      "Debug Here ...\n",
      "Done!\n",
      "pairwise 9 18 done!\n"
     ]
    },
    {
     "name": "stderr",
     "output_type": "stream",
     "text": [
      "C:\\Users\\sabh\\AppData\\Local\\Temp\\ipykernel_3396\\1463650966.py:54: PerformanceWarning: DataFrame is highly fragmented.  This is usually the result of calling `frame.insert` many times, which has poor performance.  Consider joining all columns at once using pd.concat(axis=1) instead. To get a de-fragmented frame, use `newframe = frame.copy()`\n",
      "  totbiomass_df[f'{counter}_model_{a}'] = pairwise_simulation.total_biomass[f'model{a}']\n",
      "C:\\Users\\sabh\\AppData\\Local\\Temp\\ipykernel_3396\\1463650966.py:55: PerformanceWarning: DataFrame is highly fragmented.  This is usually the result of calling `frame.insert` many times, which has poor performance.  Consider joining all columns at once using pd.concat(axis=1) instead. To get a de-fragmented frame, use `newframe = frame.copy()`\n",
      "  totbiomass_df[f'{counter}_model_{b}'] = pairwise_simulation.total_biomass[f'model{b}']\n"
     ]
    },
    {
     "name": "stdout",
     "output_type": "stream",
     "text": [
      "134 of 190: Constructing layout for model 9 and model 19 ...\n",
      "\n",
      "Running COMETS simulation ...\n",
      "\n",
      "Debug Here ...\n",
      "Done!\n",
      "pairwise 9 19 done!\n"
     ]
    },
    {
     "name": "stderr",
     "output_type": "stream",
     "text": [
      "C:\\Users\\sabh\\AppData\\Local\\Temp\\ipykernel_3396\\1463650966.py:54: PerformanceWarning: DataFrame is highly fragmented.  This is usually the result of calling `frame.insert` many times, which has poor performance.  Consider joining all columns at once using pd.concat(axis=1) instead. To get a de-fragmented frame, use `newframe = frame.copy()`\n",
      "  totbiomass_df[f'{counter}_model_{a}'] = pairwise_simulation.total_biomass[f'model{a}']\n",
      "C:\\Users\\sabh\\AppData\\Local\\Temp\\ipykernel_3396\\1463650966.py:55: PerformanceWarning: DataFrame is highly fragmented.  This is usually the result of calling `frame.insert` many times, which has poor performance.  Consider joining all columns at once using pd.concat(axis=1) instead. To get a de-fragmented frame, use `newframe = frame.copy()`\n",
      "  totbiomass_df[f'{counter}_model_{b}'] = pairwise_simulation.total_biomass[f'model{b}']\n"
     ]
    },
    {
     "name": "stdout",
     "output_type": "stream",
     "text": [
      "135 of 190: Constructing layout for model 9 and model 20 ...\n",
      "\n",
      "Running COMETS simulation ...\n",
      "\n",
      "Debug Here ...\n",
      "Done!\n",
      "pairwise 9 20 done!\n"
     ]
    },
    {
     "name": "stderr",
     "output_type": "stream",
     "text": [
      "C:\\Users\\sabh\\AppData\\Local\\Temp\\ipykernel_3396\\1463650966.py:54: PerformanceWarning: DataFrame is highly fragmented.  This is usually the result of calling `frame.insert` many times, which has poor performance.  Consider joining all columns at once using pd.concat(axis=1) instead. To get a de-fragmented frame, use `newframe = frame.copy()`\n",
      "  totbiomass_df[f'{counter}_model_{a}'] = pairwise_simulation.total_biomass[f'model{a}']\n",
      "C:\\Users\\sabh\\AppData\\Local\\Temp\\ipykernel_3396\\1463650966.py:55: PerformanceWarning: DataFrame is highly fragmented.  This is usually the result of calling `frame.insert` many times, which has poor performance.  Consider joining all columns at once using pd.concat(axis=1) instead. To get a de-fragmented frame, use `newframe = frame.copy()`\n",
      "  totbiomass_df[f'{counter}_model_{b}'] = pairwise_simulation.total_biomass[f'model{b}']\n"
     ]
    },
    {
     "name": "stdout",
     "output_type": "stream",
     "text": [
      "136 of 190: Constructing layout for model 10 and model 11 ...\n",
      "\n",
      "Running COMETS simulation ...\n",
      "\n",
      "Debug Here ...\n",
      "Done!\n",
      "pairwise 10 11 done!\n"
     ]
    },
    {
     "name": "stderr",
     "output_type": "stream",
     "text": [
      "C:\\Users\\sabh\\AppData\\Local\\Temp\\ipykernel_3396\\1463650966.py:54: PerformanceWarning: DataFrame is highly fragmented.  This is usually the result of calling `frame.insert` many times, which has poor performance.  Consider joining all columns at once using pd.concat(axis=1) instead. To get a de-fragmented frame, use `newframe = frame.copy()`\n",
      "  totbiomass_df[f'{counter}_model_{a}'] = pairwise_simulation.total_biomass[f'model{a}']\n",
      "C:\\Users\\sabh\\AppData\\Local\\Temp\\ipykernel_3396\\1463650966.py:55: PerformanceWarning: DataFrame is highly fragmented.  This is usually the result of calling `frame.insert` many times, which has poor performance.  Consider joining all columns at once using pd.concat(axis=1) instead. To get a de-fragmented frame, use `newframe = frame.copy()`\n",
      "  totbiomass_df[f'{counter}_model_{b}'] = pairwise_simulation.total_biomass[f'model{b}']\n"
     ]
    },
    {
     "name": "stdout",
     "output_type": "stream",
     "text": [
      "137 of 190: Constructing layout for model 10 and model 12 ...\n",
      "\n",
      "Running COMETS simulation ...\n",
      "\n",
      "Debug Here ...\n",
      "Done!\n",
      "pairwise 10 12 done!\n"
     ]
    },
    {
     "name": "stderr",
     "output_type": "stream",
     "text": [
      "C:\\Users\\sabh\\AppData\\Local\\Temp\\ipykernel_3396\\1463650966.py:54: PerformanceWarning: DataFrame is highly fragmented.  This is usually the result of calling `frame.insert` many times, which has poor performance.  Consider joining all columns at once using pd.concat(axis=1) instead. To get a de-fragmented frame, use `newframe = frame.copy()`\n",
      "  totbiomass_df[f'{counter}_model_{a}'] = pairwise_simulation.total_biomass[f'model{a}']\n",
      "C:\\Users\\sabh\\AppData\\Local\\Temp\\ipykernel_3396\\1463650966.py:55: PerformanceWarning: DataFrame is highly fragmented.  This is usually the result of calling `frame.insert` many times, which has poor performance.  Consider joining all columns at once using pd.concat(axis=1) instead. To get a de-fragmented frame, use `newframe = frame.copy()`\n",
      "  totbiomass_df[f'{counter}_model_{b}'] = pairwise_simulation.total_biomass[f'model{b}']\n"
     ]
    },
    {
     "name": "stdout",
     "output_type": "stream",
     "text": [
      "138 of 190: Constructing layout for model 10 and model 13 ...\n",
      "\n",
      "Running COMETS simulation ...\n",
      "\n",
      "Debug Here ...\n",
      "Done!\n",
      "pairwise 10 13 done!\n"
     ]
    },
    {
     "name": "stderr",
     "output_type": "stream",
     "text": [
      "C:\\Users\\sabh\\AppData\\Local\\Temp\\ipykernel_3396\\1463650966.py:54: PerformanceWarning: DataFrame is highly fragmented.  This is usually the result of calling `frame.insert` many times, which has poor performance.  Consider joining all columns at once using pd.concat(axis=1) instead. To get a de-fragmented frame, use `newframe = frame.copy()`\n",
      "  totbiomass_df[f'{counter}_model_{a}'] = pairwise_simulation.total_biomass[f'model{a}']\n",
      "C:\\Users\\sabh\\AppData\\Local\\Temp\\ipykernel_3396\\1463650966.py:55: PerformanceWarning: DataFrame is highly fragmented.  This is usually the result of calling `frame.insert` many times, which has poor performance.  Consider joining all columns at once using pd.concat(axis=1) instead. To get a de-fragmented frame, use `newframe = frame.copy()`\n",
      "  totbiomass_df[f'{counter}_model_{b}'] = pairwise_simulation.total_biomass[f'model{b}']\n"
     ]
    },
    {
     "name": "stdout",
     "output_type": "stream",
     "text": [
      "139 of 190: Constructing layout for model 10 and model 14 ...\n",
      "\n",
      "Running COMETS simulation ...\n",
      "\n",
      "Debug Here ...\n",
      "Done!\n",
      "pairwise 10 14 done!\n"
     ]
    },
    {
     "name": "stderr",
     "output_type": "stream",
     "text": [
      "C:\\Users\\sabh\\AppData\\Local\\Temp\\ipykernel_3396\\1463650966.py:54: PerformanceWarning: DataFrame is highly fragmented.  This is usually the result of calling `frame.insert` many times, which has poor performance.  Consider joining all columns at once using pd.concat(axis=1) instead. To get a de-fragmented frame, use `newframe = frame.copy()`\n",
      "  totbiomass_df[f'{counter}_model_{a}'] = pairwise_simulation.total_biomass[f'model{a}']\n",
      "C:\\Users\\sabh\\AppData\\Local\\Temp\\ipykernel_3396\\1463650966.py:55: PerformanceWarning: DataFrame is highly fragmented.  This is usually the result of calling `frame.insert` many times, which has poor performance.  Consider joining all columns at once using pd.concat(axis=1) instead. To get a de-fragmented frame, use `newframe = frame.copy()`\n",
      "  totbiomass_df[f'{counter}_model_{b}'] = pairwise_simulation.total_biomass[f'model{b}']\n"
     ]
    },
    {
     "name": "stdout",
     "output_type": "stream",
     "text": [
      "140 of 190: Constructing layout for model 10 and model 15 ...\n",
      "\n",
      "Running COMETS simulation ...\n",
      "\n",
      "Debug Here ...\n",
      "Done!\n",
      "pairwise 10 15 done!\n"
     ]
    },
    {
     "name": "stderr",
     "output_type": "stream",
     "text": [
      "C:\\Users\\sabh\\AppData\\Local\\Temp\\ipykernel_3396\\1463650966.py:54: PerformanceWarning: DataFrame is highly fragmented.  This is usually the result of calling `frame.insert` many times, which has poor performance.  Consider joining all columns at once using pd.concat(axis=1) instead. To get a de-fragmented frame, use `newframe = frame.copy()`\n",
      "  totbiomass_df[f'{counter}_model_{a}'] = pairwise_simulation.total_biomass[f'model{a}']\n",
      "C:\\Users\\sabh\\AppData\\Local\\Temp\\ipykernel_3396\\1463650966.py:55: PerformanceWarning: DataFrame is highly fragmented.  This is usually the result of calling `frame.insert` many times, which has poor performance.  Consider joining all columns at once using pd.concat(axis=1) instead. To get a de-fragmented frame, use `newframe = frame.copy()`\n",
      "  totbiomass_df[f'{counter}_model_{b}'] = pairwise_simulation.total_biomass[f'model{b}']\n"
     ]
    },
    {
     "name": "stdout",
     "output_type": "stream",
     "text": [
      "141 of 190: Constructing layout for model 10 and model 16 ...\n",
      "\n",
      "Running COMETS simulation ...\n",
      "\n",
      "Debug Here ...\n",
      "Done!\n",
      "pairwise 10 16 done!\n"
     ]
    },
    {
     "name": "stderr",
     "output_type": "stream",
     "text": [
      "C:\\Users\\sabh\\AppData\\Local\\Temp\\ipykernel_3396\\1463650966.py:54: PerformanceWarning: DataFrame is highly fragmented.  This is usually the result of calling `frame.insert` many times, which has poor performance.  Consider joining all columns at once using pd.concat(axis=1) instead. To get a de-fragmented frame, use `newframe = frame.copy()`\n",
      "  totbiomass_df[f'{counter}_model_{a}'] = pairwise_simulation.total_biomass[f'model{a}']\n",
      "C:\\Users\\sabh\\AppData\\Local\\Temp\\ipykernel_3396\\1463650966.py:55: PerformanceWarning: DataFrame is highly fragmented.  This is usually the result of calling `frame.insert` many times, which has poor performance.  Consider joining all columns at once using pd.concat(axis=1) instead. To get a de-fragmented frame, use `newframe = frame.copy()`\n",
      "  totbiomass_df[f'{counter}_model_{b}'] = pairwise_simulation.total_biomass[f'model{b}']\n"
     ]
    },
    {
     "name": "stdout",
     "output_type": "stream",
     "text": [
      "142 of 190: Constructing layout for model 10 and model 17 ...\n",
      "\n",
      "Running COMETS simulation ...\n",
      "\n",
      "Debug Here ...\n",
      "Done!\n",
      "pairwise 10 17 done!\n"
     ]
    },
    {
     "name": "stderr",
     "output_type": "stream",
     "text": [
      "C:\\Users\\sabh\\AppData\\Local\\Temp\\ipykernel_3396\\1463650966.py:54: PerformanceWarning: DataFrame is highly fragmented.  This is usually the result of calling `frame.insert` many times, which has poor performance.  Consider joining all columns at once using pd.concat(axis=1) instead. To get a de-fragmented frame, use `newframe = frame.copy()`\n",
      "  totbiomass_df[f'{counter}_model_{a}'] = pairwise_simulation.total_biomass[f'model{a}']\n",
      "C:\\Users\\sabh\\AppData\\Local\\Temp\\ipykernel_3396\\1463650966.py:55: PerformanceWarning: DataFrame is highly fragmented.  This is usually the result of calling `frame.insert` many times, which has poor performance.  Consider joining all columns at once using pd.concat(axis=1) instead. To get a de-fragmented frame, use `newframe = frame.copy()`\n",
      "  totbiomass_df[f'{counter}_model_{b}'] = pairwise_simulation.total_biomass[f'model{b}']\n"
     ]
    },
    {
     "name": "stdout",
     "output_type": "stream",
     "text": [
      "143 of 190: Constructing layout for model 10 and model 18 ...\n",
      "\n",
      "Running COMETS simulation ...\n",
      "\n",
      "Debug Here ...\n",
      "Done!\n",
      "pairwise 10 18 done!\n"
     ]
    },
    {
     "name": "stderr",
     "output_type": "stream",
     "text": [
      "C:\\Users\\sabh\\AppData\\Local\\Temp\\ipykernel_3396\\1463650966.py:54: PerformanceWarning: DataFrame is highly fragmented.  This is usually the result of calling `frame.insert` many times, which has poor performance.  Consider joining all columns at once using pd.concat(axis=1) instead. To get a de-fragmented frame, use `newframe = frame.copy()`\n",
      "  totbiomass_df[f'{counter}_model_{a}'] = pairwise_simulation.total_biomass[f'model{a}']\n",
      "C:\\Users\\sabh\\AppData\\Local\\Temp\\ipykernel_3396\\1463650966.py:55: PerformanceWarning: DataFrame is highly fragmented.  This is usually the result of calling `frame.insert` many times, which has poor performance.  Consider joining all columns at once using pd.concat(axis=1) instead. To get a de-fragmented frame, use `newframe = frame.copy()`\n",
      "  totbiomass_df[f'{counter}_model_{b}'] = pairwise_simulation.total_biomass[f'model{b}']\n"
     ]
    },
    {
     "name": "stdout",
     "output_type": "stream",
     "text": [
      "144 of 190: Constructing layout for model 10 and model 19 ...\n",
      "\n",
      "Running COMETS simulation ...\n",
      "\n",
      "Debug Here ...\n",
      "Done!\n",
      "pairwise 10 19 done!\n"
     ]
    },
    {
     "name": "stderr",
     "output_type": "stream",
     "text": [
      "C:\\Users\\sabh\\AppData\\Local\\Temp\\ipykernel_3396\\1463650966.py:54: PerformanceWarning: DataFrame is highly fragmented.  This is usually the result of calling `frame.insert` many times, which has poor performance.  Consider joining all columns at once using pd.concat(axis=1) instead. To get a de-fragmented frame, use `newframe = frame.copy()`\n",
      "  totbiomass_df[f'{counter}_model_{a}'] = pairwise_simulation.total_biomass[f'model{a}']\n",
      "C:\\Users\\sabh\\AppData\\Local\\Temp\\ipykernel_3396\\1463650966.py:55: PerformanceWarning: DataFrame is highly fragmented.  This is usually the result of calling `frame.insert` many times, which has poor performance.  Consider joining all columns at once using pd.concat(axis=1) instead. To get a de-fragmented frame, use `newframe = frame.copy()`\n",
      "  totbiomass_df[f'{counter}_model_{b}'] = pairwise_simulation.total_biomass[f'model{b}']\n"
     ]
    },
    {
     "name": "stdout",
     "output_type": "stream",
     "text": [
      "145 of 190: Constructing layout for model 10 and model 20 ...\n",
      "\n",
      "Running COMETS simulation ...\n",
      "\n",
      "Debug Here ...\n",
      "Done!\n",
      "pairwise 10 20 done!\n"
     ]
    },
    {
     "name": "stderr",
     "output_type": "stream",
     "text": [
      "C:\\Users\\sabh\\AppData\\Local\\Temp\\ipykernel_3396\\1463650966.py:54: PerformanceWarning: DataFrame is highly fragmented.  This is usually the result of calling `frame.insert` many times, which has poor performance.  Consider joining all columns at once using pd.concat(axis=1) instead. To get a de-fragmented frame, use `newframe = frame.copy()`\n",
      "  totbiomass_df[f'{counter}_model_{a}'] = pairwise_simulation.total_biomass[f'model{a}']\n",
      "C:\\Users\\sabh\\AppData\\Local\\Temp\\ipykernel_3396\\1463650966.py:55: PerformanceWarning: DataFrame is highly fragmented.  This is usually the result of calling `frame.insert` many times, which has poor performance.  Consider joining all columns at once using pd.concat(axis=1) instead. To get a de-fragmented frame, use `newframe = frame.copy()`\n",
      "  totbiomass_df[f'{counter}_model_{b}'] = pairwise_simulation.total_biomass[f'model{b}']\n"
     ]
    },
    {
     "name": "stdout",
     "output_type": "stream",
     "text": [
      "146 of 190: Constructing layout for model 11 and model 12 ...\n",
      "\n",
      "Running COMETS simulation ...\n",
      "\n",
      "Debug Here ...\n",
      "Done!\n",
      "pairwise 11 12 done!\n"
     ]
    },
    {
     "name": "stderr",
     "output_type": "stream",
     "text": [
      "C:\\Users\\sabh\\AppData\\Local\\Temp\\ipykernel_3396\\1463650966.py:54: PerformanceWarning: DataFrame is highly fragmented.  This is usually the result of calling `frame.insert` many times, which has poor performance.  Consider joining all columns at once using pd.concat(axis=1) instead. To get a de-fragmented frame, use `newframe = frame.copy()`\n",
      "  totbiomass_df[f'{counter}_model_{a}'] = pairwise_simulation.total_biomass[f'model{a}']\n",
      "C:\\Users\\sabh\\AppData\\Local\\Temp\\ipykernel_3396\\1463650966.py:55: PerformanceWarning: DataFrame is highly fragmented.  This is usually the result of calling `frame.insert` many times, which has poor performance.  Consider joining all columns at once using pd.concat(axis=1) instead. To get a de-fragmented frame, use `newframe = frame.copy()`\n",
      "  totbiomass_df[f'{counter}_model_{b}'] = pairwise_simulation.total_biomass[f'model{b}']\n"
     ]
    },
    {
     "name": "stdout",
     "output_type": "stream",
     "text": [
      "147 of 190: Constructing layout for model 11 and model 13 ...\n",
      "\n",
      "Running COMETS simulation ...\n",
      "\n",
      "Debug Here ...\n",
      "Done!\n",
      "pairwise 11 13 done!\n"
     ]
    },
    {
     "name": "stderr",
     "output_type": "stream",
     "text": [
      "C:\\Users\\sabh\\AppData\\Local\\Temp\\ipykernel_3396\\1463650966.py:54: PerformanceWarning: DataFrame is highly fragmented.  This is usually the result of calling `frame.insert` many times, which has poor performance.  Consider joining all columns at once using pd.concat(axis=1) instead. To get a de-fragmented frame, use `newframe = frame.copy()`\n",
      "  totbiomass_df[f'{counter}_model_{a}'] = pairwise_simulation.total_biomass[f'model{a}']\n",
      "C:\\Users\\sabh\\AppData\\Local\\Temp\\ipykernel_3396\\1463650966.py:55: PerformanceWarning: DataFrame is highly fragmented.  This is usually the result of calling `frame.insert` many times, which has poor performance.  Consider joining all columns at once using pd.concat(axis=1) instead. To get a de-fragmented frame, use `newframe = frame.copy()`\n",
      "  totbiomass_df[f'{counter}_model_{b}'] = pairwise_simulation.total_biomass[f'model{b}']\n"
     ]
    },
    {
     "name": "stdout",
     "output_type": "stream",
     "text": [
      "148 of 190: Constructing layout for model 11 and model 14 ...\n",
      "\n",
      "Running COMETS simulation ...\n",
      "\n",
      "Debug Here ...\n",
      "Done!\n",
      "pairwise 11 14 done!\n"
     ]
    },
    {
     "name": "stderr",
     "output_type": "stream",
     "text": [
      "C:\\Users\\sabh\\AppData\\Local\\Temp\\ipykernel_3396\\1463650966.py:54: PerformanceWarning: DataFrame is highly fragmented.  This is usually the result of calling `frame.insert` many times, which has poor performance.  Consider joining all columns at once using pd.concat(axis=1) instead. To get a de-fragmented frame, use `newframe = frame.copy()`\n",
      "  totbiomass_df[f'{counter}_model_{a}'] = pairwise_simulation.total_biomass[f'model{a}']\n",
      "C:\\Users\\sabh\\AppData\\Local\\Temp\\ipykernel_3396\\1463650966.py:55: PerformanceWarning: DataFrame is highly fragmented.  This is usually the result of calling `frame.insert` many times, which has poor performance.  Consider joining all columns at once using pd.concat(axis=1) instead. To get a de-fragmented frame, use `newframe = frame.copy()`\n",
      "  totbiomass_df[f'{counter}_model_{b}'] = pairwise_simulation.total_biomass[f'model{b}']\n"
     ]
    },
    {
     "name": "stdout",
     "output_type": "stream",
     "text": [
      "149 of 190: Constructing layout for model 11 and model 15 ...\n",
      "\n",
      "Running COMETS simulation ...\n",
      "\n",
      "Debug Here ...\n",
      "Done!\n",
      "pairwise 11 15 done!\n"
     ]
    },
    {
     "name": "stderr",
     "output_type": "stream",
     "text": [
      "C:\\Users\\sabh\\AppData\\Local\\Temp\\ipykernel_3396\\1463650966.py:54: PerformanceWarning: DataFrame is highly fragmented.  This is usually the result of calling `frame.insert` many times, which has poor performance.  Consider joining all columns at once using pd.concat(axis=1) instead. To get a de-fragmented frame, use `newframe = frame.copy()`\n",
      "  totbiomass_df[f'{counter}_model_{a}'] = pairwise_simulation.total_biomass[f'model{a}']\n",
      "C:\\Users\\sabh\\AppData\\Local\\Temp\\ipykernel_3396\\1463650966.py:55: PerformanceWarning: DataFrame is highly fragmented.  This is usually the result of calling `frame.insert` many times, which has poor performance.  Consider joining all columns at once using pd.concat(axis=1) instead. To get a de-fragmented frame, use `newframe = frame.copy()`\n",
      "  totbiomass_df[f'{counter}_model_{b}'] = pairwise_simulation.total_biomass[f'model{b}']\n"
     ]
    },
    {
     "name": "stdout",
     "output_type": "stream",
     "text": [
      "150 of 190: Constructing layout for model 11 and model 16 ...\n",
      "\n",
      "Running COMETS simulation ...\n",
      "\n",
      "Debug Here ...\n",
      "Done!\n",
      "pairwise 11 16 done!\n"
     ]
    },
    {
     "name": "stderr",
     "output_type": "stream",
     "text": [
      "C:\\Users\\sabh\\AppData\\Local\\Temp\\ipykernel_3396\\1463650966.py:54: PerformanceWarning: DataFrame is highly fragmented.  This is usually the result of calling `frame.insert` many times, which has poor performance.  Consider joining all columns at once using pd.concat(axis=1) instead. To get a de-fragmented frame, use `newframe = frame.copy()`\n",
      "  totbiomass_df[f'{counter}_model_{a}'] = pairwise_simulation.total_biomass[f'model{a}']\n",
      "C:\\Users\\sabh\\AppData\\Local\\Temp\\ipykernel_3396\\1463650966.py:55: PerformanceWarning: DataFrame is highly fragmented.  This is usually the result of calling `frame.insert` many times, which has poor performance.  Consider joining all columns at once using pd.concat(axis=1) instead. To get a de-fragmented frame, use `newframe = frame.copy()`\n",
      "  totbiomass_df[f'{counter}_model_{b}'] = pairwise_simulation.total_biomass[f'model{b}']\n"
     ]
    },
    {
     "name": "stdout",
     "output_type": "stream",
     "text": [
      "151 of 190: Constructing layout for model 11 and model 17 ...\n",
      "\n",
      "Running COMETS simulation ...\n",
      "\n",
      "Debug Here ...\n",
      "Done!\n",
      "pairwise 11 17 done!\n"
     ]
    },
    {
     "name": "stderr",
     "output_type": "stream",
     "text": [
      "C:\\Users\\sabh\\AppData\\Local\\Temp\\ipykernel_3396\\1463650966.py:54: PerformanceWarning: DataFrame is highly fragmented.  This is usually the result of calling `frame.insert` many times, which has poor performance.  Consider joining all columns at once using pd.concat(axis=1) instead. To get a de-fragmented frame, use `newframe = frame.copy()`\n",
      "  totbiomass_df[f'{counter}_model_{a}'] = pairwise_simulation.total_biomass[f'model{a}']\n",
      "C:\\Users\\sabh\\AppData\\Local\\Temp\\ipykernel_3396\\1463650966.py:55: PerformanceWarning: DataFrame is highly fragmented.  This is usually the result of calling `frame.insert` many times, which has poor performance.  Consider joining all columns at once using pd.concat(axis=1) instead. To get a de-fragmented frame, use `newframe = frame.copy()`\n",
      "  totbiomass_df[f'{counter}_model_{b}'] = pairwise_simulation.total_biomass[f'model{b}']\n"
     ]
    },
    {
     "name": "stdout",
     "output_type": "stream",
     "text": [
      "152 of 190: Constructing layout for model 11 and model 18 ...\n",
      "\n",
      "Running COMETS simulation ...\n",
      "\n",
      "Debug Here ...\n",
      "Done!\n",
      "pairwise 11 18 done!\n"
     ]
    },
    {
     "name": "stderr",
     "output_type": "stream",
     "text": [
      "C:\\Users\\sabh\\AppData\\Local\\Temp\\ipykernel_3396\\1463650966.py:54: PerformanceWarning: DataFrame is highly fragmented.  This is usually the result of calling `frame.insert` many times, which has poor performance.  Consider joining all columns at once using pd.concat(axis=1) instead. To get a de-fragmented frame, use `newframe = frame.copy()`\n",
      "  totbiomass_df[f'{counter}_model_{a}'] = pairwise_simulation.total_biomass[f'model{a}']\n",
      "C:\\Users\\sabh\\AppData\\Local\\Temp\\ipykernel_3396\\1463650966.py:55: PerformanceWarning: DataFrame is highly fragmented.  This is usually the result of calling `frame.insert` many times, which has poor performance.  Consider joining all columns at once using pd.concat(axis=1) instead. To get a de-fragmented frame, use `newframe = frame.copy()`\n",
      "  totbiomass_df[f'{counter}_model_{b}'] = pairwise_simulation.total_biomass[f'model{b}']\n"
     ]
    },
    {
     "name": "stdout",
     "output_type": "stream",
     "text": [
      "153 of 190: Constructing layout for model 11 and model 19 ...\n",
      "\n",
      "Running COMETS simulation ...\n",
      "\n",
      "Debug Here ...\n",
      "Done!\n",
      "pairwise 11 19 done!\n"
     ]
    },
    {
     "name": "stderr",
     "output_type": "stream",
     "text": [
      "C:\\Users\\sabh\\AppData\\Local\\Temp\\ipykernel_3396\\1463650966.py:54: PerformanceWarning: DataFrame is highly fragmented.  This is usually the result of calling `frame.insert` many times, which has poor performance.  Consider joining all columns at once using pd.concat(axis=1) instead. To get a de-fragmented frame, use `newframe = frame.copy()`\n",
      "  totbiomass_df[f'{counter}_model_{a}'] = pairwise_simulation.total_biomass[f'model{a}']\n",
      "C:\\Users\\sabh\\AppData\\Local\\Temp\\ipykernel_3396\\1463650966.py:55: PerformanceWarning: DataFrame is highly fragmented.  This is usually the result of calling `frame.insert` many times, which has poor performance.  Consider joining all columns at once using pd.concat(axis=1) instead. To get a de-fragmented frame, use `newframe = frame.copy()`\n",
      "  totbiomass_df[f'{counter}_model_{b}'] = pairwise_simulation.total_biomass[f'model{b}']\n"
     ]
    },
    {
     "name": "stdout",
     "output_type": "stream",
     "text": [
      "154 of 190: Constructing layout for model 11 and model 20 ...\n",
      "\n",
      "Running COMETS simulation ...\n",
      "\n",
      "Debug Here ...\n",
      "Done!\n",
      "pairwise 11 20 done!\n"
     ]
    },
    {
     "name": "stderr",
     "output_type": "stream",
     "text": [
      "C:\\Users\\sabh\\AppData\\Local\\Temp\\ipykernel_3396\\1463650966.py:54: PerformanceWarning: DataFrame is highly fragmented.  This is usually the result of calling `frame.insert` many times, which has poor performance.  Consider joining all columns at once using pd.concat(axis=1) instead. To get a de-fragmented frame, use `newframe = frame.copy()`\n",
      "  totbiomass_df[f'{counter}_model_{a}'] = pairwise_simulation.total_biomass[f'model{a}']\n",
      "C:\\Users\\sabh\\AppData\\Local\\Temp\\ipykernel_3396\\1463650966.py:55: PerformanceWarning: DataFrame is highly fragmented.  This is usually the result of calling `frame.insert` many times, which has poor performance.  Consider joining all columns at once using pd.concat(axis=1) instead. To get a de-fragmented frame, use `newframe = frame.copy()`\n",
      "  totbiomass_df[f'{counter}_model_{b}'] = pairwise_simulation.total_biomass[f'model{b}']\n"
     ]
    },
    {
     "name": "stdout",
     "output_type": "stream",
     "text": [
      "155 of 190: Constructing layout for model 12 and model 13 ...\n",
      "\n",
      "Running COMETS simulation ...\n",
      "\n",
      "Debug Here ...\n",
      "Done!\n",
      "pairwise 12 13 done!\n"
     ]
    },
    {
     "name": "stderr",
     "output_type": "stream",
     "text": [
      "C:\\Users\\sabh\\AppData\\Local\\Temp\\ipykernel_3396\\1463650966.py:54: PerformanceWarning: DataFrame is highly fragmented.  This is usually the result of calling `frame.insert` many times, which has poor performance.  Consider joining all columns at once using pd.concat(axis=1) instead. To get a de-fragmented frame, use `newframe = frame.copy()`\n",
      "  totbiomass_df[f'{counter}_model_{a}'] = pairwise_simulation.total_biomass[f'model{a}']\n",
      "C:\\Users\\sabh\\AppData\\Local\\Temp\\ipykernel_3396\\1463650966.py:55: PerformanceWarning: DataFrame is highly fragmented.  This is usually the result of calling `frame.insert` many times, which has poor performance.  Consider joining all columns at once using pd.concat(axis=1) instead. To get a de-fragmented frame, use `newframe = frame.copy()`\n",
      "  totbiomass_df[f'{counter}_model_{b}'] = pairwise_simulation.total_biomass[f'model{b}']\n"
     ]
    },
    {
     "name": "stdout",
     "output_type": "stream",
     "text": [
      "156 of 190: Constructing layout for model 12 and model 14 ...\n",
      "\n",
      "Running COMETS simulation ...\n",
      "\n",
      "Debug Here ...\n",
      "Done!\n",
      "pairwise 12 14 done!\n"
     ]
    },
    {
     "name": "stderr",
     "output_type": "stream",
     "text": [
      "C:\\Users\\sabh\\AppData\\Local\\Temp\\ipykernel_3396\\1463650966.py:54: PerformanceWarning: DataFrame is highly fragmented.  This is usually the result of calling `frame.insert` many times, which has poor performance.  Consider joining all columns at once using pd.concat(axis=1) instead. To get a de-fragmented frame, use `newframe = frame.copy()`\n",
      "  totbiomass_df[f'{counter}_model_{a}'] = pairwise_simulation.total_biomass[f'model{a}']\n",
      "C:\\Users\\sabh\\AppData\\Local\\Temp\\ipykernel_3396\\1463650966.py:55: PerformanceWarning: DataFrame is highly fragmented.  This is usually the result of calling `frame.insert` many times, which has poor performance.  Consider joining all columns at once using pd.concat(axis=1) instead. To get a de-fragmented frame, use `newframe = frame.copy()`\n",
      "  totbiomass_df[f'{counter}_model_{b}'] = pairwise_simulation.total_biomass[f'model{b}']\n"
     ]
    },
    {
     "name": "stdout",
     "output_type": "stream",
     "text": [
      "157 of 190: Constructing layout for model 12 and model 15 ...\n",
      "\n",
      "Running COMETS simulation ...\n",
      "\n",
      "Debug Here ...\n",
      "Done!\n",
      "pairwise 12 15 done!\n"
     ]
    },
    {
     "name": "stderr",
     "output_type": "stream",
     "text": [
      "C:\\Users\\sabh\\AppData\\Local\\Temp\\ipykernel_3396\\1463650966.py:54: PerformanceWarning: DataFrame is highly fragmented.  This is usually the result of calling `frame.insert` many times, which has poor performance.  Consider joining all columns at once using pd.concat(axis=1) instead. To get a de-fragmented frame, use `newframe = frame.copy()`\n",
      "  totbiomass_df[f'{counter}_model_{a}'] = pairwise_simulation.total_biomass[f'model{a}']\n",
      "C:\\Users\\sabh\\AppData\\Local\\Temp\\ipykernel_3396\\1463650966.py:55: PerformanceWarning: DataFrame is highly fragmented.  This is usually the result of calling `frame.insert` many times, which has poor performance.  Consider joining all columns at once using pd.concat(axis=1) instead. To get a de-fragmented frame, use `newframe = frame.copy()`\n",
      "  totbiomass_df[f'{counter}_model_{b}'] = pairwise_simulation.total_biomass[f'model{b}']\n"
     ]
    },
    {
     "name": "stdout",
     "output_type": "stream",
     "text": [
      "158 of 190: Constructing layout for model 12 and model 16 ...\n",
      "\n",
      "Running COMETS simulation ...\n",
      "\n",
      "Debug Here ...\n",
      "Done!\n",
      "pairwise 12 16 done!\n"
     ]
    },
    {
     "name": "stderr",
     "output_type": "stream",
     "text": [
      "C:\\Users\\sabh\\AppData\\Local\\Temp\\ipykernel_3396\\1463650966.py:54: PerformanceWarning: DataFrame is highly fragmented.  This is usually the result of calling `frame.insert` many times, which has poor performance.  Consider joining all columns at once using pd.concat(axis=1) instead. To get a de-fragmented frame, use `newframe = frame.copy()`\n",
      "  totbiomass_df[f'{counter}_model_{a}'] = pairwise_simulation.total_biomass[f'model{a}']\n",
      "C:\\Users\\sabh\\AppData\\Local\\Temp\\ipykernel_3396\\1463650966.py:55: PerformanceWarning: DataFrame is highly fragmented.  This is usually the result of calling `frame.insert` many times, which has poor performance.  Consider joining all columns at once using pd.concat(axis=1) instead. To get a de-fragmented frame, use `newframe = frame.copy()`\n",
      "  totbiomass_df[f'{counter}_model_{b}'] = pairwise_simulation.total_biomass[f'model{b}']\n"
     ]
    },
    {
     "name": "stdout",
     "output_type": "stream",
     "text": [
      "159 of 190: Constructing layout for model 12 and model 17 ...\n",
      "\n",
      "Running COMETS simulation ...\n",
      "\n",
      "Debug Here ...\n",
      "Done!\n",
      "pairwise 12 17 done!\n"
     ]
    },
    {
     "name": "stderr",
     "output_type": "stream",
     "text": [
      "C:\\Users\\sabh\\AppData\\Local\\Temp\\ipykernel_3396\\1463650966.py:54: PerformanceWarning: DataFrame is highly fragmented.  This is usually the result of calling `frame.insert` many times, which has poor performance.  Consider joining all columns at once using pd.concat(axis=1) instead. To get a de-fragmented frame, use `newframe = frame.copy()`\n",
      "  totbiomass_df[f'{counter}_model_{a}'] = pairwise_simulation.total_biomass[f'model{a}']\n",
      "C:\\Users\\sabh\\AppData\\Local\\Temp\\ipykernel_3396\\1463650966.py:55: PerformanceWarning: DataFrame is highly fragmented.  This is usually the result of calling `frame.insert` many times, which has poor performance.  Consider joining all columns at once using pd.concat(axis=1) instead. To get a de-fragmented frame, use `newframe = frame.copy()`\n",
      "  totbiomass_df[f'{counter}_model_{b}'] = pairwise_simulation.total_biomass[f'model{b}']\n"
     ]
    },
    {
     "name": "stdout",
     "output_type": "stream",
     "text": [
      "160 of 190: Constructing layout for model 12 and model 18 ...\n",
      "\n",
      "Running COMETS simulation ...\n",
      "\n",
      "Debug Here ...\n",
      "Done!\n",
      "pairwise 12 18 done!\n"
     ]
    },
    {
     "name": "stderr",
     "output_type": "stream",
     "text": [
      "C:\\Users\\sabh\\AppData\\Local\\Temp\\ipykernel_3396\\1463650966.py:54: PerformanceWarning: DataFrame is highly fragmented.  This is usually the result of calling `frame.insert` many times, which has poor performance.  Consider joining all columns at once using pd.concat(axis=1) instead. To get a de-fragmented frame, use `newframe = frame.copy()`\n",
      "  totbiomass_df[f'{counter}_model_{a}'] = pairwise_simulation.total_biomass[f'model{a}']\n",
      "C:\\Users\\sabh\\AppData\\Local\\Temp\\ipykernel_3396\\1463650966.py:55: PerformanceWarning: DataFrame is highly fragmented.  This is usually the result of calling `frame.insert` many times, which has poor performance.  Consider joining all columns at once using pd.concat(axis=1) instead. To get a de-fragmented frame, use `newframe = frame.copy()`\n",
      "  totbiomass_df[f'{counter}_model_{b}'] = pairwise_simulation.total_biomass[f'model{b}']\n"
     ]
    },
    {
     "name": "stdout",
     "output_type": "stream",
     "text": [
      "161 of 190: Constructing layout for model 12 and model 19 ...\n",
      "\n",
      "Running COMETS simulation ...\n",
      "\n",
      "Debug Here ...\n",
      "Done!\n",
      "pairwise 12 19 done!\n"
     ]
    },
    {
     "name": "stderr",
     "output_type": "stream",
     "text": [
      "C:\\Users\\sabh\\AppData\\Local\\Temp\\ipykernel_3396\\1463650966.py:54: PerformanceWarning: DataFrame is highly fragmented.  This is usually the result of calling `frame.insert` many times, which has poor performance.  Consider joining all columns at once using pd.concat(axis=1) instead. To get a de-fragmented frame, use `newframe = frame.copy()`\n",
      "  totbiomass_df[f'{counter}_model_{a}'] = pairwise_simulation.total_biomass[f'model{a}']\n",
      "C:\\Users\\sabh\\AppData\\Local\\Temp\\ipykernel_3396\\1463650966.py:55: PerformanceWarning: DataFrame is highly fragmented.  This is usually the result of calling `frame.insert` many times, which has poor performance.  Consider joining all columns at once using pd.concat(axis=1) instead. To get a de-fragmented frame, use `newframe = frame.copy()`\n",
      "  totbiomass_df[f'{counter}_model_{b}'] = pairwise_simulation.total_biomass[f'model{b}']\n"
     ]
    },
    {
     "name": "stdout",
     "output_type": "stream",
     "text": [
      "162 of 190: Constructing layout for model 12 and model 20 ...\n",
      "\n",
      "Running COMETS simulation ...\n",
      "\n",
      "Debug Here ...\n",
      "Done!\n",
      "pairwise 12 20 done!\n"
     ]
    },
    {
     "name": "stderr",
     "output_type": "stream",
     "text": [
      "C:\\Users\\sabh\\AppData\\Local\\Temp\\ipykernel_3396\\1463650966.py:54: PerformanceWarning: DataFrame is highly fragmented.  This is usually the result of calling `frame.insert` many times, which has poor performance.  Consider joining all columns at once using pd.concat(axis=1) instead. To get a de-fragmented frame, use `newframe = frame.copy()`\n",
      "  totbiomass_df[f'{counter}_model_{a}'] = pairwise_simulation.total_biomass[f'model{a}']\n",
      "C:\\Users\\sabh\\AppData\\Local\\Temp\\ipykernel_3396\\1463650966.py:55: PerformanceWarning: DataFrame is highly fragmented.  This is usually the result of calling `frame.insert` many times, which has poor performance.  Consider joining all columns at once using pd.concat(axis=1) instead. To get a de-fragmented frame, use `newframe = frame.copy()`\n",
      "  totbiomass_df[f'{counter}_model_{b}'] = pairwise_simulation.total_biomass[f'model{b}']\n"
     ]
    },
    {
     "name": "stdout",
     "output_type": "stream",
     "text": [
      "163 of 190: Constructing layout for model 13 and model 14 ...\n",
      "\n",
      "Running COMETS simulation ...\n",
      "\n",
      "Debug Here ...\n",
      "Done!\n",
      "pairwise 13 14 done!\n"
     ]
    },
    {
     "name": "stderr",
     "output_type": "stream",
     "text": [
      "C:\\Users\\sabh\\AppData\\Local\\Temp\\ipykernel_3396\\1463650966.py:54: PerformanceWarning: DataFrame is highly fragmented.  This is usually the result of calling `frame.insert` many times, which has poor performance.  Consider joining all columns at once using pd.concat(axis=1) instead. To get a de-fragmented frame, use `newframe = frame.copy()`\n",
      "  totbiomass_df[f'{counter}_model_{a}'] = pairwise_simulation.total_biomass[f'model{a}']\n",
      "C:\\Users\\sabh\\AppData\\Local\\Temp\\ipykernel_3396\\1463650966.py:55: PerformanceWarning: DataFrame is highly fragmented.  This is usually the result of calling `frame.insert` many times, which has poor performance.  Consider joining all columns at once using pd.concat(axis=1) instead. To get a de-fragmented frame, use `newframe = frame.copy()`\n",
      "  totbiomass_df[f'{counter}_model_{b}'] = pairwise_simulation.total_biomass[f'model{b}']\n"
     ]
    },
    {
     "name": "stdout",
     "output_type": "stream",
     "text": [
      "164 of 190: Constructing layout for model 13 and model 15 ...\n",
      "\n",
      "Running COMETS simulation ...\n",
      "\n",
      "Debug Here ...\n",
      "Done!\n",
      "pairwise 13 15 done!\n"
     ]
    },
    {
     "name": "stderr",
     "output_type": "stream",
     "text": [
      "C:\\Users\\sabh\\AppData\\Local\\Temp\\ipykernel_3396\\1463650966.py:54: PerformanceWarning: DataFrame is highly fragmented.  This is usually the result of calling `frame.insert` many times, which has poor performance.  Consider joining all columns at once using pd.concat(axis=1) instead. To get a de-fragmented frame, use `newframe = frame.copy()`\n",
      "  totbiomass_df[f'{counter}_model_{a}'] = pairwise_simulation.total_biomass[f'model{a}']\n",
      "C:\\Users\\sabh\\AppData\\Local\\Temp\\ipykernel_3396\\1463650966.py:55: PerformanceWarning: DataFrame is highly fragmented.  This is usually the result of calling `frame.insert` many times, which has poor performance.  Consider joining all columns at once using pd.concat(axis=1) instead. To get a de-fragmented frame, use `newframe = frame.copy()`\n",
      "  totbiomass_df[f'{counter}_model_{b}'] = pairwise_simulation.total_biomass[f'model{b}']\n"
     ]
    },
    {
     "name": "stdout",
     "output_type": "stream",
     "text": [
      "165 of 190: Constructing layout for model 13 and model 16 ...\n",
      "\n",
      "Running COMETS simulation ...\n",
      "\n",
      "Debug Here ...\n",
      "Done!\n",
      "pairwise 13 16 done!\n"
     ]
    },
    {
     "name": "stderr",
     "output_type": "stream",
     "text": [
      "C:\\Users\\sabh\\AppData\\Local\\Temp\\ipykernel_3396\\1463650966.py:54: PerformanceWarning: DataFrame is highly fragmented.  This is usually the result of calling `frame.insert` many times, which has poor performance.  Consider joining all columns at once using pd.concat(axis=1) instead. To get a de-fragmented frame, use `newframe = frame.copy()`\n",
      "  totbiomass_df[f'{counter}_model_{a}'] = pairwise_simulation.total_biomass[f'model{a}']\n",
      "C:\\Users\\sabh\\AppData\\Local\\Temp\\ipykernel_3396\\1463650966.py:55: PerformanceWarning: DataFrame is highly fragmented.  This is usually the result of calling `frame.insert` many times, which has poor performance.  Consider joining all columns at once using pd.concat(axis=1) instead. To get a de-fragmented frame, use `newframe = frame.copy()`\n",
      "  totbiomass_df[f'{counter}_model_{b}'] = pairwise_simulation.total_biomass[f'model{b}']\n"
     ]
    },
    {
     "name": "stdout",
     "output_type": "stream",
     "text": [
      "166 of 190: Constructing layout for model 13 and model 17 ...\n",
      "\n",
      "Running COMETS simulation ...\n",
      "\n",
      "Debug Here ...\n",
      "Done!\n",
      "pairwise 13 17 done!\n"
     ]
    },
    {
     "name": "stderr",
     "output_type": "stream",
     "text": [
      "C:\\Users\\sabh\\AppData\\Local\\Temp\\ipykernel_3396\\1463650966.py:54: PerformanceWarning: DataFrame is highly fragmented.  This is usually the result of calling `frame.insert` many times, which has poor performance.  Consider joining all columns at once using pd.concat(axis=1) instead. To get a de-fragmented frame, use `newframe = frame.copy()`\n",
      "  totbiomass_df[f'{counter}_model_{a}'] = pairwise_simulation.total_biomass[f'model{a}']\n",
      "C:\\Users\\sabh\\AppData\\Local\\Temp\\ipykernel_3396\\1463650966.py:55: PerformanceWarning: DataFrame is highly fragmented.  This is usually the result of calling `frame.insert` many times, which has poor performance.  Consider joining all columns at once using pd.concat(axis=1) instead. To get a de-fragmented frame, use `newframe = frame.copy()`\n",
      "  totbiomass_df[f'{counter}_model_{b}'] = pairwise_simulation.total_biomass[f'model{b}']\n"
     ]
    },
    {
     "name": "stdout",
     "output_type": "stream",
     "text": [
      "167 of 190: Constructing layout for model 13 and model 18 ...\n",
      "\n",
      "Running COMETS simulation ...\n",
      "\n",
      "Debug Here ...\n",
      "Done!\n",
      "pairwise 13 18 done!\n"
     ]
    },
    {
     "name": "stderr",
     "output_type": "stream",
     "text": [
      "C:\\Users\\sabh\\AppData\\Local\\Temp\\ipykernel_3396\\1463650966.py:54: PerformanceWarning: DataFrame is highly fragmented.  This is usually the result of calling `frame.insert` many times, which has poor performance.  Consider joining all columns at once using pd.concat(axis=1) instead. To get a de-fragmented frame, use `newframe = frame.copy()`\n",
      "  totbiomass_df[f'{counter}_model_{a}'] = pairwise_simulation.total_biomass[f'model{a}']\n",
      "C:\\Users\\sabh\\AppData\\Local\\Temp\\ipykernel_3396\\1463650966.py:55: PerformanceWarning: DataFrame is highly fragmented.  This is usually the result of calling `frame.insert` many times, which has poor performance.  Consider joining all columns at once using pd.concat(axis=1) instead. To get a de-fragmented frame, use `newframe = frame.copy()`\n",
      "  totbiomass_df[f'{counter}_model_{b}'] = pairwise_simulation.total_biomass[f'model{b}']\n"
     ]
    },
    {
     "name": "stdout",
     "output_type": "stream",
     "text": [
      "168 of 190: Constructing layout for model 13 and model 19 ...\n",
      "\n",
      "Running COMETS simulation ...\n",
      "\n",
      "Debug Here ...\n",
      "Done!\n",
      "pairwise 13 19 done!\n"
     ]
    },
    {
     "name": "stderr",
     "output_type": "stream",
     "text": [
      "C:\\Users\\sabh\\AppData\\Local\\Temp\\ipykernel_3396\\1463650966.py:54: PerformanceWarning: DataFrame is highly fragmented.  This is usually the result of calling `frame.insert` many times, which has poor performance.  Consider joining all columns at once using pd.concat(axis=1) instead. To get a de-fragmented frame, use `newframe = frame.copy()`\n",
      "  totbiomass_df[f'{counter}_model_{a}'] = pairwise_simulation.total_biomass[f'model{a}']\n",
      "C:\\Users\\sabh\\AppData\\Local\\Temp\\ipykernel_3396\\1463650966.py:55: PerformanceWarning: DataFrame is highly fragmented.  This is usually the result of calling `frame.insert` many times, which has poor performance.  Consider joining all columns at once using pd.concat(axis=1) instead. To get a de-fragmented frame, use `newframe = frame.copy()`\n",
      "  totbiomass_df[f'{counter}_model_{b}'] = pairwise_simulation.total_biomass[f'model{b}']\n"
     ]
    },
    {
     "name": "stdout",
     "output_type": "stream",
     "text": [
      "169 of 190: Constructing layout for model 13 and model 20 ...\n",
      "\n",
      "Running COMETS simulation ...\n",
      "\n",
      "Debug Here ...\n",
      "Done!\n",
      "pairwise 13 20 done!\n"
     ]
    },
    {
     "name": "stderr",
     "output_type": "stream",
     "text": [
      "C:\\Users\\sabh\\AppData\\Local\\Temp\\ipykernel_3396\\1463650966.py:54: PerformanceWarning: DataFrame is highly fragmented.  This is usually the result of calling `frame.insert` many times, which has poor performance.  Consider joining all columns at once using pd.concat(axis=1) instead. To get a de-fragmented frame, use `newframe = frame.copy()`\n",
      "  totbiomass_df[f'{counter}_model_{a}'] = pairwise_simulation.total_biomass[f'model{a}']\n",
      "C:\\Users\\sabh\\AppData\\Local\\Temp\\ipykernel_3396\\1463650966.py:55: PerformanceWarning: DataFrame is highly fragmented.  This is usually the result of calling `frame.insert` many times, which has poor performance.  Consider joining all columns at once using pd.concat(axis=1) instead. To get a de-fragmented frame, use `newframe = frame.copy()`\n",
      "  totbiomass_df[f'{counter}_model_{b}'] = pairwise_simulation.total_biomass[f'model{b}']\n"
     ]
    },
    {
     "name": "stdout",
     "output_type": "stream",
     "text": [
      "170 of 190: Constructing layout for model 14 and model 15 ...\n",
      "\n",
      "Running COMETS simulation ...\n",
      "\n",
      "Debug Here ...\n",
      "Done!\n",
      "pairwise 14 15 done!\n"
     ]
    },
    {
     "name": "stderr",
     "output_type": "stream",
     "text": [
      "C:\\Users\\sabh\\AppData\\Local\\Temp\\ipykernel_3396\\1463650966.py:54: PerformanceWarning: DataFrame is highly fragmented.  This is usually the result of calling `frame.insert` many times, which has poor performance.  Consider joining all columns at once using pd.concat(axis=1) instead. To get a de-fragmented frame, use `newframe = frame.copy()`\n",
      "  totbiomass_df[f'{counter}_model_{a}'] = pairwise_simulation.total_biomass[f'model{a}']\n",
      "C:\\Users\\sabh\\AppData\\Local\\Temp\\ipykernel_3396\\1463650966.py:55: PerformanceWarning: DataFrame is highly fragmented.  This is usually the result of calling `frame.insert` many times, which has poor performance.  Consider joining all columns at once using pd.concat(axis=1) instead. To get a de-fragmented frame, use `newframe = frame.copy()`\n",
      "  totbiomass_df[f'{counter}_model_{b}'] = pairwise_simulation.total_biomass[f'model{b}']\n"
     ]
    },
    {
     "name": "stdout",
     "output_type": "stream",
     "text": [
      "171 of 190: Constructing layout for model 14 and model 16 ...\n",
      "\n",
      "Running COMETS simulation ...\n",
      "\n",
      "Debug Here ...\n",
      "Done!\n",
      "pairwise 14 16 done!\n"
     ]
    },
    {
     "name": "stderr",
     "output_type": "stream",
     "text": [
      "C:\\Users\\sabh\\AppData\\Local\\Temp\\ipykernel_3396\\1463650966.py:54: PerformanceWarning: DataFrame is highly fragmented.  This is usually the result of calling `frame.insert` many times, which has poor performance.  Consider joining all columns at once using pd.concat(axis=1) instead. To get a de-fragmented frame, use `newframe = frame.copy()`\n",
      "  totbiomass_df[f'{counter}_model_{a}'] = pairwise_simulation.total_biomass[f'model{a}']\n",
      "C:\\Users\\sabh\\AppData\\Local\\Temp\\ipykernel_3396\\1463650966.py:55: PerformanceWarning: DataFrame is highly fragmented.  This is usually the result of calling `frame.insert` many times, which has poor performance.  Consider joining all columns at once using pd.concat(axis=1) instead. To get a de-fragmented frame, use `newframe = frame.copy()`\n",
      "  totbiomass_df[f'{counter}_model_{b}'] = pairwise_simulation.total_biomass[f'model{b}']\n"
     ]
    },
    {
     "name": "stdout",
     "output_type": "stream",
     "text": [
      "172 of 190: Constructing layout for model 14 and model 17 ...\n",
      "\n",
      "Running COMETS simulation ...\n",
      "\n",
      "Debug Here ...\n",
      "Done!\n",
      "pairwise 14 17 done!\n"
     ]
    },
    {
     "name": "stderr",
     "output_type": "stream",
     "text": [
      "C:\\Users\\sabh\\AppData\\Local\\Temp\\ipykernel_3396\\1463650966.py:54: PerformanceWarning: DataFrame is highly fragmented.  This is usually the result of calling `frame.insert` many times, which has poor performance.  Consider joining all columns at once using pd.concat(axis=1) instead. To get a de-fragmented frame, use `newframe = frame.copy()`\n",
      "  totbiomass_df[f'{counter}_model_{a}'] = pairwise_simulation.total_biomass[f'model{a}']\n",
      "C:\\Users\\sabh\\AppData\\Local\\Temp\\ipykernel_3396\\1463650966.py:55: PerformanceWarning: DataFrame is highly fragmented.  This is usually the result of calling `frame.insert` many times, which has poor performance.  Consider joining all columns at once using pd.concat(axis=1) instead. To get a de-fragmented frame, use `newframe = frame.copy()`\n",
      "  totbiomass_df[f'{counter}_model_{b}'] = pairwise_simulation.total_biomass[f'model{b}']\n"
     ]
    },
    {
     "name": "stdout",
     "output_type": "stream",
     "text": [
      "173 of 190: Constructing layout for model 14 and model 18 ...\n",
      "\n",
      "Running COMETS simulation ...\n",
      "\n",
      "Debug Here ...\n",
      "Done!\n",
      "pairwise 14 18 done!\n"
     ]
    },
    {
     "name": "stderr",
     "output_type": "stream",
     "text": [
      "C:\\Users\\sabh\\AppData\\Local\\Temp\\ipykernel_3396\\1463650966.py:54: PerformanceWarning: DataFrame is highly fragmented.  This is usually the result of calling `frame.insert` many times, which has poor performance.  Consider joining all columns at once using pd.concat(axis=1) instead. To get a de-fragmented frame, use `newframe = frame.copy()`\n",
      "  totbiomass_df[f'{counter}_model_{a}'] = pairwise_simulation.total_biomass[f'model{a}']\n",
      "C:\\Users\\sabh\\AppData\\Local\\Temp\\ipykernel_3396\\1463650966.py:55: PerformanceWarning: DataFrame is highly fragmented.  This is usually the result of calling `frame.insert` many times, which has poor performance.  Consider joining all columns at once using pd.concat(axis=1) instead. To get a de-fragmented frame, use `newframe = frame.copy()`\n",
      "  totbiomass_df[f'{counter}_model_{b}'] = pairwise_simulation.total_biomass[f'model{b}']\n"
     ]
    },
    {
     "name": "stdout",
     "output_type": "stream",
     "text": [
      "174 of 190: Constructing layout for model 14 and model 19 ...\n",
      "\n",
      "Running COMETS simulation ...\n",
      "\n",
      "Debug Here ...\n",
      "Done!\n",
      "pairwise 14 19 done!\n"
     ]
    },
    {
     "name": "stderr",
     "output_type": "stream",
     "text": [
      "C:\\Users\\sabh\\AppData\\Local\\Temp\\ipykernel_3396\\1463650966.py:54: PerformanceWarning: DataFrame is highly fragmented.  This is usually the result of calling `frame.insert` many times, which has poor performance.  Consider joining all columns at once using pd.concat(axis=1) instead. To get a de-fragmented frame, use `newframe = frame.copy()`\n",
      "  totbiomass_df[f'{counter}_model_{a}'] = pairwise_simulation.total_biomass[f'model{a}']\n",
      "C:\\Users\\sabh\\AppData\\Local\\Temp\\ipykernel_3396\\1463650966.py:55: PerformanceWarning: DataFrame is highly fragmented.  This is usually the result of calling `frame.insert` many times, which has poor performance.  Consider joining all columns at once using pd.concat(axis=1) instead. To get a de-fragmented frame, use `newframe = frame.copy()`\n",
      "  totbiomass_df[f'{counter}_model_{b}'] = pairwise_simulation.total_biomass[f'model{b}']\n"
     ]
    },
    {
     "name": "stdout",
     "output_type": "stream",
     "text": [
      "175 of 190: Constructing layout for model 14 and model 20 ...\n",
      "\n",
      "Running COMETS simulation ...\n",
      "\n",
      "Debug Here ...\n",
      "Done!\n",
      "pairwise 14 20 done!\n"
     ]
    },
    {
     "name": "stderr",
     "output_type": "stream",
     "text": [
      "C:\\Users\\sabh\\AppData\\Local\\Temp\\ipykernel_3396\\1463650966.py:54: PerformanceWarning: DataFrame is highly fragmented.  This is usually the result of calling `frame.insert` many times, which has poor performance.  Consider joining all columns at once using pd.concat(axis=1) instead. To get a de-fragmented frame, use `newframe = frame.copy()`\n",
      "  totbiomass_df[f'{counter}_model_{a}'] = pairwise_simulation.total_biomass[f'model{a}']\n",
      "C:\\Users\\sabh\\AppData\\Local\\Temp\\ipykernel_3396\\1463650966.py:55: PerformanceWarning: DataFrame is highly fragmented.  This is usually the result of calling `frame.insert` many times, which has poor performance.  Consider joining all columns at once using pd.concat(axis=1) instead. To get a de-fragmented frame, use `newframe = frame.copy()`\n",
      "  totbiomass_df[f'{counter}_model_{b}'] = pairwise_simulation.total_biomass[f'model{b}']\n"
     ]
    },
    {
     "name": "stdout",
     "output_type": "stream",
     "text": [
      "176 of 190: Constructing layout for model 15 and model 16 ...\n",
      "\n",
      "Running COMETS simulation ...\n",
      "\n",
      "Debug Here ...\n",
      "Done!\n",
      "pairwise 15 16 done!\n"
     ]
    },
    {
     "name": "stderr",
     "output_type": "stream",
     "text": [
      "C:\\Users\\sabh\\AppData\\Local\\Temp\\ipykernel_3396\\1463650966.py:54: PerformanceWarning: DataFrame is highly fragmented.  This is usually the result of calling `frame.insert` many times, which has poor performance.  Consider joining all columns at once using pd.concat(axis=1) instead. To get a de-fragmented frame, use `newframe = frame.copy()`\n",
      "  totbiomass_df[f'{counter}_model_{a}'] = pairwise_simulation.total_biomass[f'model{a}']\n",
      "C:\\Users\\sabh\\AppData\\Local\\Temp\\ipykernel_3396\\1463650966.py:55: PerformanceWarning: DataFrame is highly fragmented.  This is usually the result of calling `frame.insert` many times, which has poor performance.  Consider joining all columns at once using pd.concat(axis=1) instead. To get a de-fragmented frame, use `newframe = frame.copy()`\n",
      "  totbiomass_df[f'{counter}_model_{b}'] = pairwise_simulation.total_biomass[f'model{b}']\n"
     ]
    },
    {
     "name": "stdout",
     "output_type": "stream",
     "text": [
      "177 of 190: Constructing layout for model 15 and model 17 ...\n",
      "\n",
      "Running COMETS simulation ...\n",
      "\n",
      "Debug Here ...\n",
      "Done!\n",
      "pairwise 15 17 done!\n"
     ]
    },
    {
     "name": "stderr",
     "output_type": "stream",
     "text": [
      "C:\\Users\\sabh\\AppData\\Local\\Temp\\ipykernel_3396\\1463650966.py:54: PerformanceWarning: DataFrame is highly fragmented.  This is usually the result of calling `frame.insert` many times, which has poor performance.  Consider joining all columns at once using pd.concat(axis=1) instead. To get a de-fragmented frame, use `newframe = frame.copy()`\n",
      "  totbiomass_df[f'{counter}_model_{a}'] = pairwise_simulation.total_biomass[f'model{a}']\n",
      "C:\\Users\\sabh\\AppData\\Local\\Temp\\ipykernel_3396\\1463650966.py:55: PerformanceWarning: DataFrame is highly fragmented.  This is usually the result of calling `frame.insert` many times, which has poor performance.  Consider joining all columns at once using pd.concat(axis=1) instead. To get a de-fragmented frame, use `newframe = frame.copy()`\n",
      "  totbiomass_df[f'{counter}_model_{b}'] = pairwise_simulation.total_biomass[f'model{b}']\n"
     ]
    },
    {
     "name": "stdout",
     "output_type": "stream",
     "text": [
      "178 of 190: Constructing layout for model 15 and model 18 ...\n",
      "\n",
      "Running COMETS simulation ...\n",
      "\n",
      "Debug Here ...\n",
      "Done!\n",
      "pairwise 15 18 done!\n"
     ]
    },
    {
     "name": "stderr",
     "output_type": "stream",
     "text": [
      "C:\\Users\\sabh\\AppData\\Local\\Temp\\ipykernel_3396\\1463650966.py:54: PerformanceWarning: DataFrame is highly fragmented.  This is usually the result of calling `frame.insert` many times, which has poor performance.  Consider joining all columns at once using pd.concat(axis=1) instead. To get a de-fragmented frame, use `newframe = frame.copy()`\n",
      "  totbiomass_df[f'{counter}_model_{a}'] = pairwise_simulation.total_biomass[f'model{a}']\n",
      "C:\\Users\\sabh\\AppData\\Local\\Temp\\ipykernel_3396\\1463650966.py:55: PerformanceWarning: DataFrame is highly fragmented.  This is usually the result of calling `frame.insert` many times, which has poor performance.  Consider joining all columns at once using pd.concat(axis=1) instead. To get a de-fragmented frame, use `newframe = frame.copy()`\n",
      "  totbiomass_df[f'{counter}_model_{b}'] = pairwise_simulation.total_biomass[f'model{b}']\n"
     ]
    },
    {
     "name": "stdout",
     "output_type": "stream",
     "text": [
      "179 of 190: Constructing layout for model 15 and model 19 ...\n",
      "\n",
      "Running COMETS simulation ...\n",
      "\n",
      "Debug Here ...\n",
      "Done!\n",
      "pairwise 15 19 done!\n"
     ]
    },
    {
     "name": "stderr",
     "output_type": "stream",
     "text": [
      "C:\\Users\\sabh\\AppData\\Local\\Temp\\ipykernel_3396\\1463650966.py:54: PerformanceWarning: DataFrame is highly fragmented.  This is usually the result of calling `frame.insert` many times, which has poor performance.  Consider joining all columns at once using pd.concat(axis=1) instead. To get a de-fragmented frame, use `newframe = frame.copy()`\n",
      "  totbiomass_df[f'{counter}_model_{a}'] = pairwise_simulation.total_biomass[f'model{a}']\n",
      "C:\\Users\\sabh\\AppData\\Local\\Temp\\ipykernel_3396\\1463650966.py:55: PerformanceWarning: DataFrame is highly fragmented.  This is usually the result of calling `frame.insert` many times, which has poor performance.  Consider joining all columns at once using pd.concat(axis=1) instead. To get a de-fragmented frame, use `newframe = frame.copy()`\n",
      "  totbiomass_df[f'{counter}_model_{b}'] = pairwise_simulation.total_biomass[f'model{b}']\n"
     ]
    },
    {
     "name": "stdout",
     "output_type": "stream",
     "text": [
      "180 of 190: Constructing layout for model 15 and model 20 ...\n",
      "\n",
      "Running COMETS simulation ...\n",
      "\n",
      "Debug Here ...\n",
      "Done!\n",
      "pairwise 15 20 done!\n"
     ]
    },
    {
     "name": "stderr",
     "output_type": "stream",
     "text": [
      "C:\\Users\\sabh\\AppData\\Local\\Temp\\ipykernel_3396\\1463650966.py:54: PerformanceWarning: DataFrame is highly fragmented.  This is usually the result of calling `frame.insert` many times, which has poor performance.  Consider joining all columns at once using pd.concat(axis=1) instead. To get a de-fragmented frame, use `newframe = frame.copy()`\n",
      "  totbiomass_df[f'{counter}_model_{a}'] = pairwise_simulation.total_biomass[f'model{a}']\n",
      "C:\\Users\\sabh\\AppData\\Local\\Temp\\ipykernel_3396\\1463650966.py:55: PerformanceWarning: DataFrame is highly fragmented.  This is usually the result of calling `frame.insert` many times, which has poor performance.  Consider joining all columns at once using pd.concat(axis=1) instead. To get a de-fragmented frame, use `newframe = frame.copy()`\n",
      "  totbiomass_df[f'{counter}_model_{b}'] = pairwise_simulation.total_biomass[f'model{b}']\n"
     ]
    },
    {
     "name": "stdout",
     "output_type": "stream",
     "text": [
      "181 of 190: Constructing layout for model 16 and model 17 ...\n",
      "\n",
      "Running COMETS simulation ...\n",
      "\n",
      "Debug Here ...\n",
      "Done!\n",
      "pairwise 16 17 done!\n"
     ]
    },
    {
     "name": "stderr",
     "output_type": "stream",
     "text": [
      "C:\\Users\\sabh\\AppData\\Local\\Temp\\ipykernel_3396\\1463650966.py:54: PerformanceWarning: DataFrame is highly fragmented.  This is usually the result of calling `frame.insert` many times, which has poor performance.  Consider joining all columns at once using pd.concat(axis=1) instead. To get a de-fragmented frame, use `newframe = frame.copy()`\n",
      "  totbiomass_df[f'{counter}_model_{a}'] = pairwise_simulation.total_biomass[f'model{a}']\n",
      "C:\\Users\\sabh\\AppData\\Local\\Temp\\ipykernel_3396\\1463650966.py:55: PerformanceWarning: DataFrame is highly fragmented.  This is usually the result of calling `frame.insert` many times, which has poor performance.  Consider joining all columns at once using pd.concat(axis=1) instead. To get a de-fragmented frame, use `newframe = frame.copy()`\n",
      "  totbiomass_df[f'{counter}_model_{b}'] = pairwise_simulation.total_biomass[f'model{b}']\n"
     ]
    },
    {
     "name": "stdout",
     "output_type": "stream",
     "text": [
      "182 of 190: Constructing layout for model 16 and model 18 ...\n",
      "\n",
      "Running COMETS simulation ...\n",
      "\n",
      "Debug Here ...\n",
      "Done!\n",
      "pairwise 16 18 done!\n"
     ]
    },
    {
     "name": "stderr",
     "output_type": "stream",
     "text": [
      "C:\\Users\\sabh\\AppData\\Local\\Temp\\ipykernel_3396\\1463650966.py:54: PerformanceWarning: DataFrame is highly fragmented.  This is usually the result of calling `frame.insert` many times, which has poor performance.  Consider joining all columns at once using pd.concat(axis=1) instead. To get a de-fragmented frame, use `newframe = frame.copy()`\n",
      "  totbiomass_df[f'{counter}_model_{a}'] = pairwise_simulation.total_biomass[f'model{a}']\n",
      "C:\\Users\\sabh\\AppData\\Local\\Temp\\ipykernel_3396\\1463650966.py:55: PerformanceWarning: DataFrame is highly fragmented.  This is usually the result of calling `frame.insert` many times, which has poor performance.  Consider joining all columns at once using pd.concat(axis=1) instead. To get a de-fragmented frame, use `newframe = frame.copy()`\n",
      "  totbiomass_df[f'{counter}_model_{b}'] = pairwise_simulation.total_biomass[f'model{b}']\n"
     ]
    },
    {
     "name": "stdout",
     "output_type": "stream",
     "text": [
      "183 of 190: Constructing layout for model 16 and model 19 ...\n",
      "\n",
      "Running COMETS simulation ...\n",
      "\n",
      "Debug Here ...\n",
      "Done!\n",
      "pairwise 16 19 done!\n"
     ]
    },
    {
     "name": "stderr",
     "output_type": "stream",
     "text": [
      "C:\\Users\\sabh\\AppData\\Local\\Temp\\ipykernel_3396\\1463650966.py:54: PerformanceWarning: DataFrame is highly fragmented.  This is usually the result of calling `frame.insert` many times, which has poor performance.  Consider joining all columns at once using pd.concat(axis=1) instead. To get a de-fragmented frame, use `newframe = frame.copy()`\n",
      "  totbiomass_df[f'{counter}_model_{a}'] = pairwise_simulation.total_biomass[f'model{a}']\n",
      "C:\\Users\\sabh\\AppData\\Local\\Temp\\ipykernel_3396\\1463650966.py:55: PerformanceWarning: DataFrame is highly fragmented.  This is usually the result of calling `frame.insert` many times, which has poor performance.  Consider joining all columns at once using pd.concat(axis=1) instead. To get a de-fragmented frame, use `newframe = frame.copy()`\n",
      "  totbiomass_df[f'{counter}_model_{b}'] = pairwise_simulation.total_biomass[f'model{b}']\n"
     ]
    },
    {
     "name": "stdout",
     "output_type": "stream",
     "text": [
      "184 of 190: Constructing layout for model 16 and model 20 ...\n",
      "\n",
      "Running COMETS simulation ...\n",
      "\n",
      "Debug Here ...\n",
      "Done!\n",
      "pairwise 16 20 done!\n"
     ]
    },
    {
     "name": "stderr",
     "output_type": "stream",
     "text": [
      "C:\\Users\\sabh\\AppData\\Local\\Temp\\ipykernel_3396\\1463650966.py:54: PerformanceWarning: DataFrame is highly fragmented.  This is usually the result of calling `frame.insert` many times, which has poor performance.  Consider joining all columns at once using pd.concat(axis=1) instead. To get a de-fragmented frame, use `newframe = frame.copy()`\n",
      "  totbiomass_df[f'{counter}_model_{a}'] = pairwise_simulation.total_biomass[f'model{a}']\n",
      "C:\\Users\\sabh\\AppData\\Local\\Temp\\ipykernel_3396\\1463650966.py:55: PerformanceWarning: DataFrame is highly fragmented.  This is usually the result of calling `frame.insert` many times, which has poor performance.  Consider joining all columns at once using pd.concat(axis=1) instead. To get a de-fragmented frame, use `newframe = frame.copy()`\n",
      "  totbiomass_df[f'{counter}_model_{b}'] = pairwise_simulation.total_biomass[f'model{b}']\n"
     ]
    },
    {
     "name": "stdout",
     "output_type": "stream",
     "text": [
      "185 of 190: Constructing layout for model 17 and model 18 ...\n",
      "\n",
      "Running COMETS simulation ...\n",
      "\n",
      "Debug Here ...\n",
      "Done!\n",
      "pairwise 17 18 done!\n"
     ]
    },
    {
     "name": "stderr",
     "output_type": "stream",
     "text": [
      "C:\\Users\\sabh\\AppData\\Local\\Temp\\ipykernel_3396\\1463650966.py:54: PerformanceWarning: DataFrame is highly fragmented.  This is usually the result of calling `frame.insert` many times, which has poor performance.  Consider joining all columns at once using pd.concat(axis=1) instead. To get a de-fragmented frame, use `newframe = frame.copy()`\n",
      "  totbiomass_df[f'{counter}_model_{a}'] = pairwise_simulation.total_biomass[f'model{a}']\n",
      "C:\\Users\\sabh\\AppData\\Local\\Temp\\ipykernel_3396\\1463650966.py:55: PerformanceWarning: DataFrame is highly fragmented.  This is usually the result of calling `frame.insert` many times, which has poor performance.  Consider joining all columns at once using pd.concat(axis=1) instead. To get a de-fragmented frame, use `newframe = frame.copy()`\n",
      "  totbiomass_df[f'{counter}_model_{b}'] = pairwise_simulation.total_biomass[f'model{b}']\n"
     ]
    },
    {
     "name": "stdout",
     "output_type": "stream",
     "text": [
      "186 of 190: Constructing layout for model 17 and model 19 ...\n",
      "\n",
      "Running COMETS simulation ...\n",
      "\n",
      "Debug Here ...\n",
      "Done!\n",
      "pairwise 17 19 done!\n"
     ]
    },
    {
     "name": "stderr",
     "output_type": "stream",
     "text": [
      "C:\\Users\\sabh\\AppData\\Local\\Temp\\ipykernel_3396\\1463650966.py:54: PerformanceWarning: DataFrame is highly fragmented.  This is usually the result of calling `frame.insert` many times, which has poor performance.  Consider joining all columns at once using pd.concat(axis=1) instead. To get a de-fragmented frame, use `newframe = frame.copy()`\n",
      "  totbiomass_df[f'{counter}_model_{a}'] = pairwise_simulation.total_biomass[f'model{a}']\n",
      "C:\\Users\\sabh\\AppData\\Local\\Temp\\ipykernel_3396\\1463650966.py:55: PerformanceWarning: DataFrame is highly fragmented.  This is usually the result of calling `frame.insert` many times, which has poor performance.  Consider joining all columns at once using pd.concat(axis=1) instead. To get a de-fragmented frame, use `newframe = frame.copy()`\n",
      "  totbiomass_df[f'{counter}_model_{b}'] = pairwise_simulation.total_biomass[f'model{b}']\n"
     ]
    },
    {
     "name": "stdout",
     "output_type": "stream",
     "text": [
      "187 of 190: Constructing layout for model 17 and model 20 ...\n",
      "\n",
      "Running COMETS simulation ...\n",
      "\n",
      "Debug Here ...\n",
      "Done!\n",
      "pairwise 17 20 done!\n"
     ]
    },
    {
     "name": "stderr",
     "output_type": "stream",
     "text": [
      "C:\\Users\\sabh\\AppData\\Local\\Temp\\ipykernel_3396\\1463650966.py:54: PerformanceWarning: DataFrame is highly fragmented.  This is usually the result of calling `frame.insert` many times, which has poor performance.  Consider joining all columns at once using pd.concat(axis=1) instead. To get a de-fragmented frame, use `newframe = frame.copy()`\n",
      "  totbiomass_df[f'{counter}_model_{a}'] = pairwise_simulation.total_biomass[f'model{a}']\n",
      "C:\\Users\\sabh\\AppData\\Local\\Temp\\ipykernel_3396\\1463650966.py:55: PerformanceWarning: DataFrame is highly fragmented.  This is usually the result of calling `frame.insert` many times, which has poor performance.  Consider joining all columns at once using pd.concat(axis=1) instead. To get a de-fragmented frame, use `newframe = frame.copy()`\n",
      "  totbiomass_df[f'{counter}_model_{b}'] = pairwise_simulation.total_biomass[f'model{b}']\n"
     ]
    },
    {
     "name": "stdout",
     "output_type": "stream",
     "text": [
      "188 of 190: Constructing layout for model 18 and model 19 ...\n",
      "\n",
      "Running COMETS simulation ...\n",
      "\n",
      "Debug Here ...\n",
      "Done!\n",
      "pairwise 18 19 done!\n"
     ]
    },
    {
     "name": "stderr",
     "output_type": "stream",
     "text": [
      "C:\\Users\\sabh\\AppData\\Local\\Temp\\ipykernel_3396\\1463650966.py:54: PerformanceWarning: DataFrame is highly fragmented.  This is usually the result of calling `frame.insert` many times, which has poor performance.  Consider joining all columns at once using pd.concat(axis=1) instead. To get a de-fragmented frame, use `newframe = frame.copy()`\n",
      "  totbiomass_df[f'{counter}_model_{a}'] = pairwise_simulation.total_biomass[f'model{a}']\n",
      "C:\\Users\\sabh\\AppData\\Local\\Temp\\ipykernel_3396\\1463650966.py:55: PerformanceWarning: DataFrame is highly fragmented.  This is usually the result of calling `frame.insert` many times, which has poor performance.  Consider joining all columns at once using pd.concat(axis=1) instead. To get a de-fragmented frame, use `newframe = frame.copy()`\n",
      "  totbiomass_df[f'{counter}_model_{b}'] = pairwise_simulation.total_biomass[f'model{b}']\n"
     ]
    },
    {
     "name": "stdout",
     "output_type": "stream",
     "text": [
      "189 of 190: Constructing layout for model 18 and model 20 ...\n",
      "\n",
      "Running COMETS simulation ...\n",
      "\n",
      "Debug Here ...\n",
      "Done!\n",
      "pairwise 18 20 done!\n"
     ]
    },
    {
     "name": "stderr",
     "output_type": "stream",
     "text": [
      "C:\\Users\\sabh\\AppData\\Local\\Temp\\ipykernel_3396\\1463650966.py:54: PerformanceWarning: DataFrame is highly fragmented.  This is usually the result of calling `frame.insert` many times, which has poor performance.  Consider joining all columns at once using pd.concat(axis=1) instead. To get a de-fragmented frame, use `newframe = frame.copy()`\n",
      "  totbiomass_df[f'{counter}_model_{a}'] = pairwise_simulation.total_biomass[f'model{a}']\n",
      "C:\\Users\\sabh\\AppData\\Local\\Temp\\ipykernel_3396\\1463650966.py:55: PerformanceWarning: DataFrame is highly fragmented.  This is usually the result of calling `frame.insert` many times, which has poor performance.  Consider joining all columns at once using pd.concat(axis=1) instead. To get a de-fragmented frame, use `newframe = frame.copy()`\n",
      "  totbiomass_df[f'{counter}_model_{b}'] = pairwise_simulation.total_biomass[f'model{b}']\n"
     ]
    },
    {
     "name": "stdout",
     "output_type": "stream",
     "text": [
      "190 of 190: Constructing layout for model 19 and model 20 ...\n",
      "\n",
      "Running COMETS simulation ...\n",
      "\n",
      "Debug Here ...\n",
      "Done!\n",
      "pairwise 19 20 done!\n"
     ]
    },
    {
     "name": "stderr",
     "output_type": "stream",
     "text": [
      "C:\\Users\\sabh\\AppData\\Local\\Temp\\ipykernel_3396\\1463650966.py:54: PerformanceWarning: DataFrame is highly fragmented.  This is usually the result of calling `frame.insert` many times, which has poor performance.  Consider joining all columns at once using pd.concat(axis=1) instead. To get a de-fragmented frame, use `newframe = frame.copy()`\n",
      "  totbiomass_df[f'{counter}_model_{a}'] = pairwise_simulation.total_biomass[f'model{a}']\n",
      "C:\\Users\\sabh\\AppData\\Local\\Temp\\ipykernel_3396\\1463650966.py:55: PerformanceWarning: DataFrame is highly fragmented.  This is usually the result of calling `frame.insert` many times, which has poor performance.  Consider joining all columns at once using pd.concat(axis=1) instead. To get a de-fragmented frame, use `newframe = frame.copy()`\n",
      "  totbiomass_df[f'{counter}_model_{b}'] = pairwise_simulation.total_biomass[f'model{b}']\n"
     ]
    }
   ],
   "source": [
    "initial_pop = 0.01 #initial population of the model\n",
    "dilution_rate = 0.1 # /hr\n",
    "counter = 1\n",
    "pairwise_biomassdict = {} #initialize biomass dict for storing timeseries biomass data - id:timeseries biomass data\n",
    "totbiomass_df = pd.DataFrame()\n",
    "\n",
    "for pair in pairwise_numbers:\n",
    "    model1 = 0\n",
    "    model2 = 0\n",
    "    a, b = pair\n",
    "    model1 = models[a]  # model 1\n",
    "    model2 = models[b]  # model 2\n",
    "\n",
    "    comets_model1 = c.model(model1)\n",
    "    comets_model2 = c.model(model2)\n",
    "\n",
    "    comets_model1.id = 'model' + str(a)\n",
    "    comets_model2.id = 'model' + str(b)\n",
    "\n",
    "    comets_model1.initial_pop = [0, 0, initial_pop]  # x, y, gDW\n",
    "    comets_model2.initial_pop = [0, 0, initial_pop]  # x, y, gDW   \n",
    "\n",
    "    comets_model1.open_exchanges()\n",
    "    comets_model2.open_exchanges()\n",
    "\n",
    "    #create layout\n",
    "    print(counter, 'of 190:', 'Constructing layout for model', a, 'and model', b, '...')\n",
    "    layout = c.layout([comets_model1, comets_model2])\n",
    "\n",
    "    #set diet\n",
    "    for met in diet_dict:\n",
    "        metabolite = (met + '[e]')\n",
    "        conc = diet_dict[met]\n",
    "        # print(metabolite, conc)\n",
    "        if metabolite in layout.media['metabolite'].values:\n",
    "            layout.set_specific_metabolite(metabolite, conc) \n",
    "    \n",
    "    #set media refresh rate - chemostat conditions\n",
    "    for met in layout.media['metabolite']:\n",
    "        initconc = layout.media[layout.media['metabolite'] == met]['init_amount'].values[0]\n",
    "        refreshrate = initconc * dilution_rate\n",
    "        layout.set_specific_refresh(met, refreshrate)\n",
    "    \n",
    "\n",
    "    pairwise_simulation = c.comets(layout, pairwise_params)\n",
    "    pairwise_simulation.run()\n",
    "\n",
    "    pairwise_biomassdict[f'{counter}_model_{a}_{b}'] = pairwise_simulation.total_biomass\n",
    "\n",
    "    #save biomass data\n",
    "    if counter == 1:\n",
    "        totbiomass_df['cycle'] = pairwise_simulation.total_biomass['cycle']\n",
    "    \n",
    "    totbiomass_df[f'{counter}_model_{a}'] = pairwise_simulation.total_biomass[f'model{a}']\n",
    "    totbiomass_df[f'{counter}_model_{b}'] = pairwise_simulation.total_biomass[f'model{b}']         \n",
    "\n",
    "    counter += 1 \n",
    "    print('pairwise', a, b, 'done!')"
   ]
  },
  {
   "cell_type": "code",
   "execution_count": 48,
   "metadata": {},
   "outputs": [
    {
     "data": {
      "text/html": [
       "<div>\n",
       "<style scoped>\n",
       "    .dataframe tbody tr th:only-of-type {\n",
       "        vertical-align: middle;\n",
       "    }\n",
       "\n",
       "    .dataframe tbody tr th {\n",
       "        vertical-align: top;\n",
       "    }\n",
       "\n",
       "    .dataframe thead th {\n",
       "        text-align: right;\n",
       "    }\n",
       "</style>\n",
       "<table border=\"1\" class=\"dataframe\">\n",
       "  <thead>\n",
       "    <tr style=\"text-align: right;\">\n",
       "      <th></th>\n",
       "      <th>cycle</th>\n",
       "      <th>1_model_1</th>\n",
       "      <th>1_model_2</th>\n",
       "      <th>2_model_1</th>\n",
       "      <th>2_model_3</th>\n",
       "      <th>3_model_1</th>\n",
       "      <th>3_model_4</th>\n",
       "      <th>4_model_1</th>\n",
       "      <th>4_model_5</th>\n",
       "      <th>5_model_1</th>\n",
       "      <th>...</th>\n",
       "      <th>186_model_17</th>\n",
       "      <th>186_model_19</th>\n",
       "      <th>187_model_17</th>\n",
       "      <th>187_model_20</th>\n",
       "      <th>188_model_18</th>\n",
       "      <th>188_model_19</th>\n",
       "      <th>189_model_18</th>\n",
       "      <th>189_model_20</th>\n",
       "      <th>190_model_19</th>\n",
       "      <th>190_model_20</th>\n",
       "    </tr>\n",
       "  </thead>\n",
       "  <tbody>\n",
       "    <tr>\n",
       "      <th>0</th>\n",
       "      <td>0</td>\n",
       "      <td>0.010000</td>\n",
       "      <td>0.010000</td>\n",
       "      <td>0.010000</td>\n",
       "      <td>0.010000</td>\n",
       "      <td>0.010000</td>\n",
       "      <td>0.010000</td>\n",
       "      <td>0.010000</td>\n",
       "      <td>0.010000</td>\n",
       "      <td>0.010000</td>\n",
       "      <td>...</td>\n",
       "      <td>0.010000</td>\n",
       "      <td>0.010000</td>\n",
       "      <td>0.010000</td>\n",
       "      <td>0.010000</td>\n",
       "      <td>0.010000</td>\n",
       "      <td>0.010000</td>\n",
       "      <td>0.010000</td>\n",
       "      <td>0.010000</td>\n",
       "      <td>0.010000</td>\n",
       "      <td>0.010000</td>\n",
       "    </tr>\n",
       "    <tr>\n",
       "      <th>1</th>\n",
       "      <td>1</td>\n",
       "      <td>0.020575</td>\n",
       "      <td>0.039824</td>\n",
       "      <td>0.020575</td>\n",
       "      <td>0.027137</td>\n",
       "      <td>0.020575</td>\n",
       "      <td>0.009900</td>\n",
       "      <td>0.020575</td>\n",
       "      <td>0.030972</td>\n",
       "      <td>0.020575</td>\n",
       "      <td>...</td>\n",
       "      <td>0.027137</td>\n",
       "      <td>0.041828</td>\n",
       "      <td>0.027137</td>\n",
       "      <td>0.009900</td>\n",
       "      <td>0.009900</td>\n",
       "      <td>0.041828</td>\n",
       "      <td>0.009900</td>\n",
       "      <td>0.009900</td>\n",
       "      <td>0.041828</td>\n",
       "      <td>0.009900</td>\n",
       "    </tr>\n",
       "    <tr>\n",
       "      <th>2</th>\n",
       "      <td>2</td>\n",
       "      <td>0.040055</td>\n",
       "      <td>0.136673</td>\n",
       "      <td>0.037355</td>\n",
       "      <td>0.073640</td>\n",
       "      <td>0.039732</td>\n",
       "      <td>0.009801</td>\n",
       "      <td>0.037355</td>\n",
       "      <td>0.083059</td>\n",
       "      <td>0.037355</td>\n",
       "      <td>...</td>\n",
       "      <td>0.073640</td>\n",
       "      <td>0.145183</td>\n",
       "      <td>0.073640</td>\n",
       "      <td>0.009801</td>\n",
       "      <td>0.009801</td>\n",
       "      <td>0.156860</td>\n",
       "      <td>0.009801</td>\n",
       "      <td>0.009801</td>\n",
       "      <td>0.156130</td>\n",
       "      <td>0.009801</td>\n",
       "    </tr>\n",
       "    <tr>\n",
       "      <th>3</th>\n",
       "      <td>3</td>\n",
       "      <td>0.062291</td>\n",
       "      <td>0.292939</td>\n",
       "      <td>0.050504</td>\n",
       "      <td>0.139923</td>\n",
       "      <td>0.064674</td>\n",
       "      <td>0.009703</td>\n",
       "      <td>0.049804</td>\n",
       "      <td>0.136529</td>\n",
       "      <td>0.052254</td>\n",
       "      <td>...</td>\n",
       "      <td>0.152581</td>\n",
       "      <td>0.309702</td>\n",
       "      <td>0.168213</td>\n",
       "      <td>0.009703</td>\n",
       "      <td>0.009703</td>\n",
       "      <td>0.339658</td>\n",
       "      <td>0.009703</td>\n",
       "      <td>0.009703</td>\n",
       "      <td>0.341063</td>\n",
       "      <td>0.009703</td>\n",
       "    </tr>\n",
       "    <tr>\n",
       "      <th>4</th>\n",
       "      <td>4</td>\n",
       "      <td>0.066462</td>\n",
       "      <td>0.394236</td>\n",
       "      <td>0.054792</td>\n",
       "      <td>0.209135</td>\n",
       "      <td>0.091731</td>\n",
       "      <td>0.009606</td>\n",
       "      <td>0.054099</td>\n",
       "      <td>0.189284</td>\n",
       "      <td>0.054861</td>\n",
       "      <td>...</td>\n",
       "      <td>0.205004</td>\n",
       "      <td>0.428537</td>\n",
       "      <td>0.238040</td>\n",
       "      <td>0.009606</td>\n",
       "      <td>0.009606</td>\n",
       "      <td>0.467242</td>\n",
       "      <td>0.009606</td>\n",
       "      <td>0.009606</td>\n",
       "      <td>0.467242</td>\n",
       "      <td>0.009606</td>\n",
       "    </tr>\n",
       "  </tbody>\n",
       "</table>\n",
       "<p>5 rows × 381 columns</p>\n",
       "</div>"
      ],
      "text/plain": [
       "   cycle  1_model_1  1_model_2  2_model_1  2_model_3  3_model_1  3_model_4   \n",
       "0      0   0.010000   0.010000   0.010000   0.010000   0.010000   0.010000  \\\n",
       "1      1   0.020575   0.039824   0.020575   0.027137   0.020575   0.009900   \n",
       "2      2   0.040055   0.136673   0.037355   0.073640   0.039732   0.009801   \n",
       "3      3   0.062291   0.292939   0.050504   0.139923   0.064674   0.009703   \n",
       "4      4   0.066462   0.394236   0.054792   0.209135   0.091731   0.009606   \n",
       "\n",
       "   4_model_1  4_model_5  5_model_1  ...  186_model_17  186_model_19   \n",
       "0   0.010000   0.010000   0.010000  ...      0.010000      0.010000  \\\n",
       "1   0.020575   0.030972   0.020575  ...      0.027137      0.041828   \n",
       "2   0.037355   0.083059   0.037355  ...      0.073640      0.145183   \n",
       "3   0.049804   0.136529   0.052254  ...      0.152581      0.309702   \n",
       "4   0.054099   0.189284   0.054861  ...      0.205004      0.428537   \n",
       "\n",
       "   187_model_17  187_model_20  188_model_18  188_model_19  189_model_18   \n",
       "0      0.010000      0.010000      0.010000      0.010000      0.010000  \\\n",
       "1      0.027137      0.009900      0.009900      0.041828      0.009900   \n",
       "2      0.073640      0.009801      0.009801      0.156860      0.009801   \n",
       "3      0.168213      0.009703      0.009703      0.339658      0.009703   \n",
       "4      0.238040      0.009606      0.009606      0.467242      0.009606   \n",
       "\n",
       "   189_model_20  190_model_19  190_model_20  \n",
       "0      0.010000      0.010000      0.010000  \n",
       "1      0.009900      0.041828      0.009900  \n",
       "2      0.009801      0.156130      0.009801  \n",
       "3      0.009703      0.341063      0.009703  \n",
       "4      0.009606      0.467242      0.009606  \n",
       "\n",
       "[5 rows x 381 columns]"
      ]
     },
     "execution_count": 48,
     "metadata": {},
     "output_type": "execute_result"
    }
   ],
   "source": [
    "totbiomass_df.head()"
   ]
  },
  {
   "cell_type": "code",
   "execution_count": 50,
   "metadata": {},
   "outputs": [
    {
     "data": {
      "text/html": [
       "<div>\n",
       "<style scoped>\n",
       "    .dataframe tbody tr th:only-of-type {\n",
       "        vertical-align: middle;\n",
       "    }\n",
       "\n",
       "    .dataframe tbody tr th {\n",
       "        vertical-align: top;\n",
       "    }\n",
       "\n",
       "    .dataframe thead th {\n",
       "        text-align: right;\n",
       "    }\n",
       "</style>\n",
       "<table border=\"1\" class=\"dataframe\">\n",
       "  <thead>\n",
       "    <tr style=\"text-align: right;\">\n",
       "      <th></th>\n",
       "      <th>0</th>\n",
       "      <th>1</th>\n",
       "      <th>2</th>\n",
       "      <th>3</th>\n",
       "      <th>4</th>\n",
       "      <th>5</th>\n",
       "      <th>6</th>\n",
       "      <th>7</th>\n",
       "      <th>8</th>\n",
       "      <th>9</th>\n",
       "      <th>...</th>\n",
       "      <th>291</th>\n",
       "      <th>292</th>\n",
       "      <th>293</th>\n",
       "      <th>294</th>\n",
       "      <th>295</th>\n",
       "      <th>296</th>\n",
       "      <th>297</th>\n",
       "      <th>298</th>\n",
       "      <th>299</th>\n",
       "      <th>300</th>\n",
       "    </tr>\n",
       "  </thead>\n",
       "  <tbody>\n",
       "    <tr>\n",
       "      <th>cycle</th>\n",
       "      <td>0.00</td>\n",
       "      <td>1.000000</td>\n",
       "      <td>2.000000</td>\n",
       "      <td>3.000000</td>\n",
       "      <td>4.000000</td>\n",
       "      <td>5.000000</td>\n",
       "      <td>6.000000</td>\n",
       "      <td>7.000000</td>\n",
       "      <td>8.000000</td>\n",
       "      <td>9.000000</td>\n",
       "      <td>...</td>\n",
       "      <td>291.000000</td>\n",
       "      <td>292.000000</td>\n",
       "      <td>293.000000</td>\n",
       "      <td>294.000000</td>\n",
       "      <td>295.000000</td>\n",
       "      <td>296.000000</td>\n",
       "      <td>297.000000</td>\n",
       "      <td>298.000000</td>\n",
       "      <td>299.000000</td>\n",
       "      <td>300.000000</td>\n",
       "    </tr>\n",
       "    <tr>\n",
       "      <th>1_model_1</th>\n",
       "      <td>0.01</td>\n",
       "      <td>0.020575</td>\n",
       "      <td>0.040055</td>\n",
       "      <td>0.062291</td>\n",
       "      <td>0.066462</td>\n",
       "      <td>0.070591</td>\n",
       "      <td>0.074678</td>\n",
       "      <td>0.078725</td>\n",
       "      <td>0.082731</td>\n",
       "      <td>0.086697</td>\n",
       "      <td>...</td>\n",
       "      <td>0.164901</td>\n",
       "      <td>0.164924</td>\n",
       "      <td>0.164946</td>\n",
       "      <td>0.164968</td>\n",
       "      <td>0.164990</td>\n",
       "      <td>0.165012</td>\n",
       "      <td>0.165033</td>\n",
       "      <td>0.165054</td>\n",
       "      <td>0.165075</td>\n",
       "      <td>0.165096</td>\n",
       "    </tr>\n",
       "    <tr>\n",
       "      <th>1_model_2</th>\n",
       "      <td>0.01</td>\n",
       "      <td>0.039824</td>\n",
       "      <td>0.136673</td>\n",
       "      <td>0.292939</td>\n",
       "      <td>0.394236</td>\n",
       "      <td>0.401700</td>\n",
       "      <td>0.401338</td>\n",
       "      <td>0.400973</td>\n",
       "      <td>0.400611</td>\n",
       "      <td>0.400253</td>\n",
       "      <td>...</td>\n",
       "      <td>0.389235</td>\n",
       "      <td>0.389219</td>\n",
       "      <td>0.389204</td>\n",
       "      <td>0.389189</td>\n",
       "      <td>0.389174</td>\n",
       "      <td>0.389159</td>\n",
       "      <td>0.389144</td>\n",
       "      <td>0.389130</td>\n",
       "      <td>0.389115</td>\n",
       "      <td>0.389101</td>\n",
       "    </tr>\n",
       "    <tr>\n",
       "      <th>2_model_1</th>\n",
       "      <td>0.01</td>\n",
       "      <td>0.020575</td>\n",
       "      <td>0.037355</td>\n",
       "      <td>0.050504</td>\n",
       "      <td>0.054792</td>\n",
       "      <td>0.059037</td>\n",
       "      <td>0.063240</td>\n",
       "      <td>0.067401</td>\n",
       "      <td>0.071520</td>\n",
       "      <td>0.075598</td>\n",
       "      <td>...</td>\n",
       "      <td>0.160566</td>\n",
       "      <td>0.160594</td>\n",
       "      <td>0.160623</td>\n",
       "      <td>0.160651</td>\n",
       "      <td>0.160679</td>\n",
       "      <td>0.160707</td>\n",
       "      <td>0.160734</td>\n",
       "      <td>0.160761</td>\n",
       "      <td>0.160788</td>\n",
       "      <td>0.160814</td>\n",
       "    </tr>\n",
       "    <tr>\n",
       "      <th>2_model_3</th>\n",
       "      <td>0.01</td>\n",
       "      <td>0.027137</td>\n",
       "      <td>0.073640</td>\n",
       "      <td>0.139923</td>\n",
       "      <td>0.209135</td>\n",
       "      <td>0.304414</td>\n",
       "      <td>0.329879</td>\n",
       "      <td>0.331946</td>\n",
       "      <td>0.334128</td>\n",
       "      <td>0.336423</td>\n",
       "      <td>...</td>\n",
       "      <td>0.343486</td>\n",
       "      <td>0.343480</td>\n",
       "      <td>0.343474</td>\n",
       "      <td>0.343468</td>\n",
       "      <td>0.343462</td>\n",
       "      <td>0.343456</td>\n",
       "      <td>0.343450</td>\n",
       "      <td>0.343444</td>\n",
       "      <td>0.343438</td>\n",
       "      <td>0.343432</td>\n",
       "    </tr>\n",
       "  </tbody>\n",
       "</table>\n",
       "<p>5 rows × 301 columns</p>\n",
       "</div>"
      ],
      "text/plain": [
       "            0         1         2         3         4         5         6     \n",
       "cycle      0.00  1.000000  2.000000  3.000000  4.000000  5.000000  6.000000  \\\n",
       "1_model_1  0.01  0.020575  0.040055  0.062291  0.066462  0.070591  0.074678   \n",
       "1_model_2  0.01  0.039824  0.136673  0.292939  0.394236  0.401700  0.401338   \n",
       "2_model_1  0.01  0.020575  0.037355  0.050504  0.054792  0.059037  0.063240   \n",
       "2_model_3  0.01  0.027137  0.073640  0.139923  0.209135  0.304414  0.329879   \n",
       "\n",
       "                7         8         9    ...         291         292   \n",
       "cycle      7.000000  8.000000  9.000000  ...  291.000000  292.000000  \\\n",
       "1_model_1  0.078725  0.082731  0.086697  ...    0.164901    0.164924   \n",
       "1_model_2  0.400973  0.400611  0.400253  ...    0.389235    0.389219   \n",
       "2_model_1  0.067401  0.071520  0.075598  ...    0.160566    0.160594   \n",
       "2_model_3  0.331946  0.334128  0.336423  ...    0.343486    0.343480   \n",
       "\n",
       "                  293         294         295         296         297   \n",
       "cycle      293.000000  294.000000  295.000000  296.000000  297.000000  \\\n",
       "1_model_1    0.164946    0.164968    0.164990    0.165012    0.165033   \n",
       "1_model_2    0.389204    0.389189    0.389174    0.389159    0.389144   \n",
       "2_model_1    0.160623    0.160651    0.160679    0.160707    0.160734   \n",
       "2_model_3    0.343474    0.343468    0.343462    0.343456    0.343450   \n",
       "\n",
       "                  298         299         300  \n",
       "cycle      298.000000  299.000000  300.000000  \n",
       "1_model_1    0.165054    0.165075    0.165096  \n",
       "1_model_2    0.389130    0.389115    0.389101  \n",
       "2_model_1    0.160761    0.160788    0.160814  \n",
       "2_model_3    0.343444    0.343438    0.343432  \n",
       "\n",
       "[5 rows x 301 columns]"
      ]
     },
     "execution_count": 50,
     "metadata": {},
     "output_type": "execute_result"
    }
   ],
   "source": [
    "transposed_df = totbiomass_df.transpose()\n",
    "transposed_df.head()"
   ]
  },
  {
   "cell_type": "code",
   "execution_count": 52,
   "metadata": {},
   "outputs": [
    {
     "name": "stdout",
     "output_type": "stream",
     "text": [
      "<class 'pandas.core.frame.DataFrame'>\n",
      "Index: 381 entries, cycle to 190_model_20\n",
      "Columns: 301 entries, 0 to 300\n",
      "dtypes: float64(301)\n",
      "memory usage: 907.0+ KB\n"
     ]
    }
   ],
   "source": [
    "transposed_df.info()"
   ]
  },
  {
   "cell_type": "code",
   "execution_count": 49,
   "metadata": {},
   "outputs": [],
   "source": [
    "totbiomass_df.to_csv('biomass_data_20sp_pairwise_30hrs.csv', index=False)"
   ]
  },
  {
   "cell_type": "code",
   "execution_count": 15,
   "metadata": {},
   "outputs": [
    {
     "data": {
      "text/plain": [
       "{1: 'Actinomyces_odontolyticus_ATCC_17982',\n",
       " 2: 'Bacteroides_eggerthii_DSM_20697',\n",
       " 3: 'Bacteroides_ovatus_ATCC_8483',\n",
       " 4: 'Bacteroides_thetaiotaomicron_VPI_5482',\n",
       " 5: 'Bifidobacterium_longum_infantis_ATCC_15697',\n",
       " 6: 'Butyrivibrio_fibrisolvens_16_4',\n",
       " 7: 'Citrobacter_freundii_UCI_31',\n",
       " 8: 'Clostridium_butyricum_DSM_10702',\n",
       " 9: 'Escherichia_coli_O157_H7_str_Sakai',\n",
       " 10: 'Escherichia_coli_str_K_12_substr_MG1655',\n",
       " 11: 'Eubacterium_eligens_ATCC_27750',\n",
       " 12: 'Faecalibacterium_prausnitzii_M21_2',\n",
       " 13: 'Klebsiella_pneumoniae_pneumoniae_MGH78578',\n",
       " 14: 'Lactococcus_lactis_subsp_lactis_Il1403',\n",
       " 15: 'Listeria_grayi_DSM_20601',\n",
       " 16: 'Micrococcus_luteus_NCTC_2665',\n",
       " 17: 'Parabacteroides_merdae_ATCC_43184',\n",
       " 18: 'Ruminococcus_albus_7',\n",
       " 19: 'Serratia_liquefaciens_ATCC_27592',\n",
       " 20: 'Staphylococcus_epidermidis_ATCC_12228'}"
      ]
     },
     "execution_count": 15,
     "metadata": {},
     "output_type": "execute_result"
    }
   ],
   "source": [
    "models_meta"
   ]
  },
  {
   "cell_type": "markdown",
   "metadata": {},
   "source": [
    "# 20 x 20 communities\n",
    "\n",
    "\n"
   ]
  },
  {
   "cell_type": "markdown",
   "metadata": {},
   "source": [
    "## parameters"
   ]
  },
  {
   "cell_type": "code",
   "execution_count": 75,
   "metadata": {},
   "outputs": [],
   "source": [
    "# constant params\n",
    "com_params = c.params()\n",
    "\n",
    "initial_pop = 0.01  # Initial biomass of newly introduced species\n",
    "dilution_rate = 0.1  # Chemostat dilution rate\n",
    "\n",
    "#write output log\n",
    "com_params.set_param('writeFluxLog', True)\n",
    "com_params.set_param('writeMediaLog', True)\n",
    "com_params.set_param('writeBiomassLog', True)\n",
    "com_params.set_param('BiomassLogRate', 1)\n",
    "com_params.set_param('FluxLogRate', 40)\n",
    "com_params.set_param('MediaLogRate', 40) #check again\n",
    "\n",
    "#others\n",
    "dilution_rate = 0.1\n",
    "com_params.set_param('randomSeed', 33)\n",
    "com_params.set_param('deathRate', dilution_rate)\n",
    "com_params.set_param('metaboliteDilutionRate', dilution_rate)   \n",
    "com_params.set_param('batchDilution', False)\n",
    "com_params.set_param('defaultKm', 0.05)\n",
    "com_params.set_param('defaultVmax', 20)\n",
    "\n",
    "#time watch\n",
    "com_params.set_param('showCycleCount', True)\n",
    "com_params.set_param('showCycleTime', True)\n",
    "\n",
    "##community and time specific params\n",
    "#BiomassLogName\n",
    "#FluxLogName\n",
    "#MediaLogName\n",
    "#TotalBiomassLogName\n",
    "#TotalFluxLogName\n",
    "#TotalMediaLogName\n",
    "#maxCycles\n",
    "#timeStep\n",
    "#maxSpaceBiomass\n",
    "#spaceWidth"
   ]
  },
  {
   "cell_type": "markdown",
   "metadata": {},
   "source": [
    "The experiment: 20 assembly sequences. \n",
    "1. We start with a single species, picked randomly from the 100 species - update the diet and observe its growth for 4 hours.\n",
    "2. After 4 hours, we check the biomass equilibrium and the stability/productivity - species extinction, then add a new species(randomly sampled from the pool - the species should not be present in the resident community) and observe the community for 4 more hours.\n",
    "3. Repeat step 2 until we get to a community size or the number of invasions done reaches 20 - which is basically 3.3 days - 80 hours - so 800 timepoints.\n",
    "4.  The log files - for flux and media are to be updated once in 4 hours - before the invasions, while the biomass log file has to be updated every cycle. \n",
    "\n"
   ]
  },
  {
   "cell_type": "code",
   "execution_count": 242,
   "metadata": {},
   "outputs": [],
   "source": [
    "# Function to set up a COMETS model for each species\n",
    "def setup_comets_model(model, model_id, initial_pop):\n",
    "    comets_model = c.model(model)\n",
    "    comets_model.id = model_id\n",
    "    comets_model.initial_pop = [0, 0, initial_pop]  # x, y, gDW\n",
    "    comets_model.open_exchanges()\n",
    "    return comets_model\n",
    "\n",
    "# Function to set up the layout with diet and refresh rate\n",
    "def setup_layout(comets_models, diet_dict, dilution_rate):\n",
    "    layout = c.layout(comets_models)\n",
    "    for met in diet_dict:\n",
    "        metabolite = met + '[e]'\n",
    "        conc = diet_dict[met]\n",
    "        if metabolite in layout.media['metabolite'].values:\n",
    "            layout.set_specific_metabolite(metabolite, conc)\n",
    "    # Set media refresh rate (chemostat conditions)\n",
    "    for met in layout.media['metabolite']:\n",
    "        initconc = layout.media[layout.media['metabolite'] == met]['init_amount'].values[0]\n",
    "        refreshrate = initconc * dilution_rate\n",
    "        layout.set_specific_refresh(met, refreshrate)\n",
    "    return layout\n",
    "\n",
    "    \n",
    "def setup_invader_layout(invader_idx, diet_dict, prev_biomass_dict, dilution_rate, updated_diet_dict):\n",
    "    invader_cmodel = setup_comets_model(models[invader_idx], f'model{invader_idx}', initial_pop)\n",
    "    layout = c.layout([invader_cmodel])\n",
    "    for i in prev_biomass_dict:\n",
    "        sp_id = int(i[5:])\n",
    "        biomass = prev_biomass_dict[i]\n",
    "        comets_model = setup_comets_model(models[sp_id], i, biomass)\n",
    "        layout.add_model(comets_model)\n",
    "    for met in diet_dict:\n",
    "        metabolite = met + '[e]'\n",
    "        conc = diet_dict[met]\n",
    "        if metabolite in layout.media['metabolite'].values:\n",
    "            layout.set_specific_metabolite(metabolite, conc)\n",
    "    \n",
    "    # Update media according to previous simulation's results and set media refresh rate (chemostat conditions)\n",
    "    for met in layout.media['metabolite']:\n",
    "        if met in updated_diet_dict:\n",
    "            conc = updated_diet_dict[met]\n",
    "            layout.set_specific_metabolite(met, conc)\n",
    "        initconc = layout.media[layout.media['metabolite'] == met]['init_amount'].values[0]\n",
    "        refreshrate = initconc * dilution_rate\n",
    "        layout.set_specific_refresh(met, refreshrate)\n",
    "    return layout\n",
    "\n",
    "# Function to run simulation for a given layout and parameters\n",
    "def run_simulation(layout, params, seq_num):\n",
    "    params.set_param('BiomassLogName', f'biomass_log_seq{seq_num}')\n",
    "    params.set_param('FluxLogName', f'flux_log_seq{seq_num}')\n",
    "    params.set_param('MediaLogName', f'media_log_seq{seq_num}')\n",
    "    params.set_param('TotalBiomassLogName', f'total_biomass_log_seq{seq_num}')\n",
    "    params.set_param('maxCycles', 40)  # Simulate for 4 hours\n",
    "    params.set_param('timeStep', 0.1)\n",
    "    if seq_num <= 5:\n",
    "        params.set_param('maxSpaceBiomass', 10)\n",
    "        params.set_param('spaceWidth', 0.15)\n",
    "    if seq_num > 5 and seq_num <= 10:\n",
    "        params.set_param('maxSpaceBiomass', 20)\n",
    "        params.set_param('spaceWidth', 0.20)\n",
    "    else:\n",
    "        params.set_param('maxSpaceBiomass', 30)\n",
    "        params.set_param('spaceWidth', 0.25)\n",
    "\n",
    "    simulation = c.comets(layout, params)\n",
    "    simulation.run()\n",
    "\n",
    "    return simulation\n",
    "\n",
    "def get_new_species_index(biomass_dict):\n",
    "    sp_idx = list(range(1, 21))\n",
    "    # Remove species that are already present (non-zero biomass)\n",
    "    for i in biomass_dict:\n",
    "        if biomass_dict[i] != 0:\n",
    "            sp = int(i[5:])\n",
    "            sp_idx.remove(sp)\n",
    "    \n",
    "    # Select a random species from the remaining ones\n",
    "    ind = random.choice(sp_idx)\n",
    "    \n",
    "    return ind\n"
   ]
  },
  {
   "cell_type": "code",
   "execution_count": 284,
   "metadata": {},
   "outputs": [
    {
     "name": "stdout",
     "output_type": "stream",
     "text": [
      "Starting assembly sequence 1...\n",
      "\n",
      "\n",
      " ************************************ \n",
      "\n",
      "\n",
      "Starting sequence 1...\n",
      "\n",
      "Running COMETS simulation ...\n",
      "\n",
      "Debug Here ...\n",
      "Done!\n",
      "First species: 5 biomass: 0.33600762708\n",
      "First species simulation done!\n",
      "\n",
      "\n",
      " ************************************ \n",
      "\n",
      "\n",
      "Starting sequence 2...\n",
      "\n",
      "Adding species 7 to the community...\n",
      "\n",
      "Running COMETS simulation ...\n",
      "\n",
      "Debug Here ...\n",
      "Done!\n",
      "Simulation of sequence 2 done!\n",
      "\n",
      "\n",
      " ************************************ \n",
      "\n",
      "\n",
      "Starting sequence 3...\n",
      "\n",
      "Adding species 13 to the community...\n",
      "\n",
      "Running COMETS simulation ...\n",
      "\n",
      "Debug Here ...\n",
      "Done!\n",
      "Simulation of sequence 3 done!\n",
      "\n",
      "\n",
      " ************************************ \n",
      "\n",
      "\n",
      "Starting sequence 4...\n",
      "\n",
      "Adding species 8 to the community...\n",
      "\n",
      "Running COMETS simulation ...\n",
      "\n",
      "Debug Here ...\n",
      "Done!\n",
      "Simulation of sequence 4 done!\n",
      "\n",
      "\n",
      " ************************************ \n",
      "\n",
      "\n",
      "Starting sequence 5...\n",
      "\n",
      "Adding species 20 to the community...\n",
      "\n",
      "Running COMETS simulation ...\n",
      "\n",
      "Debug Here ...\n",
      "Done!\n",
      "Simulation of sequence 5 done!\n",
      "\n",
      "\n",
      " ************************************ \n",
      "\n",
      "\n",
      "Starting sequence 6...\n",
      "\n",
      "Adding species 17 to the community...\n",
      "\n",
      "Running COMETS simulation ...\n",
      "\n",
      "Debug Here ...\n",
      "Done!\n",
      "Simulation of sequence 6 done!\n",
      "\n",
      "\n",
      " ************************************ \n",
      "\n",
      "\n",
      "Starting sequence 7...\n",
      "\n",
      "Adding species 12 to the community...\n",
      "\n",
      "Running COMETS simulation ...\n",
      "\n",
      "Debug Here ...\n",
      "Done!\n",
      "Simulation of sequence 7 done!\n",
      "\n",
      "\n",
      " ************************************ \n",
      "\n",
      "\n",
      "Starting sequence 8...\n",
      "\n",
      "Adding species 18 to the community...\n",
      "\n",
      "Running COMETS simulation ...\n",
      "\n",
      "Debug Here ...\n",
      "Done!\n",
      "Simulation of sequence 8 done!\n",
      "\n",
      "\n",
      " ************************************ \n",
      "\n",
      "\n",
      "Starting sequence 9...\n",
      "\n",
      "Adding species 9 to the community...\n",
      "\n",
      "Running COMETS simulation ...\n",
      "\n",
      "Debug Here ...\n",
      "Done!\n",
      "Simulation of sequence 9 done!\n",
      "\n",
      "\n",
      " ************************************ \n",
      "\n",
      "\n",
      "Starting sequence 10...\n",
      "\n",
      "Adding species 4 to the community...\n",
      "\n",
      "Running COMETS simulation ...\n",
      "\n",
      "Debug Here ...\n",
      "Done!\n",
      "Simulation of sequence 10 done!\n",
      "\n",
      "\n",
      " ************************************ \n",
      "\n",
      "\n",
      "Assembly sequence 1 done!\n",
      "Starting assembly sequence 2...\n",
      "\n",
      "\n",
      " ************************************ \n",
      "\n",
      "\n",
      "Starting sequence 1...\n",
      "\n",
      "Running COMETS simulation ...\n",
      "\n",
      "Debug Here ...\n",
      "Done!\n",
      "First species: 15 biomass: 0.33600762708\n",
      "First species simulation done!\n",
      "\n",
      "\n",
      " ************************************ \n",
      "\n",
      "\n",
      "Starting sequence 2...\n",
      "\n",
      "Adding species 6 to the community...\n",
      "\n",
      "Running COMETS simulation ...\n",
      "\n",
      "Debug Here ...\n",
      "Done!\n",
      "Simulation of sequence 2 done!\n",
      "\n",
      "\n",
      " ************************************ \n",
      "\n",
      "\n",
      "Starting sequence 3...\n",
      "\n",
      "Adding species 14 to the community...\n",
      "\n",
      "Running COMETS simulation ...\n",
      "\n",
      "Debug Here ...\n",
      "Done!\n",
      "Simulation of sequence 3 done!\n",
      "\n",
      "\n",
      " ************************************ \n",
      "\n",
      "\n",
      "Starting sequence 4...\n",
      "\n",
      "Adding species 20 to the community...\n",
      "\n",
      "Running COMETS simulation ...\n",
      "\n",
      "Debug Here ...\n",
      "Done!\n",
      "Simulation of sequence 4 done!\n",
      "\n",
      "\n",
      " ************************************ \n",
      "\n",
      "\n",
      "Starting sequence 5...\n",
      "\n",
      "Adding species 3 to the community...\n",
      "\n",
      "Running COMETS simulation ...\n",
      "\n",
      "Debug Here ...\n",
      "Done!\n",
      "Simulation of sequence 5 done!\n",
      "\n",
      "\n",
      " ************************************ \n",
      "\n",
      "\n",
      "Starting sequence 6...\n",
      "\n",
      "Adding species 19 to the community...\n",
      "\n",
      "Running COMETS simulation ...\n",
      "\n",
      "Debug Here ...\n",
      "Done!\n",
      "Simulation of sequence 6 done!\n",
      "\n",
      "\n",
      " ************************************ \n",
      "\n",
      "\n",
      "Starting sequence 7...\n",
      "\n",
      "Adding species 17 to the community...\n",
      "\n",
      "Running COMETS simulation ...\n",
      "\n",
      "Debug Here ...\n",
      "Done!\n",
      "Simulation of sequence 7 done!\n",
      "\n",
      "\n",
      " ************************************ \n",
      "\n",
      "\n",
      "Starting sequence 8...\n",
      "\n",
      "Adding species 9 to the community...\n",
      "\n",
      "Running COMETS simulation ...\n",
      "\n",
      "Debug Here ...\n",
      "Done!\n",
      "Simulation of sequence 8 done!\n",
      "\n",
      "\n",
      " ************************************ \n",
      "\n",
      "\n",
      "Starting sequence 9...\n",
      "\n",
      "Adding species 11 to the community...\n",
      "\n",
      "Running COMETS simulation ...\n",
      "\n",
      "Debug Here ...\n",
      "Done!\n",
      "Simulation of sequence 9 done!\n",
      "\n",
      "\n",
      " ************************************ \n",
      "\n",
      "\n",
      "Starting sequence 10...\n",
      "\n",
      "Adding species 2 to the community...\n",
      "\n",
      "Running COMETS simulation ...\n",
      "\n",
      "Debug Here ...\n",
      "Done!\n",
      "Simulation of sequence 10 done!\n",
      "\n",
      "\n",
      " ************************************ \n",
      "\n",
      "\n",
      "Assembly sequence 2 done!\n",
      "Starting assembly sequence 3...\n",
      "\n",
      "\n",
      " ************************************ \n",
      "\n",
      "\n",
      "Starting sequence 1...\n",
      "\n",
      "Running COMETS simulation ...\n",
      "\n",
      "Debug Here ...\n",
      "Done!\n",
      "First species: 2 biomass: 0.33600762708\n",
      "First species simulation done!\n",
      "\n",
      "\n",
      " ************************************ \n",
      "\n",
      "\n",
      "Starting sequence 2...\n",
      "\n",
      "Adding species 14 to the community...\n",
      "\n",
      "Running COMETS simulation ...\n",
      "\n",
      "Debug Here ...\n",
      "Done!\n",
      "Simulation of sequence 2 done!\n",
      "\n",
      "\n",
      " ************************************ \n",
      "\n",
      "\n",
      "Starting sequence 3...\n",
      "\n",
      "Adding species 5 to the community...\n",
      "\n",
      "Running COMETS simulation ...\n",
      "\n",
      "Debug Here ...\n",
      "Done!\n",
      "Simulation of sequence 3 done!\n",
      "\n",
      "\n",
      " ************************************ \n",
      "\n",
      "\n",
      "Starting sequence 4...\n",
      "\n",
      "Adding species 15 to the community...\n",
      "\n",
      "Running COMETS simulation ...\n",
      "\n",
      "Debug Here ...\n",
      "Done!\n",
      "Simulation of sequence 4 done!\n",
      "\n",
      "\n",
      " ************************************ \n",
      "\n",
      "\n",
      "Starting sequence 5...\n",
      "\n",
      "Adding species 12 to the community...\n",
      "\n",
      "Running COMETS simulation ...\n",
      "\n",
      "Debug Here ...\n",
      "Done!\n",
      "Simulation of sequence 5 done!\n",
      "\n",
      "\n",
      " ************************************ \n",
      "\n",
      "\n",
      "Starting sequence 6...\n",
      "\n",
      "Adding species 9 to the community...\n",
      "\n",
      "Running COMETS simulation ...\n",
      "\n",
      "Debug Here ...\n",
      "Done!\n",
      "Simulation of sequence 6 done!\n",
      "\n",
      "\n",
      " ************************************ \n",
      "\n",
      "\n",
      "Starting sequence 7...\n",
      "\n",
      "Adding species 13 to the community...\n",
      "\n",
      "Running COMETS simulation ...\n",
      "\n",
      "Debug Here ...\n",
      "Done!\n",
      "Simulation of sequence 7 done!\n",
      "\n",
      "\n",
      " ************************************ \n",
      "\n",
      "\n",
      "Starting sequence 8...\n",
      "\n",
      "Adding species 18 to the community...\n",
      "\n",
      "Running COMETS simulation ...\n",
      "\n",
      "Debug Here ...\n",
      "Done!\n",
      "Simulation of sequence 8 done!\n",
      "\n",
      "\n",
      " ************************************ \n",
      "\n",
      "\n",
      "Starting sequence 9...\n",
      "\n",
      "Adding species 8 to the community...\n",
      "\n",
      "Running COMETS simulation ...\n",
      "\n",
      "Debug Here ...\n",
      "Done!\n",
      "Simulation of sequence 9 done!\n",
      "\n",
      "\n",
      " ************************************ \n",
      "\n",
      "\n",
      "Starting sequence 10...\n",
      "\n",
      "Adding species 11 to the community...\n",
      "\n",
      "Running COMETS simulation ...\n",
      "\n",
      "Debug Here ...\n",
      "Done!\n",
      "Simulation of sequence 10 done!\n",
      "\n",
      "\n",
      " ************************************ \n",
      "\n",
      "\n",
      "Assembly sequence 3 done!\n",
      "Starting assembly sequence 4...\n",
      "\n",
      "\n",
      " ************************************ \n",
      "\n",
      "\n",
      "Starting sequence 1...\n",
      "\n",
      "Running COMETS simulation ...\n",
      "\n",
      "Debug Here ...\n",
      "Done!\n",
      "First species: 4 biomass: 0.33600762708\n",
      "First species simulation done!\n",
      "\n",
      "\n",
      " ************************************ \n",
      "\n",
      "\n",
      "Starting sequence 2...\n",
      "\n",
      "Adding species 8 to the community...\n",
      "\n",
      "Running COMETS simulation ...\n",
      "\n",
      "Debug Here ...\n",
      "Done!\n",
      "Simulation of sequence 2 done!\n",
      "\n",
      "\n",
      " ************************************ \n",
      "\n",
      "\n",
      "Starting sequence 3...\n",
      "\n",
      "Adding species 16 to the community...\n",
      "\n",
      "Running COMETS simulation ...\n",
      "\n",
      "Debug Here ...\n",
      "Done!\n",
      "Simulation of sequence 3 done!\n",
      "\n",
      "\n",
      " ************************************ \n",
      "\n",
      "\n",
      "Starting sequence 4...\n",
      "\n",
      "Adding species 12 to the community...\n",
      "\n",
      "Running COMETS simulation ...\n",
      "\n",
      "Debug Here ...\n",
      "Done!\n",
      "Simulation of sequence 4 done!\n",
      "\n",
      "\n",
      " ************************************ \n",
      "\n",
      "\n",
      "Starting sequence 5...\n",
      "\n",
      "Adding species 19 to the community...\n",
      "\n",
      "Running COMETS simulation ...\n",
      "\n",
      "Debug Here ...\n",
      "Done!\n",
      "Simulation of sequence 5 done!\n",
      "\n",
      "\n",
      " ************************************ \n",
      "\n",
      "\n",
      "Starting sequence 6...\n",
      "\n",
      "Adding species 9 to the community...\n",
      "\n",
      "Running COMETS simulation ...\n",
      "\n",
      "Debug Here ...\n",
      "Done!\n",
      "Simulation of sequence 6 done!\n",
      "\n",
      "\n",
      " ************************************ \n",
      "\n",
      "\n",
      "Starting sequence 7...\n",
      "\n",
      "Adding species 2 to the community...\n",
      "\n",
      "Running COMETS simulation ...\n",
      "\n",
      "Debug Here ...\n",
      "Done!\n",
      "Simulation of sequence 7 done!\n",
      "\n",
      "\n",
      " ************************************ \n",
      "\n",
      "\n",
      "Starting sequence 8...\n",
      "\n",
      "Adding species 3 to the community...\n",
      "\n",
      "Running COMETS simulation ...\n",
      "\n",
      "Debug Here ...\n",
      "Done!\n",
      "Simulation of sequence 8 done!\n",
      "\n",
      "\n",
      " ************************************ \n",
      "\n",
      "\n",
      "Starting sequence 9...\n",
      "\n",
      "Adding species 15 to the community...\n",
      "\n",
      "Running COMETS simulation ...\n",
      "\n",
      "Debug Here ...\n",
      "Done!\n",
      "Simulation of sequence 9 done!\n",
      "\n",
      "\n",
      " ************************************ \n",
      "\n",
      "\n",
      "Starting sequence 10...\n",
      "\n",
      "Adding species 6 to the community...\n",
      "\n",
      "Running COMETS simulation ...\n",
      "\n",
      "Debug Here ...\n",
      "Done!\n",
      "Simulation of sequence 10 done!\n",
      "\n",
      "\n",
      " ************************************ \n",
      "\n",
      "\n",
      "Assembly sequence 4 done!\n",
      "Starting assembly sequence 5...\n",
      "\n",
      "\n",
      " ************************************ \n",
      "\n",
      "\n",
      "Starting sequence 1...\n",
      "\n",
      "Running COMETS simulation ...\n",
      "\n",
      "Debug Here ...\n",
      "Done!\n",
      "First species: 4 biomass: 0.33600762708\n",
      "First species simulation done!\n",
      "\n",
      "\n",
      " ************************************ \n",
      "\n",
      "\n",
      "Starting sequence 2...\n",
      "\n",
      "Adding species 16 to the community...\n",
      "\n",
      "Running COMETS simulation ...\n",
      "\n",
      "Debug Here ...\n",
      "Done!\n",
      "Simulation of sequence 2 done!\n",
      "\n",
      "\n",
      " ************************************ \n",
      "\n",
      "\n",
      "Starting sequence 3...\n",
      "\n",
      "Adding species 10 to the community...\n",
      "\n",
      "Running COMETS simulation ...\n",
      "\n",
      "Debug Here ...\n",
      "Done!\n",
      "Simulation of sequence 3 done!\n",
      "\n",
      "\n",
      " ************************************ \n",
      "\n",
      "\n",
      "Starting sequence 4...\n",
      "\n",
      "Adding species 13 to the community...\n",
      "\n",
      "Running COMETS simulation ...\n",
      "\n",
      "Debug Here ...\n",
      "Done!\n",
      "Simulation of sequence 4 done!\n",
      "\n",
      "\n",
      " ************************************ \n",
      "\n",
      "\n",
      "Starting sequence 5...\n",
      "\n",
      "Adding species 6 to the community...\n",
      "\n",
      "Running COMETS simulation ...\n",
      "\n",
      "Debug Here ...\n",
      "Done!\n",
      "Simulation of sequence 5 done!\n",
      "\n",
      "\n",
      " ************************************ \n",
      "\n",
      "\n",
      "Starting sequence 6...\n",
      "\n",
      "Adding species 11 to the community...\n",
      "\n",
      "Running COMETS simulation ...\n",
      "\n",
      "Debug Here ...\n",
      "Done!\n",
      "Simulation of sequence 6 done!\n",
      "\n",
      "\n",
      " ************************************ \n",
      "\n",
      "\n",
      "Starting sequence 7...\n",
      "\n",
      "Adding species 15 to the community...\n",
      "\n",
      "Running COMETS simulation ...\n",
      "\n",
      "Debug Here ...\n",
      "Done!\n",
      "Simulation of sequence 7 done!\n",
      "\n",
      "\n",
      " ************************************ \n",
      "\n",
      "\n",
      "Starting sequence 8...\n",
      "\n",
      "Adding species 1 to the community...\n",
      "\n",
      "Running COMETS simulation ...\n",
      "\n",
      "Debug Here ...\n",
      "Done!\n",
      "Simulation of sequence 8 done!\n",
      "\n",
      "\n",
      " ************************************ \n",
      "\n",
      "\n",
      "Starting sequence 9...\n",
      "\n",
      "Adding species 8 to the community...\n",
      "\n",
      "Running COMETS simulation ...\n",
      "\n",
      "Debug Here ...\n",
      "Done!\n",
      "Simulation of sequence 9 done!\n",
      "\n",
      "\n",
      " ************************************ \n",
      "\n",
      "\n",
      "Starting sequence 10...\n",
      "\n",
      "Adding species 14 to the community...\n",
      "\n",
      "Running COMETS simulation ...\n",
      "\n",
      "Debug Here ...\n",
      "Done!\n",
      "Simulation of sequence 10 done!\n",
      "\n",
      "\n",
      " ************************************ \n",
      "\n",
      "\n",
      "Assembly sequence 5 done!\n",
      "Starting assembly sequence 6...\n",
      "\n",
      "\n",
      " ************************************ \n",
      "\n",
      "\n",
      "Starting sequence 1...\n",
      "\n",
      "Running COMETS simulation ...\n",
      "\n",
      "Debug Here ...\n",
      "Done!\n",
      "First species: 2 biomass: 0.33600762708\n",
      "First species simulation done!\n",
      "\n",
      "\n",
      " ************************************ \n",
      "\n",
      "\n",
      "Starting sequence 2...\n",
      "\n",
      "Adding species 1 to the community...\n",
      "\n",
      "Running COMETS simulation ...\n",
      "\n",
      "Debug Here ...\n",
      "Done!\n",
      "Simulation of sequence 2 done!\n",
      "\n",
      "\n",
      " ************************************ \n",
      "\n",
      "\n",
      "Starting sequence 3...\n",
      "\n",
      "Adding species 7 to the community...\n",
      "\n",
      "Running COMETS simulation ...\n",
      "\n",
      "Debug Here ...\n",
      "Done!\n",
      "Simulation of sequence 3 done!\n",
      "\n",
      "\n",
      " ************************************ \n",
      "\n",
      "\n",
      "Starting sequence 4...\n",
      "\n",
      "Adding species 13 to the community...\n",
      "\n",
      "Running COMETS simulation ...\n",
      "\n",
      "Debug Here ...\n",
      "Done!\n",
      "Simulation of sequence 4 done!\n",
      "\n",
      "\n",
      " ************************************ \n",
      "\n",
      "\n",
      "Starting sequence 5...\n",
      "\n",
      "Adding species 19 to the community...\n",
      "\n",
      "Running COMETS simulation ...\n",
      "\n",
      "Debug Here ...\n",
      "Done!\n",
      "Simulation of sequence 5 done!\n",
      "\n",
      "\n",
      " ************************************ \n",
      "\n",
      "\n",
      "Starting sequence 6...\n",
      "\n",
      "Adding species 14 to the community...\n",
      "\n",
      "Running COMETS simulation ...\n",
      "\n",
      "Debug Here ...\n",
      "Done!\n",
      "Simulation of sequence 6 done!\n",
      "\n",
      "\n",
      " ************************************ \n",
      "\n",
      "\n",
      "Starting sequence 7...\n",
      "\n",
      "Adding species 6 to the community...\n",
      "\n",
      "Running COMETS simulation ...\n",
      "\n",
      "Debug Here ...\n",
      "Done!\n",
      "Simulation of sequence 7 done!\n",
      "\n",
      "\n",
      " ************************************ \n",
      "\n",
      "\n",
      "Starting sequence 8...\n",
      "\n",
      "Adding species 12 to the community...\n",
      "\n",
      "Running COMETS simulation ...\n",
      "\n",
      "Debug Here ...\n",
      "Done!\n",
      "Simulation of sequence 8 done!\n",
      "\n",
      "\n",
      " ************************************ \n",
      "\n",
      "\n",
      "Starting sequence 9...\n",
      "\n",
      "Adding species 8 to the community...\n",
      "\n",
      "Running COMETS simulation ...\n",
      "\n",
      "Debug Here ...\n",
      "Done!\n",
      "Simulation of sequence 9 done!\n",
      "\n",
      "\n",
      " ************************************ \n",
      "\n",
      "\n",
      "Starting sequence 10...\n",
      "\n",
      "Adding species 5 to the community...\n",
      "\n",
      "Running COMETS simulation ...\n",
      "\n",
      "Debug Here ...\n",
      "Done!\n",
      "Simulation of sequence 10 done!\n",
      "\n",
      "\n",
      " ************************************ \n",
      "\n",
      "\n",
      "Assembly sequence 6 done!\n",
      "Starting assembly sequence 7...\n",
      "\n",
      "\n",
      " ************************************ \n",
      "\n",
      "\n",
      "Starting sequence 1...\n",
      "\n",
      "Running COMETS simulation ...\n",
      "\n",
      "Debug Here ...\n",
      "Done!\n",
      "First species: 20 biomass: 0.33600762708\n",
      "First species simulation done!\n",
      "\n",
      "\n",
      " ************************************ \n",
      "\n",
      "\n",
      "Starting sequence 2...\n",
      "\n",
      "Adding species 7 to the community...\n",
      "\n",
      "Running COMETS simulation ...\n",
      "\n",
      "Debug Here ...\n",
      "Done!\n",
      "Simulation of sequence 2 done!\n",
      "\n",
      "\n",
      " ************************************ \n",
      "\n",
      "\n",
      "Starting sequence 3...\n",
      "\n",
      "Adding species 6 to the community...\n",
      "\n",
      "Running COMETS simulation ...\n",
      "\n",
      "Debug Here ...\n",
      "Done!\n",
      "Simulation of sequence 3 done!\n",
      "\n",
      "\n",
      " ************************************ \n",
      "\n",
      "\n",
      "Starting sequence 4...\n",
      "\n",
      "Adding species 5 to the community...\n",
      "\n",
      "Running COMETS simulation ...\n",
      "\n",
      "Debug Here ...\n",
      "Done!\n",
      "Simulation of sequence 4 done!\n",
      "\n",
      "\n",
      " ************************************ \n",
      "\n",
      "\n",
      "Starting sequence 5...\n",
      "\n",
      "Adding species 13 to the community...\n",
      "\n",
      "Running COMETS simulation ...\n",
      "\n",
      "Debug Here ...\n",
      "Done!\n",
      "Simulation of sequence 5 done!\n",
      "\n",
      "\n",
      " ************************************ \n",
      "\n",
      "\n",
      "Starting sequence 6...\n",
      "\n",
      "Adding species 16 to the community...\n",
      "\n",
      "Running COMETS simulation ...\n",
      "\n",
      "Debug Here ...\n",
      "Done!\n",
      "Simulation of sequence 6 done!\n",
      "\n",
      "\n",
      " ************************************ \n",
      "\n",
      "\n",
      "Starting sequence 7...\n",
      "\n",
      "Adding species 14 to the community...\n",
      "\n",
      "Running COMETS simulation ...\n",
      "\n",
      "Debug Here ...\n",
      "Done!\n",
      "Simulation of sequence 7 done!\n",
      "\n",
      "\n",
      " ************************************ \n",
      "\n",
      "\n",
      "Starting sequence 8...\n",
      "\n",
      "Adding species 18 to the community...\n",
      "\n",
      "Running COMETS simulation ...\n",
      "\n",
      "Debug Here ...\n",
      "Done!\n",
      "Simulation of sequence 8 done!\n",
      "\n",
      "\n",
      " ************************************ \n",
      "\n",
      "\n",
      "Starting sequence 9...\n",
      "\n",
      "Adding species 2 to the community...\n",
      "\n",
      "Running COMETS simulation ...\n",
      "\n",
      "Debug Here ...\n",
      "Done!\n",
      "Simulation of sequence 9 done!\n",
      "\n",
      "\n",
      " ************************************ \n",
      "\n",
      "\n",
      "Starting sequence 10...\n",
      "\n",
      "Adding species 9 to the community...\n",
      "\n",
      "Running COMETS simulation ...\n",
      "\n",
      "Debug Here ...\n",
      "Done!\n",
      "Simulation of sequence 10 done!\n",
      "\n",
      "\n",
      " ************************************ \n",
      "\n",
      "\n",
      "Assembly sequence 7 done!\n",
      "Starting assembly sequence 8...\n",
      "\n",
      "\n",
      " ************************************ \n",
      "\n",
      "\n",
      "Starting sequence 1...\n",
      "\n",
      "Running COMETS simulation ...\n",
      "\n",
      "Debug Here ...\n",
      "Done!\n",
      "First species: 20 biomass: 0.33600762708\n",
      "First species simulation done!\n",
      "\n",
      "\n",
      " ************************************ \n",
      "\n",
      "\n",
      "Starting sequence 2...\n",
      "\n",
      "Adding species 2 to the community...\n",
      "\n",
      "Running COMETS simulation ...\n",
      "\n",
      "Debug Here ...\n",
      "Done!\n",
      "Simulation of sequence 2 done!\n",
      "\n",
      "\n",
      " ************************************ \n",
      "\n",
      "\n",
      "Starting sequence 3...\n",
      "\n",
      "Adding species 11 to the community...\n",
      "\n",
      "Running COMETS simulation ...\n",
      "\n",
      "Debug Here ...\n",
      "Done!\n",
      "Simulation of sequence 3 done!\n",
      "\n",
      "\n",
      " ************************************ \n",
      "\n",
      "\n",
      "Starting sequence 4...\n",
      "\n",
      "Adding species 5 to the community...\n",
      "\n",
      "Running COMETS simulation ...\n",
      "\n",
      "Debug Here ...\n",
      "Done!\n",
      "Simulation of sequence 4 done!\n",
      "\n",
      "\n",
      " ************************************ \n",
      "\n",
      "\n",
      "Starting sequence 5...\n",
      "\n",
      "Adding species 12 to the community...\n",
      "\n",
      "Running COMETS simulation ...\n",
      "\n",
      "Debug Here ...\n",
      "Done!\n",
      "Simulation of sequence 5 done!\n",
      "\n",
      "\n",
      " ************************************ \n",
      "\n",
      "\n",
      "Starting sequence 6...\n",
      "\n",
      "Adding species 8 to the community...\n",
      "\n",
      "Running COMETS simulation ...\n",
      "\n",
      "Debug Here ...\n",
      "Done!\n",
      "Simulation of sequence 6 done!\n",
      "\n",
      "\n",
      " ************************************ \n",
      "\n",
      "\n",
      "Starting sequence 7...\n",
      "\n",
      "Adding species 18 to the community...\n",
      "\n",
      "Running COMETS simulation ...\n",
      "\n",
      "Debug Here ...\n",
      "Done!\n",
      "Simulation of sequence 7 done!\n",
      "\n",
      "\n",
      " ************************************ \n",
      "\n",
      "\n",
      "Starting sequence 8...\n",
      "\n",
      "Adding species 1 to the community...\n",
      "\n",
      "Running COMETS simulation ...\n",
      "\n",
      "Debug Here ...\n",
      "Done!\n",
      "Simulation of sequence 8 done!\n",
      "\n",
      "\n",
      " ************************************ \n",
      "\n",
      "\n",
      "Starting sequence 9...\n",
      "\n",
      "Adding species 6 to the community...\n",
      "\n",
      "Running COMETS simulation ...\n",
      "\n",
      "Debug Here ...\n",
      "Done!\n",
      "Simulation of sequence 9 done!\n",
      "\n",
      "\n",
      " ************************************ \n",
      "\n",
      "\n",
      "Starting sequence 10...\n",
      "\n",
      "Adding species 17 to the community...\n",
      "\n",
      "Running COMETS simulation ...\n",
      "\n",
      "Debug Here ...\n",
      "Done!\n",
      "Simulation of sequence 10 done!\n",
      "\n",
      "\n",
      " ************************************ \n",
      "\n",
      "\n",
      "Assembly sequence 8 done!\n",
      "Starting assembly sequence 9...\n",
      "\n",
      "\n",
      " ************************************ \n",
      "\n",
      "\n",
      "Starting sequence 1...\n",
      "\n",
      "Running COMETS simulation ...\n",
      "\n",
      "Debug Here ...\n",
      "Done!\n",
      "First species: 4 biomass: 0.33600762708\n",
      "First species simulation done!\n",
      "\n",
      "\n",
      " ************************************ \n",
      "\n",
      "\n",
      "Starting sequence 2...\n",
      "\n",
      "Adding species 7 to the community...\n",
      "\n",
      "Running COMETS simulation ...\n",
      "\n",
      "Debug Here ...\n",
      "Done!\n",
      "Simulation of sequence 2 done!\n",
      "\n",
      "\n",
      " ************************************ \n",
      "\n",
      "\n",
      "Starting sequence 3...\n",
      "\n",
      "Adding species 16 to the community...\n",
      "\n",
      "Running COMETS simulation ...\n",
      "\n",
      "Debug Here ...\n",
      "Done!\n",
      "Simulation of sequence 3 done!\n",
      "\n",
      "\n",
      " ************************************ \n",
      "\n",
      "\n",
      "Starting sequence 4...\n",
      "\n",
      "Adding species 9 to the community...\n",
      "\n",
      "Running COMETS simulation ...\n",
      "\n",
      "Debug Here ...\n",
      "Done!\n",
      "Simulation of sequence 4 done!\n",
      "\n",
      "\n",
      " ************************************ \n",
      "\n",
      "\n",
      "Starting sequence 5...\n",
      "\n",
      "Adding species 15 to the community...\n",
      "\n",
      "Running COMETS simulation ...\n",
      "\n",
      "Debug Here ...\n",
      "Done!\n",
      "Simulation of sequence 5 done!\n",
      "\n",
      "\n",
      " ************************************ \n",
      "\n",
      "\n",
      "Starting sequence 6...\n",
      "\n",
      "Adding species 2 to the community...\n",
      "\n",
      "Running COMETS simulation ...\n",
      "\n",
      "Debug Here ...\n",
      "Done!\n",
      "Simulation of sequence 6 done!\n",
      "\n",
      "\n",
      " ************************************ \n",
      "\n",
      "\n",
      "Starting sequence 7...\n",
      "\n",
      "Adding species 19 to the community...\n",
      "\n",
      "Running COMETS simulation ...\n",
      "\n",
      "Debug Here ...\n",
      "Done!\n",
      "Simulation of sequence 7 done!\n",
      "\n",
      "\n",
      " ************************************ \n",
      "\n",
      "\n",
      "Starting sequence 8...\n",
      "\n",
      "Adding species 3 to the community...\n",
      "\n",
      "Running COMETS simulation ...\n",
      "\n",
      "Debug Here ...\n",
      "Done!\n",
      "Simulation of sequence 8 done!\n",
      "\n",
      "\n",
      " ************************************ \n",
      "\n",
      "\n",
      "Starting sequence 9...\n",
      "\n",
      "Adding species 11 to the community...\n",
      "\n",
      "Running COMETS simulation ...\n",
      "\n",
      "Debug Here ...\n",
      "Done!\n",
      "Simulation of sequence 9 done!\n",
      "\n",
      "\n",
      " ************************************ \n",
      "\n",
      "\n",
      "Starting sequence 10...\n",
      "\n",
      "Adding species 14 to the community...\n",
      "\n",
      "Running COMETS simulation ...\n",
      "\n",
      "Debug Here ...\n",
      "Done!\n",
      "Simulation of sequence 10 done!\n",
      "\n",
      "\n",
      " ************************************ \n",
      "\n",
      "\n",
      "Assembly sequence 9 done!\n",
      "Starting assembly sequence 10...\n",
      "\n",
      "\n",
      " ************************************ \n",
      "\n",
      "\n",
      "Starting sequence 1...\n",
      "\n",
      "Running COMETS simulation ...\n",
      "\n",
      "Debug Here ...\n",
      "Done!\n",
      "First species: 1 biomass: 0.33600762708\n",
      "First species simulation done!\n",
      "\n",
      "\n",
      " ************************************ \n",
      "\n",
      "\n",
      "Starting sequence 2...\n",
      "\n",
      "Adding species 13 to the community...\n",
      "\n",
      "Running COMETS simulation ...\n",
      "\n",
      "Debug Here ...\n",
      "Done!\n",
      "Simulation of sequence 2 done!\n",
      "\n",
      "\n",
      " ************************************ \n",
      "\n",
      "\n",
      "Starting sequence 3...\n",
      "\n",
      "Adding species 10 to the community...\n",
      "\n",
      "Running COMETS simulation ...\n",
      "\n",
      "Debug Here ...\n",
      "Done!\n",
      "Simulation of sequence 3 done!\n",
      "\n",
      "\n",
      " ************************************ \n",
      "\n",
      "\n",
      "Starting sequence 4...\n",
      "\n",
      "Adding species 2 to the community...\n",
      "\n",
      "Running COMETS simulation ...\n",
      "\n",
      "Debug Here ...\n",
      "Done!\n",
      "Simulation of sequence 4 done!\n",
      "\n",
      "\n",
      " ************************************ \n",
      "\n",
      "\n",
      "Starting sequence 5...\n",
      "\n",
      "Adding species 14 to the community...\n",
      "\n",
      "Running COMETS simulation ...\n",
      "\n",
      "Debug Here ...\n",
      "Done!\n",
      "Simulation of sequence 5 done!\n",
      "\n",
      "\n",
      " ************************************ \n",
      "\n",
      "\n",
      "Starting sequence 6...\n",
      "\n",
      "Adding species 20 to the community...\n",
      "\n",
      "Running COMETS simulation ...\n",
      "\n",
      "Debug Here ...\n",
      "Done!\n",
      "Simulation of sequence 6 done!\n",
      "\n",
      "\n",
      " ************************************ \n",
      "\n",
      "\n",
      "Starting sequence 7...\n",
      "\n",
      "Adding species 15 to the community...\n",
      "\n",
      "Running COMETS simulation ...\n",
      "\n",
      "Debug Here ...\n",
      "Done!\n",
      "Simulation of sequence 7 done!\n",
      "\n",
      "\n",
      " ************************************ \n",
      "\n",
      "\n",
      "Starting sequence 8...\n",
      "\n",
      "Adding species 17 to the community...\n",
      "\n",
      "Running COMETS simulation ...\n",
      "\n",
      "Debug Here ...\n",
      "Done!\n",
      "Simulation of sequence 8 done!\n",
      "\n",
      "\n",
      " ************************************ \n",
      "\n",
      "\n",
      "Starting sequence 9...\n",
      "\n",
      "Adding species 19 to the community...\n",
      "\n",
      "Running COMETS simulation ...\n",
      "\n",
      "Debug Here ...\n",
      "Done!\n",
      "Simulation of sequence 9 done!\n",
      "\n",
      "\n",
      " ************************************ \n",
      "\n",
      "\n",
      "Starting sequence 10...\n",
      "\n",
      "Adding species 8 to the community...\n",
      "\n",
      "Running COMETS simulation ...\n",
      "\n",
      "Debug Here ...\n",
      "Done!\n",
      "Simulation of sequence 10 done!\n",
      "\n",
      "\n",
      " ************************************ \n",
      "\n",
      "\n",
      "Assembly sequence 10 done!\n",
      "All simulations done!\n"
     ]
    }
   ],
   "source": [
    "# Parameters\n",
    "\n",
    "# constant params\n",
    "com_params = c.params()\n",
    "\n",
    "initial_pop = 0.01  # Initial biomass of newly introduced species\n",
    "dilution_rate = 0.1  # Chemostat dilution rate\n",
    "\n",
    "#write output log\n",
    "com_params.set_param('writeFluxLog', True)\n",
    "com_params.set_param('writeMediaLog', True)\n",
    "com_params.set_param('writeBiomassLog', True)\n",
    "com_params.set_param('BiomassLogRate', 1)\n",
    "com_params.set_param('FluxLogRate', 40)\n",
    "com_params.set_param('MediaLogRate', 40) #check again\n",
    "\n",
    "#others\n",
    "dilution_rate = 0.1\n",
    "com_params.set_param('randomSeed', 33)\n",
    "com_params.set_param('deathRate', dilution_rate)\n",
    "com_params.set_param('metaboliteDilutionRate', dilution_rate)   \n",
    "com_params.set_param('batchDilution', False)\n",
    "com_params.set_param('defaultKm', 0.05)\n",
    "com_params.set_param('defaultVmax', 20)\n",
    "\n",
    "#time watch\n",
    "com_params.set_param('showCycleCount', True)\n",
    "com_params.set_param('showCycleTime', True)\n",
    "\n",
    "##community and time specific params\n",
    "#BiomassLogName\n",
    "#FluxLogName\n",
    "#MediaLogName\n",
    "#TotalBiomassLogName\n",
    "#TotalFluxLogName\n",
    "#TotalMediaLogName\n",
    "#maxCycles\n",
    "#timeStep\n",
    "#maxSpaceBiomass\n",
    "#spaceWidth\n",
    "\n",
    "# Sequential assembly experiment\n",
    "species_pool_count = 20  # Total number of species in the pool\n",
    "max_community_size = 10  #20  # Max community size\n",
    "\n",
    "for assembly_seq in range(1, 11): # number of replicates\n",
    "    sp_id_list = []\n",
    "    biomass_dict = {}\n",
    "    simulation_dict = {}\n",
    "    biomass_df = pd.DataFrame()\n",
    "\n",
    "    for i in range(1, max_community_size+1):\n",
    "        biomass_dict[i] = {}\n",
    "        \n",
    "\n",
    "\n",
    "    print(f\"Starting assembly sequence {assembly_seq}...\")\n",
    "    print('\\n\\n ************************************ \\n\\n')\n",
    "    \n",
    "    for seq_num in range(1, max_community_size+1):\n",
    "\n",
    "        print(f\"Starting sequence {seq_num}...\")\n",
    "\n",
    "        # first species\n",
    "        if seq_num == 1:\n",
    "            species_id = random.randint(1,20)\n",
    "            sp_id_list.append(species_id)\n",
    "            model = models[species_id]\n",
    "            comets_model1 = setup_comets_model(model1, f'model{species_id}', initial_pop)\n",
    "\n",
    "            # Create initial layout and run simulation for 4 hours\n",
    "            layout = setup_layout([comets_model1], diet_dict, dilution_rate)\n",
    "            simulation_dict[1] = run_simulation(layout, com_params, seq_num)\n",
    "\n",
    "            # Save biomass after 4 hours\n",
    "            species_biomass = simulation_dict[1].total_biomass.loc[simulation_dict[1].total_biomass['cycle'] == 40, f'model{species_id}'].values[0]\n",
    "            biomass_dict[1][f'model{species_id}'] = species_biomass\n",
    "            print('First species:', species_id, 'biomass:', species_biomass)\n",
    "            print('First species simulation done!')\n",
    "            print('\\n\\n ************************************ \\n\\n')\n",
    "            #print(layout_1.media)\n",
    "            #print(simulation_seq1.media)\n",
    "\n",
    "        else:\n",
    "            # Add a new species to the existing community\n",
    "            prev_biomass_dict = biomass_dict[seq_num-1]\n",
    "            invader_id = get_new_species_index(prev_biomass_dict) #randomly select a species\n",
    "            sp_id_list.append(invader_id)\n",
    "            print(f\"\\nAdding species {invader_id} to the community...\")\n",
    "\n",
    "            #get the diet concentrations from previous simulations\n",
    "            media_df_prev_sim = simulation_dict[seq_num-1].media.loc[simulation_dict[seq_num-1].media['cycle'] == 40].reset_index(drop=True)\n",
    "            updated_diet_dict = dict(zip(media_df_prev_sim['metabolite'], media_df_prev_sim['conc_mmol']))\n",
    "\n",
    "            layout_updated = setup_invader_layout(invader_id, diet_dict, prev_biomass_dict, dilution_rate, updated_diet_dict)\n",
    "\n",
    "            # Run simulation for 4 hours\n",
    "            simulation_dict[seq_num] = run_simulation(layout_updated, com_params, seq_num)\n",
    "\n",
    "            # Save biomass after 4 hours\n",
    "            for i in sp_id_list:\n",
    "                species_biomass = simulation_dict[seq_num].total_biomass.loc[simulation_dict[seq_num].total_biomass['cycle'] == 40, f'model{i}'].values[0]\n",
    "                biomass_dict[seq_num][f'model{i}'] = species_biomass\n",
    "\n",
    "            print(f'Simulation of sequence {seq_num} done!')\n",
    "            print('\\n\\n ************************************ \\n\\n')\n",
    "\n",
    "    for i in range(1, 11):  # Loop over the simulation_dict\n",
    "        temp_df = simulation_dict[i].biomass.copy()  # Make a copy of the DataFrame for iteration i\n",
    "        temp_df['seq_num'] = i  # Add the 'seq_num' column to the DataFrame\n",
    "        biomass_df = pd.concat([biomass_df,temp_df], ignore_index=True) \n",
    "\n",
    "    biomass_df.to_csv(f'results10x10/biomass_data_seq_invasion10x10_sequence{assembly_seq}.csv', index=False)\n",
    "    print('Assembly sequence', assembly_seq, 'done!')\n",
    "\n",
    "\n",
    "print('All simulations done!')\n",
    "\n"
   ]
  },
  {
   "cell_type": "code",
   "execution_count": 258,
   "metadata": {},
   "outputs": [
    {
     "data": {
      "image/png": "[encoded data removed]",
      "text/plain": [
       "<Figure size 1000x600 with 1 Axes>"
      ]
     },
     "metadata": {},
     "output_type": "display_data"
    }
   ],
   "source": [
    "# Plotting\n",
    "plt.figure(figsize=(10, 6))\n",
    "\n",
    "for model in df.columns:\n",
    "    plt.plot(df.index, df[model], marker='o', label=model)\n",
    "\n",
    "plt.xlabel('Invasion Sequence')\n",
    "plt.ylabel('Biomass')\n",
    "plt.title('Sequential Invasion Experiment Results')\n",
    "plt.legend(title='Models', bbox_to_anchor=(1.05, 1), loc='upper left')\n",
    "plt.tight_layout()\n",
    "\n",
    "plt.show()"
   ]
  },
  {
   "cell_type": "code",
   "execution_count": 248,
   "metadata": {},
   "outputs": [
    {
     "data": {
      "text/plain": [
       "[7, 13, 17, 19, 14, 16, 5, 6, 18, 4]"
      ]
     },
     "execution_count": 248,
     "metadata": {},
     "output_type": "execute_result"
    }
   ],
   "source": [
    "sp_id_list"
   ]
  }
 ],
 "metadata": {
  "kernelspec": {
   "display_name": "cometsenv",
   "language": "python",
   "name": "python3"
  },
  "language_info": {
   "codemirror_mode": {
    "name": "ipython",
    "version": 3
   },
   "file_extension": ".py",
   "mimetype": "text/x-python",
   "name": "python",
   "nbconvert_exporter": "python",
   "pygments_lexer": "ipython3",
   "version": "3.12.8"
  }
 },
 "nbformat": 4,
 "nbformat_minor": 2
}
